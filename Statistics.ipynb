{
 "cells": [
  {
   "cell_type": "code",
   "execution_count": 32,
   "metadata": {},
   "outputs": [
    {
     "data": {
      "text/plain": [
       "35"
      ]
     },
     "execution_count": 32,
     "metadata": {},
     "output_type": "execute_result"
    }
   ],
   "source": [
    "import pandas as pd\n",
    "import numpy as np\n",
    "import statistics\n",
    "import matplotlib.pyplot as plt\n",
    "%matplotlib inline\n",
    "\n",
    "df = pd.DataFrame()\n",
    "df['age'] = [28, 42, 27, 24, 35, 54, 35, 37]\n",
    "\n",
    "#mean median and mode\n",
    "np.mean(df['age'])\n",
    "\n",
    "np.median(df['age'])\n",
    "\n",
    "statistics.mode(df['age'])\n"
   ]
  },
  {
   "cell_type": "code",
   "execution_count": 11,
   "metadata": {},
   "outputs": [
    {
     "data": {
      "text/plain": [
       "80.9375"
      ]
     },
     "execution_count": 11,
     "metadata": {},
     "output_type": "execute_result"
    }
   ],
   "source": [
    "#calculating variance\n",
    "np.var(df.age)"
   ]
  },
  {
   "cell_type": "code",
   "execution_count": 14,
   "metadata": {},
   "outputs": [
    {
     "data": {
      "text/plain": [
       "9.617692030835672"
      ]
     },
     "execution_count": 14,
     "metadata": {},
     "output_type": "execute_result"
    }
   ],
   "source": [
    "#standard deviation, have to set Degrees of Freedom (ddof)\n",
    "np.std(df['age'], ddof=1)"
   ]
  },
  {
   "cell_type": "code",
   "execution_count": 15,
   "metadata": {},
   "outputs": [
    {
     "data": {
      "text/plain": [
       "3.4003676271838605"
      ]
     },
     "execution_count": 15,
     "metadata": {},
     "output_type": "execute_result"
    }
   ],
   "source": [
    "#standard error (se) is = standard deviation / sqrt of sample size(n)\n",
    "#to get n remember len(x) to count n \n",
    "np.std(df['age'], ddof=1) / np.sqrt(len(df['age']))"
   ]
  },
  {
   "cell_type": "code",
   "execution_count": 25,
   "metadata": {},
   "outputs": [
    {
     "data": {
      "image/png": "[encoded data removed]",
      "text/plain": [
       "<Figure size 432x288 with 2 Axes>"
      ]
     },
     "metadata": {
      "needs_background": "light"
     },
     "output_type": "display_data"
    },
    {
     "name": "stdout",
     "output_type": "stream",
     "text": [
      "low_var      99.441942\n",
      "high_var    465.364505\n",
      "dtype: float64\n",
      "low_var      24.000478\n",
      "high_var   -308.901053\n",
      "dtype: float64\n"
     ]
    }
   ],
   "source": [
    "#testing what low variance vs high variance graphing looks like. Both have same mean of '60'\n",
    "#low var has a std of 10 while high var has variance of 100\n",
    "pop=pd.DataFrame()\n",
    "pop['low_var']=np.random.normal(60, 10, 10000)\n",
    "pop['high_var']=np.random.normal(60, 100, 10000)\n",
    "pop.hist(layout=(2, 1), sharex=True)\n",
    "plt.tight_layout()\n",
    "plt.show()\n",
    "\n",
    "print(pop.max())\n",
    "print(pop.min())\n"
   ]
  },
  {
   "cell_type": "code",
   "execution_count": 31,
   "metadata": {},
   "outputs": [
    {
     "data": {
      "image/png": "[encoded data removed]",
      "text/plain": [
       "<Figure size 432x288 with 2 Axes>"
      ]
     },
     "metadata": {
      "needs_background": "light"
     },
     "output_type": "display_data"
    },
    {
     "name": "stdout",
     "output_type": "stream",
     "text": [
      "low_var     60.570977\n",
      "high_var    58.627346\n",
      "dtype: float64\n",
      "low_var      9.255402\n",
      "high_var    89.941829\n",
      "dtype: float64\n"
     ]
    }
   ],
   "source": [
    "#lets look at taking data from both high and low variance\n",
    "#as I started increasing the population size the means of both high and low started getting closer and closer together\n",
    "#giving me the TRUE MEAN\n",
    "sample = pd.DataFrame()\n",
    "sample['low_var']=np.random.choice(pop['low_var'], 100)\n",
    "sample['high_var']=np.random.choice(pop['high_var'], 100)\n",
    "sample.hist()\n",
    "plt.show()\n",
    "\n",
    "print(sample.mean())\n",
    "print(sample.std(ddof=1))"
   ]
  },
  {
   "cell_type": "code",
   "execution_count": 34,
   "metadata": {},
   "outputs": [
    {
     "data": {
      "text/html": [
       "<div>\n",
       "<style scoped>\n",
       "    .dataframe tbody tr th:only-of-type {\n",
       "        vertical-align: middle;\n",
       "    }\n",
       "\n",
       "    .dataframe tbody tr th {\n",
       "        vertical-align: top;\n",
       "    }\n",
       "\n",
       "    .dataframe thead th {\n",
       "        text-align: right;\n",
       "    }\n",
       "</style>\n",
       "<table border=\"1\" class=\"dataframe\">\n",
       "  <thead>\n",
       "    <tr style=\"text-align: right;\">\n",
       "      <th></th>\n",
       "      <th>gender</th>\n",
       "      <th>height</th>\n",
       "      <th>weight</th>\n",
       "    </tr>\n",
       "  </thead>\n",
       "  <tbody>\n",
       "    <tr>\n",
       "      <th>0</th>\n",
       "      <td>male</td>\n",
       "      <td>78.243069</td>\n",
       "      <td>201.960146</td>\n",
       "    </tr>\n",
       "    <tr>\n",
       "      <th>1</th>\n",
       "      <td>male</td>\n",
       "      <td>71.049168</td>\n",
       "      <td>209.990600</td>\n",
       "    </tr>\n",
       "    <tr>\n",
       "      <th>2</th>\n",
       "      <td>male</td>\n",
       "      <td>76.237896</td>\n",
       "      <td>188.757859</td>\n",
       "    </tr>\n",
       "    <tr>\n",
       "      <th>3</th>\n",
       "      <td>male</td>\n",
       "      <td>70.732163</td>\n",
       "      <td>173.557656</td>\n",
       "    </tr>\n",
       "    <tr>\n",
       "      <th>4</th>\n",
       "      <td>male</td>\n",
       "      <td>66.461917</td>\n",
       "      <td>184.603976</td>\n",
       "    </tr>\n",
       "  </tbody>\n",
       "</table>\n",
       "</div>"
      ],
      "text/plain": [
       "  gender     height      weight\n",
       "0   male  78.243069  201.960146\n",
       "1   male  71.049168  209.990600\n",
       "2   male  76.237896  188.757859\n",
       "3   male  70.732163  173.557656\n",
       "4   male  66.461917  184.603976"
      ]
     },
     "execution_count": 34,
     "metadata": {},
     "output_type": "execute_result"
    }
   ],
   "source": [
    "#Lets set up some data here male vs female height and weight\n",
    "data = pd.DataFrame()\n",
    "data['gender'] = ['male'] * 100 + ['female'] * 100\n",
    "data['height'] = np.append(np.random.normal(69, 8, 100), np.random.normal(64, 5, 100))\n",
    "data['weight'] = np.append(np.random.normal(195, 25, 100), np.random.normal(166, 15, 100))\n",
    "data.head()"
   ]
  },
  {
   "cell_type": "code",
   "execution_count": 42,
   "metadata": {},
   "outputs": [
    {
     "data": {
      "text/plain": [
       "24.128810158035606"
      ]
     },
     "execution_count": 42,
     "metadata": {},
     "output_type": "execute_result"
    }
   ],
   "source": [
    "data.height.mean()\n",
    "data.weight.std(ddof=1)"
   ]
  },
  {
   "cell_type": "code",
   "execution_count": 44,
   "metadata": {},
   "outputs": [
    {
     "data": {
      "text/html": [
       "<div>\n",
       "<style scoped>\n",
       "    .dataframe tbody tr th:only-of-type {\n",
       "        vertical-align: middle;\n",
       "    }\n",
       "\n",
       "    .dataframe tbody tr th {\n",
       "        vertical-align: top;\n",
       "    }\n",
       "\n",
       "    .dataframe thead tr th {\n",
       "        text-align: left;\n",
       "    }\n",
       "\n",
       "    .dataframe thead tr:last-of-type th {\n",
       "        text-align: right;\n",
       "    }\n",
       "</style>\n",
       "<table border=\"1\" class=\"dataframe\">\n",
       "  <thead>\n",
       "    <tr>\n",
       "      <th></th>\n",
       "      <th colspan=\"8\" halign=\"left\">height</th>\n",
       "      <th colspan=\"8\" halign=\"left\">weight</th>\n",
       "    </tr>\n",
       "    <tr>\n",
       "      <th></th>\n",
       "      <th>count</th>\n",
       "      <th>mean</th>\n",
       "      <th>std</th>\n",
       "      <th>min</th>\n",
       "      <th>25%</th>\n",
       "      <th>50%</th>\n",
       "      <th>75%</th>\n",
       "      <th>max</th>\n",
       "      <th>count</th>\n",
       "      <th>mean</th>\n",
       "      <th>std</th>\n",
       "      <th>min</th>\n",
       "      <th>25%</th>\n",
       "      <th>50%</th>\n",
       "      <th>75%</th>\n",
       "      <th>max</th>\n",
       "    </tr>\n",
       "    <tr>\n",
       "      <th>gender</th>\n",
       "      <th></th>\n",
       "      <th></th>\n",
       "      <th></th>\n",
       "      <th></th>\n",
       "      <th></th>\n",
       "      <th></th>\n",
       "      <th></th>\n",
       "      <th></th>\n",
       "      <th></th>\n",
       "      <th></th>\n",
       "      <th></th>\n",
       "      <th></th>\n",
       "      <th></th>\n",
       "      <th></th>\n",
       "      <th></th>\n",
       "      <th></th>\n",
       "    </tr>\n",
       "  </thead>\n",
       "  <tbody>\n",
       "    <tr>\n",
       "      <th>female</th>\n",
       "      <td>100.0</td>\n",
       "      <td>64.318202</td>\n",
       "      <td>5.103851</td>\n",
       "      <td>51.982236</td>\n",
       "      <td>60.839810</td>\n",
       "      <td>64.859219</td>\n",
       "      <td>67.210730</td>\n",
       "      <td>78.656856</td>\n",
       "      <td>100.0</td>\n",
       "      <td>166.175953</td>\n",
       "      <td>15.246569</td>\n",
       "      <td>137.738208</td>\n",
       "      <td>154.496432</td>\n",
       "      <td>166.344730</td>\n",
       "      <td>175.521708</td>\n",
       "      <td>206.150063</td>\n",
       "    </tr>\n",
       "    <tr>\n",
       "      <th>male</th>\n",
       "      <td>100.0</td>\n",
       "      <td>69.952675</td>\n",
       "      <td>6.969670</td>\n",
       "      <td>53.692137</td>\n",
       "      <td>65.034533</td>\n",
       "      <td>69.995884</td>\n",
       "      <td>74.605426</td>\n",
       "      <td>87.948686</td>\n",
       "      <td>100.0</td>\n",
       "      <td>192.944948</td>\n",
       "      <td>23.998193</td>\n",
       "      <td>128.949672</td>\n",
       "      <td>178.308639</td>\n",
       "      <td>190.367056</td>\n",
       "      <td>209.860406</td>\n",
       "      <td>258.035668</td>\n",
       "    </tr>\n",
       "  </tbody>\n",
       "</table>\n",
       "</div>"
      ],
      "text/plain": [
       "       height                                                        \\\n",
       "        count       mean       std        min        25%        50%   \n",
       "gender                                                                \n",
       "female  100.0  64.318202  5.103851  51.982236  60.839810  64.859219   \n",
       "male    100.0  69.952675  6.969670  53.692137  65.034533  69.995884   \n",
       "\n",
       "                             weight                                     \\\n",
       "              75%        max  count        mean        std         min   \n",
       "gender                                                                   \n",
       "female  67.210730  78.656856  100.0  166.175953  15.246569  137.738208   \n",
       "male    74.605426  87.948686  100.0  192.944948  23.998193  128.949672   \n",
       "\n",
       "                                                        \n",
       "               25%         50%         75%         max  \n",
       "gender                                                  \n",
       "female  154.496432  166.344730  175.521708  206.150063  \n",
       "male    178.308639  190.367056  209.860406  258.035668  "
      ]
     },
     "execution_count": 44,
     "metadata": {},
     "output_type": "execute_result"
    }
   ],
   "source": [
    "data.describe()\n",
    "data.groupby('gender').describe()"
   ]
  },
  {
   "cell_type": "code",
   "execution_count": 45,
   "metadata": {},
   "outputs": [
    {
     "data": {
      "text/plain": [
       "male      100\n",
       "female    100\n",
       "Name: gender, dtype: int64"
      ]
     },
     "execution_count": 45,
     "metadata": {},
     "output_type": "execute_result"
    }
   ],
   "source": [
    "#counts\n",
    "data.gender.value_counts()"
   ]
  },
  {
   "cell_type": "code",
   "execution_count": 47,
   "metadata": {},
   "outputs": [
    {
     "data": {
      "text/plain": [
       "177.892469    1\n",
       "215.312059    1\n",
       "207.727618    1\n",
       "163.419994    1\n",
       "183.636138    1\n",
       "Name: weight, dtype: int64"
      ]
     },
     "execution_count": 47,
     "metadata": {},
     "output_type": "execute_result"
    }
   ],
   "source": [
    "data.weight.value_counts().head()"
   ]
  },
  {
   "cell_type": "code",
   "execution_count": 55,
   "metadata": {},
   "outputs": [
    {
     "data": {
      "text/plain": [
       "13.0"
      ]
     },
     "execution_count": 55,
     "metadata": {},
     "output_type": "execute_result"
    }
   ],
   "source": [
    "#Brady Bunch children data\n",
    "brady = pd.DataFrame()\n",
    "brady['age'] = [14, 12, 11, 10, 8, 7, 8]\n",
    "\n",
    "np.mean(brady['age'])\n",
    "#mean is 9.857\n",
    "np.median(brady['age'])\n",
    "#median is 10.0\n",
    "statistics.mode(brady['age'])\n",
    "#mode is 8\n",
    "brady['age'].var()\n",
    "#variance is 7.476\n",
    "brady['age'].std(ddof=1)\n",
    "#Standard deviation is 2.734\n",
    "\n",
    "brady['age'].std(ddof=1) / np.sqrt(len(brady['age']))\n",
    "#standard error is 1.033\n",
    "\n",
    "#I don't know what question 2 means (central tendency vs variance)\n",
    "#For question 2 I think  we choose central tendency method as data is quite close together\n",
    "\n",
    "#After updating Cindy's age from 6 -> 7\n",
    "#Standard error shrinks to 0.9511, mean increases, variance decreases, standard deviation decreases\n",
    "\n",
    "#If we get rid of Cousin Oliver (Age 8) and replace him with 1 year old child variance and standard deviation\n",
    "#will increase quite a bit. This would lead me to assume we would choose the variance estimation methods\n",
    "#still unclear on what that means, however\n",
    "\n",
    "(20+23+17+5) / 5\n",
    "# percent of population that are fans of the Brady Bunch 50 years later is %13.0\n",
    "#Upon reading the answer it seems that we should not include the \"SciPhi Fanatic\" magazine data as it is a niche\n",
    "#part of the population so if we average the other 3, fans of the show are actually 20% of the pop.\n",
    "\n",
    "\n"
   ]
  },
  {
   "cell_type": "code",
   "execution_count": null,
   "metadata": {},
   "outputs": [],
   "source": []
  }
 ],
 "metadata": {
  "kernelspec": {
   "display_name": "Python 3",
   "language": "python",
   "name": "python3"
  },
  "language_info": {
   "codemirror_mode": {
    "name": "ipython",
    "version": 3
   },
   "file_extension": ".py",
   "mimetype": "text/x-python",
   "name": "python",
   "nbconvert_exporter": "python",
   "pygments_lexer": "ipython3",
   "version": "3.7.0"
  }
 },
 "nbformat": 4,
 "nbformat_minor": 2
}
