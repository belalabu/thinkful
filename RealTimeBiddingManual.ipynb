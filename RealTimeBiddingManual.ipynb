{
 "cells": [
  {
   "cell_type": "code",
   "execution_count": 1,
   "metadata": {},
   "outputs": [],
   "source": [
    "import pandas as pd\n",
    "import numpy as np\n",
    "import scipy\n",
    "import matplotlib.pyplot as plt\n",
    "import seaborn as sns\n",
    "sns.set_style('darkgrid')\n",
    "%matplotlib inline\n",
    "\n",
    "def warn(*args, **kwargs):\n",
    "    pass\n",
    "import warnings\n",
    "warnings.warn = warn"
   ]
  },
  {
   "cell_type": "code",
   "execution_count": 2,
   "metadata": {},
   "outputs": [],
   "source": [
    "data = pd.read_csv('biddings.csv')\n",
    "dfo = pd.DataFrame(data)\n"
   ]
  },
  {
   "cell_type": "code",
   "execution_count": 16,
   "metadata": {},
   "outputs": [],
   "source": [
    "dfo = dfo.sort_values(by=['convert'])\n",
    "dfo = dfo.reset_index(drop=True)\n",
    "df1 = dfo.drop(dfo.index[0:997500])\n"
   ]
  },
  {
   "cell_type": "code",
   "execution_count": 17,
   "metadata": {},
   "outputs": [
    {
     "data": {
      "text/html": [
       "<div>\n",
       "<style scoped>\n",
       "    .dataframe tbody tr th:only-of-type {\n",
       "        vertical-align: middle;\n",
       "    }\n",
       "\n",
       "    .dataframe tbody tr th {\n",
       "        vertical-align: top;\n",
       "    }\n",
       "\n",
       "    .dataframe thead th {\n",
       "        text-align: right;\n",
       "    }\n",
       "</style>\n",
       "<table border=\"1\" class=\"dataframe\">\n",
       "  <thead>\n",
       "    <tr style=\"text-align: right;\">\n",
       "      <th></th>\n",
       "      <th>0</th>\n",
       "      <th>1</th>\n",
       "      <th>2</th>\n",
       "      <th>3</th>\n",
       "      <th>4</th>\n",
       "      <th>5</th>\n",
       "      <th>6</th>\n",
       "      <th>7</th>\n",
       "      <th>8</th>\n",
       "      <th>9</th>\n",
       "      <th>...</th>\n",
       "      <th>79</th>\n",
       "      <th>80</th>\n",
       "      <th>81</th>\n",
       "      <th>82</th>\n",
       "      <th>83</th>\n",
       "      <th>84</th>\n",
       "      <th>85</th>\n",
       "      <th>86</th>\n",
       "      <th>87</th>\n",
       "      <th>convert</th>\n",
       "    </tr>\n",
       "  </thead>\n",
       "  <tbody>\n",
       "    <tr>\n",
       "      <th>2495</th>\n",
       "      <td>-0.02</td>\n",
       "      <td>2.33</td>\n",
       "      <td>-3.71</td>\n",
       "      <td>-0.10</td>\n",
       "      <td>-0.94</td>\n",
       "      <td>0.40</td>\n",
       "      <td>-7.08</td>\n",
       "      <td>-1.26</td>\n",
       "      <td>0.82</td>\n",
       "      <td>-0.46</td>\n",
       "      <td>...</td>\n",
       "      <td>-0.09</td>\n",
       "      <td>0.70</td>\n",
       "      <td>0.31</td>\n",
       "      <td>0.02</td>\n",
       "      <td>0.49</td>\n",
       "      <td>0.06</td>\n",
       "      <td>0.09</td>\n",
       "      <td>0.45</td>\n",
       "      <td>-0.12</td>\n",
       "      <td>1</td>\n",
       "    </tr>\n",
       "    <tr>\n",
       "      <th>2496</th>\n",
       "      <td>0.01</td>\n",
       "      <td>1.88</td>\n",
       "      <td>-1.23</td>\n",
       "      <td>-0.70</td>\n",
       "      <td>0.98</td>\n",
       "      <td>0.22</td>\n",
       "      <td>-1.39</td>\n",
       "      <td>0.05</td>\n",
       "      <td>-0.16</td>\n",
       "      <td>-0.58</td>\n",
       "      <td>...</td>\n",
       "      <td>0.15</td>\n",
       "      <td>0.22</td>\n",
       "      <td>-0.64</td>\n",
       "      <td>-0.10</td>\n",
       "      <td>-0.03</td>\n",
       "      <td>0.35</td>\n",
       "      <td>-0.02</td>\n",
       "      <td>0.56</td>\n",
       "      <td>-0.17</td>\n",
       "      <td>1</td>\n",
       "    </tr>\n",
       "    <tr>\n",
       "      <th>2497</th>\n",
       "      <td>-0.01</td>\n",
       "      <td>-1.18</td>\n",
       "      <td>1.99</td>\n",
       "      <td>-0.63</td>\n",
       "      <td>0.79</td>\n",
       "      <td>0.28</td>\n",
       "      <td>0.13</td>\n",
       "      <td>0.50</td>\n",
       "      <td>-0.32</td>\n",
       "      <td>0.96</td>\n",
       "      <td>...</td>\n",
       "      <td>-0.06</td>\n",
       "      <td>-1.41</td>\n",
       "      <td>0.24</td>\n",
       "      <td>0.83</td>\n",
       "      <td>-0.10</td>\n",
       "      <td>0.47</td>\n",
       "      <td>-0.17</td>\n",
       "      <td>0.42</td>\n",
       "      <td>-0.13</td>\n",
       "      <td>1</td>\n",
       "    </tr>\n",
       "    <tr>\n",
       "      <th>2498</th>\n",
       "      <td>0.09</td>\n",
       "      <td>-8.92</td>\n",
       "      <td>-4.29</td>\n",
       "      <td>0.38</td>\n",
       "      <td>-1.54</td>\n",
       "      <td>-1.63</td>\n",
       "      <td>2.09</td>\n",
       "      <td>-2.65</td>\n",
       "      <td>2.59</td>\n",
       "      <td>-4.74</td>\n",
       "      <td>...</td>\n",
       "      <td>0.02</td>\n",
       "      <td>0.13</td>\n",
       "      <td>-0.07</td>\n",
       "      <td>0.44</td>\n",
       "      <td>-0.01</td>\n",
       "      <td>0.05</td>\n",
       "      <td>0.09</td>\n",
       "      <td>-0.27</td>\n",
       "      <td>0.03</td>\n",
       "      <td>1</td>\n",
       "    </tr>\n",
       "    <tr>\n",
       "      <th>2499</th>\n",
       "      <td>-0.01</td>\n",
       "      <td>-0.76</td>\n",
       "      <td>-4.40</td>\n",
       "      <td>-0.19</td>\n",
       "      <td>-0.76</td>\n",
       "      <td>2.45</td>\n",
       "      <td>0.92</td>\n",
       "      <td>-0.50</td>\n",
       "      <td>-0.18</td>\n",
       "      <td>0.01</td>\n",
       "      <td>...</td>\n",
       "      <td>0.01</td>\n",
       "      <td>-1.22</td>\n",
       "      <td>0.24</td>\n",
       "      <td>0.22</td>\n",
       "      <td>0.31</td>\n",
       "      <td>0.10</td>\n",
       "      <td>0.13</td>\n",
       "      <td>-0.17</td>\n",
       "      <td>0.08</td>\n",
       "      <td>1</td>\n",
       "    </tr>\n",
       "  </tbody>\n",
       "</table>\n",
       "<p>5 rows × 89 columns</p>\n",
       "</div>"
      ],
      "text/plain": [
       "         0     1     2     3     4     5     6     7     8     9   ...     \\\n",
       "2495 -0.02  2.33 -3.71 -0.10 -0.94  0.40 -7.08 -1.26  0.82 -0.46   ...      \n",
       "2496  0.01  1.88 -1.23 -0.70  0.98  0.22 -1.39  0.05 -0.16 -0.58   ...      \n",
       "2497 -0.01 -1.18  1.99 -0.63  0.79  0.28  0.13  0.50 -0.32  0.96   ...      \n",
       "2498  0.09 -8.92 -4.29  0.38 -1.54 -1.63  2.09 -2.65  2.59 -4.74   ...      \n",
       "2499 -0.01 -0.76 -4.40 -0.19 -0.76  2.45  0.92 -0.50 -0.18  0.01   ...      \n",
       "\n",
       "        79    80    81    82    83    84    85    86    87  convert  \n",
       "2495 -0.09  0.70  0.31  0.02  0.49  0.06  0.09  0.45 -0.12        1  \n",
       "2496  0.15  0.22 -0.64 -0.10 -0.03  0.35 -0.02  0.56 -0.17        1  \n",
       "2497 -0.06 -1.41  0.24  0.83 -0.10  0.47 -0.17  0.42 -0.13        1  \n",
       "2498  0.02  0.13 -0.07  0.44 -0.01  0.05  0.09 -0.27  0.03        1  \n",
       "2499  0.01 -1.22  0.24  0.22  0.31  0.10  0.13 -0.17  0.08        1  \n",
       "\n",
       "[5 rows x 89 columns]"
      ]
     },
     "execution_count": 17,
     "metadata": {},
     "output_type": "execute_result"
    }
   ],
   "source": [
    "df = df1.reset_index(drop=True)\n",
    "df.tail()"
   ]
  },
  {
   "cell_type": "code",
   "execution_count": 18,
   "metadata": {},
   "outputs": [
    {
     "data": {
      "text/plain": [
       "1    1908\n",
       "0     592\n",
       "Name: convert, dtype: int64"
      ]
     },
     "execution_count": 18,
     "metadata": {},
     "output_type": "execute_result"
    }
   ],
   "source": [
    "#Convert column = shown ad was clicked: 1 = clicked ad\n",
    "df.convert.value_counts()"
   ]
  },
  {
   "cell_type": "markdown",
   "metadata": {},
   "source": [
    "### Severely underbalanced\n",
    "\n",
    "Converted accounts for 1908/999999 = .191% of our data\n",
    "\n",
    "We will have to oversample or undersample our target. Most likely undersample to minimize our noise\n",
    "\n",
    "I will use RandomUnderSampler, NearMiss, and EditedNearestNeighbors\n",
    "to underersample our target here first to get baselines"
   ]
  },
  {
   "cell_type": "code",
   "execution_count": 19,
   "metadata": {},
   "outputs": [],
   "source": [
    "from sklearn.model_selection import train_test_split\n",
    "\n",
    "x = df.drop(['convert'],axis=1) #training features\n",
    "y = df.convert #target\n",
    "\n",
    "#Need to set our train/test values before undersampling\n",
    "x_train, x_test, y_train, y_test = train_test_split(x, y,\n",
    "                                                  test_size = .10)"
   ]
  },
  {
   "cell_type": "code",
   "execution_count": 20,
   "metadata": {},
   "outputs": [
    {
     "data": {
      "text/plain": [
       "1    180\n",
       "0     70\n",
       "Name: convert, dtype: int64"
      ]
     },
     "execution_count": 20,
     "metadata": {},
     "output_type": "execute_result"
    }
   ],
   "source": [
    "y_test.value_counts()"
   ]
  },
  {
   "cell_type": "code",
   "execution_count": 21,
   "metadata": {},
   "outputs": [
    {
     "name": "stdout",
     "output_type": "stream",
     "text": [
      "Training accuracy LinearSVC is: 0.7768888888888889\n",
      "Test accuracy LinearSVC is: 0.728\n",
      "Cross Val LinearSVC Accuracy: 0.76 (+/- 0.02)\n",
      "              precision    recall  f1-score   support\n",
      "\n",
      "           0       0.58      0.10      0.17        70\n",
      "           1       0.74      0.97      0.84       180\n",
      "\n",
      "   micro avg       0.73      0.73      0.73       250\n",
      "   macro avg       0.66      0.54      0.50       250\n",
      "weighted avg       0.69      0.73      0.65       250\n",
      "\n"
     ]
    }
   ],
   "source": [
    "#First model using our undersampled data (RandomUnderSampler)\n",
    "from sklearn.svm import LinearSVC\n",
    "from sklearn.model_selection import cross_val_score\n",
    "from sklearn.metrics import classification_report\n",
    "\n",
    "clf = LinearSVC()\n",
    "clf.fit(x_train, y_train) \n",
    "\n",
    "print('Training accuracy LinearSVC is: {}'.format(clf.score(x_train, y_train)))\n",
    "print('Test accuracy LinearSVC is: {}'.format(clf.score(x_test, y_test)))\n",
    "\n",
    "scores = cross_val_score(clf, x_train, y_train, cv=5)\n",
    "print(\"Cross Val LinearSVC Accuracy: %0.2f (+/- %0.2f)\" % (scores.mean(), scores.std() * 2))\n",
    "\n",
    "y_pred = clf.predict(x_test) #predict y based on x_test\n",
    "print(classification_report(y_test, y_pred)) #true value vs predicted value"
   ]
  },
  {
   "cell_type": "code",
   "execution_count": 30,
   "metadata": {},
   "outputs": [
    {
     "name": "stdout",
     "output_type": "stream",
     "text": [
      "Training accuracy normal RandomForest is: 0.7871111111111111\n",
      "Test accuracy normal RandomForest is: 0.74\n",
      "Cross Val LinearSVC Accuracy: 0.77 (+/- 0.00)\n",
      "              precision    recall  f1-score   support\n",
      "\n",
      "           0       1.00      0.07      0.13        70\n",
      "           1       0.73      1.00      0.85       180\n",
      "\n",
      "   micro avg       0.74      0.74      0.74       250\n",
      "   macro avg       0.87      0.54      0.49       250\n",
      "weighted avg       0.81      0.74      0.65       250\n",
      "\n"
     ]
    }
   ],
   "source": [
    "from sklearn import ensemble\n",
    "\n",
    "params = {'n_estimators': 100,\n",
    "          'max_features': 'sqrt',\n",
    "          'max_depth': 6}\n",
    "\n",
    "rfc = ensemble.RandomForestClassifier(**params)\n",
    "rfc.fit(x_train, y_train)\n",
    "\n",
    "print('Training accuracy normal RandomForest is: {}'.format(rfc.score(x_train, y_train)))\n",
    "print('Test accuracy normal RandomForest is: {}'.format(rfc.score(x_test, y_test)))\n",
    "\n",
    "scores = cross_val_score(rfc, x_train, y_train, cv=5)\n",
    "print(\"Cross Val LinearSVC Accuracy: %0.2f (+/- %0.2f)\" % (scores.mean(), scores.std() * 2))\n",
    "\n",
    "y_pred = rfc.predict(x_test) #predict y based on x_test\n",
    "print(classification_report(y_test, y_pred)) #true value vs predicted value"
   ]
  },
  {
   "cell_type": "code",
   "execution_count": 23,
   "metadata": {},
   "outputs": [
    {
     "name": "stdout",
     "output_type": "stream",
     "text": [
      "Training accuracy normal GradientBoosting is: 0.9946666666666667\n",
      "Test accuracy normal GradientBoosting is: 0.724\n",
      "CrossVal GradientBoosting Accuracy: 0.76 (+/- 0.02)\n",
      "              precision    recall  f1-score   support\n",
      "\n",
      "           0       0.52      0.19      0.27        70\n",
      "           1       0.75      0.93      0.83       180\n",
      "\n",
      "   micro avg       0.72      0.72      0.72       250\n",
      "   macro avg       0.63      0.56      0.55       250\n",
      "weighted avg       0.68      0.72      0.67       250\n",
      "\n"
     ]
    }
   ],
   "source": [
    "params = {'n_estimators': 250,\n",
    "          'max_features': 'sqrt',\n",
    "          'max_depth': 8}\n",
    "\n",
    "clf1 = ensemble.GradientBoostingClassifier(**params)\n",
    "clf1.fit(x_train, y_train)\n",
    "\n",
    "print('Training accuracy normal GradientBoosting is: {}'.format(clf1.score(x_train, y_train)))\n",
    "print('Test accuracy normal GradientBoosting is: {}'.format(clf1.score(x_test, y_test)))\n",
    "\n",
    "scores = cross_val_score(clf1, x_train, y_train, cv=5)\n",
    "print(\"CrossVal GradientBoosting Accuracy: %0.2f (+/- %0.2f)\" % (scores.mean(),scores.std() * 2))\n",
    "\n",
    "y_pred = clf1.predict(x_test) #predict y based on x_test\n",
    "print(classification_report(y_test, y_pred)) #true value vs predicted value"
   ]
  },
  {
   "cell_type": "code",
   "execution_count": 24,
   "metadata": {},
   "outputs": [
    {
     "data": {
      "text/plain": [
       "0.5361111111111111"
      ]
     },
     "execution_count": 24,
     "metadata": {},
     "output_type": "execute_result"
    }
   ],
   "source": [
    "from sklearn.metrics import balanced_accuracy_score\n",
    "from sklearn.metrics import f1_score\n",
    "\n",
    "y_pred = clf.predict(x_test) #predict y based on x_test\n",
    "balanced_accuracy_score(y_test, y_pred)"
   ]
  },
  {
   "cell_type": "code",
   "execution_count": 25,
   "metadata": {},
   "outputs": [
    {
     "data": {
      "text/plain": [
       "0.8373205741626794"
      ]
     },
     "execution_count": 25,
     "metadata": {},
     "output_type": "execute_result"
    }
   ],
   "source": [
    "f1_score(y_test, y_pred)"
   ]
  },
  {
   "cell_type": "code",
   "execution_count": 26,
   "metadata": {},
   "outputs": [
    {
     "name": "stdout",
     "output_type": "stream",
     "text": [
      "1.51 ms ± 473 µs per loop (mean ± std. dev. of 7 runs, 100 loops each)\n"
     ]
    }
   ],
   "source": [
    "%timeit clf.predict(df.iloc[5:6, 0:88] )"
   ]
  },
  {
   "cell_type": "code",
   "execution_count": 31,
   "metadata": {},
   "outputs": [
    {
     "name": "stdout",
     "output_type": "stream",
     "text": [
      "Training accuracy Logistic is: 0.7755555555555556\n",
      "Test accuracy Logistic is: 0.736\n",
      "Cross Val Logistic Accuracy: 0.76 (+/- 0.02)\n",
      "              precision    recall  f1-score   support\n",
      "\n",
      "           0       0.62      0.14      0.23        70\n",
      "           1       0.74      0.97      0.84       180\n",
      "\n",
      "   micro avg       0.74      0.74      0.74       250\n",
      "   macro avg       0.68      0.55      0.54       250\n",
      "weighted avg       0.71      0.74      0.67       250\n",
      "\n"
     ]
    }
   ],
   "source": [
    "from sklearn.linear_model import LogisticRegression\n",
    "log = LogisticRegression().fit(x_train, y_train)\n",
    "\n",
    "print('Training accuracy Logistic is: {}'.format(log.score(x_train, y_train)))\n",
    "print('Test accuracy Logistic is: {}'.format(log.score(x_test, y_test)))\n",
    "\n",
    "scores = cross_val_score(log, x_train, y_train, cv=5)\n",
    "print(\"Cross Val Logistic Accuracy: %0.2f (+/- %0.2f)\" % (scores.mean(), scores.std() * 2))\n",
    "\n",
    "y_pred = log.predict(x_test) #predict y based on x_test\n",
    "print(classification_report(y_test, y_pred)) #true value vs predicted value"
   ]
  },
  {
   "cell_type": "code",
   "execution_count": 15,
   "metadata": {},
   "outputs": [
    {
     "data": {
      "text/plain": [
       "{'max_depth': 8, 'max_features': 'sqrt', 'n_estimators': 100}"
      ]
     },
     "execution_count": 15,
     "metadata": {},
     "output_type": "execute_result"
    }
   ],
   "source": [
    "from sklearn.model_selection import GridSearchCV\n",
    "\n",
    "param_grid = { \n",
    "    'n_estimators': [100, 250],\n",
    "    'max_features': ['sqrt'],\n",
    "    'max_depth' : [5,6,7,8]\n",
    "}\n",
    "\n",
    "CV_clf = GridSearchCV(estimator=clf1, param_grid=param_grid, cv= 4)\n",
    "CV_clf.fit(x_train, y_train)\n",
    "\n",
    "CV_clf.best_params_"
   ]
  },
  {
   "cell_type": "code",
   "execution_count": null,
   "metadata": {},
   "outputs": [],
   "source": []
  }
 ],
 "metadata": {
  "kernelspec": {
   "display_name": "Python 3",
   "language": "python",
   "name": "python3"
  },
  "language_info": {
   "codemirror_mode": {
    "name": "ipython",
    "version": 3
   },
   "file_extension": ".py",
   "mimetype": "text/x-python",
   "name": "python",
   "nbconvert_exporter": "python",
   "pygments_lexer": "ipython3",
   "version": "3.7.2"
  }
 },
 "nbformat": 4,
 "nbformat_minor": 2
}
