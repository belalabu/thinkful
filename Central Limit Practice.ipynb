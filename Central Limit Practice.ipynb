{
 "cells": [
  {
   "cell_type": "code",
   "execution_count": 11,
   "metadata": {},
   "outputs": [
    {
     "data": {
      "image/png": "[encoded data removed]",
      "text/plain": [
       "<Figure size 432x288 with 1 Axes>"
      ]
     },
     "metadata": {
      "needs_background": "light"
     },
     "output_type": "display_data"
    },
    {
     "name": "stdout",
     "output_type": "stream",
     "text": [
      "1.3744453426746368\n",
      "1.4945233353815521\n",
      "2.03\n",
      "4.92\n",
      "2.89\n"
     ]
    }
   ],
   "source": [
    "import pandas as pd\n",
    "import numpy as np\n",
    "import matplotlib.pyplot as plt\n",
    "%matplotlib inline\n",
    "import scipy\n",
    "\n",
    "pop1 = np.random.binomial(10, 0.2, 10000)\n",
    "pop2 = np.random.binomial(10, 0.5, 10000)\n",
    "\n",
    "sample1 = np.random.choice(pop1, 100, replace=True)\n",
    "sample2 = np.random.choice(pop2, 100, replace=True)\n",
    "\n",
    "plt.hist(sample1, alpha=.5, label='sample1')\n",
    "plt.hist(sample2, alpha=.5, label='sample2')\n",
    "plt.legend(loc='upper right')\n",
    "plt.show()\n",
    "\n",
    "print(sample1.std())\n",
    "print(sample2.std())\n",
    "print(sample1.mean())\n",
    "print(sample2.mean())\n",
    "diff = (sample2.mean()-sample1.mean())\n",
    "print(diff)\n",
    "\n",
    "#When changing sample size from 100 to 1000 the diff gets smaller\n",
    "#When reducing sample size from 100 to 20, the diff gets larger\n"
   ]
  },
  {
   "cell_type": "code",
   "execution_count": 12,
   "metadata": {},
   "outputs": [
    {
     "data": {
      "image/png": "[encoded data removed]",
      "text/plain": [
       "<Figure size 432x288 with 1 Axes>"
      ]
     },
     "metadata": {
      "needs_background": "light"
     },
     "output_type": "display_data"
    },
    {
     "name": "stdout",
     "output_type": "stream",
     "text": [
      "1.206641620366213\n",
      "1.5734497132097993\n",
      "2.004\n",
      "4.984\n",
      "2.98\n"
     ]
    }
   ],
   "source": [
    "sample1 = np.random.choice(pop1, 1000, replace=True)\n",
    "sample2 = np.random.choice(pop2, 1000, replace=True)\n",
    "\n",
    "plt.hist(sample1, alpha=.5, label='sample1')\n",
    "plt.hist(sample2, alpha=.5, label='sample2')\n",
    "plt.legend(loc='upper right')\n",
    "plt.show()\n",
    "\n",
    "print(sample1.std())\n",
    "print(sample2.std())\n",
    "print(sample1.mean())\n",
    "print(sample2.mean())\n",
    "diff = (sample2.mean()-sample1.mean())\n",
    "print(diff)"
   ]
  },
  {
   "cell_type": "code",
   "execution_count": 13,
   "metadata": {},
   "outputs": [
    {
     "data": {
      "image/png": "[encoded data removed]",
      "text/plain": [
       "<Figure size 432x288 with 1 Axes>"
      ]
     },
     "metadata": {
      "needs_background": "light"
     },
     "output_type": "display_data"
    },
    {
     "name": "stdout",
     "output_type": "stream",
     "text": [
      "1.2806248474865698\n",
      "1.904599695474091\n",
      "2.4\n",
      "5.15\n",
      "2.7500000000000004\n"
     ]
    }
   ],
   "source": [
    "sample1 = np.random.choice(pop1, 20, replace=True)\n",
    "sample2 = np.random.choice(pop2, 20, replace=True)\n",
    "\n",
    "plt.hist(sample1, alpha=.5, label='sample1')\n",
    "plt.hist(sample2, alpha=.5, label='sample2')\n",
    "plt.legend(loc='upper right')\n",
    "plt.show()\n",
    "\n",
    "print(sample1.std())\n",
    "print(sample2.std())\n",
    "print(sample1.mean())\n",
    "print(sample2.mean())\n",
    "diff = (sample2.mean()-sample1.mean())\n",
    "print(diff)"
   ]
  },
  {
   "cell_type": "code",
   "execution_count": 18,
   "metadata": {},
   "outputs": [
    {
     "name": "stdout",
     "output_type": "stream",
     "text": [
      "8.282179422266264\n",
      "Ttest_indResult(statistic=8.240664477017896, pvalue=2.392224759783999e-14)\n"
     ]
    }
   ],
   "source": [
    "pop1 = np.random.binomial(10, 0.3, 10000)\n",
    "pop2 = np.random.binomial(10, 0.5, 10000)\n",
    "\n",
    "sample1 = np.random.choice(pop1, 100, replace=True)\n",
    "sample2 = np.random.choice(pop2, 100, replace=True)\n",
    "\n",
    "#print(sample1.std())\n",
    "#print(sample2.std())\n",
    "#print(sample1.mean())\n",
    "#print(sample2.mean())\n",
    "diff = (sample2.mean()-sample1.mean())\n",
    "#print(diff)\n",
    "\n",
    "size = np.array([len(sample1), len(sample2)])\n",
    "sd = np.array([sample1.std(), sample2.std()])\n",
    "diff_se = (sum(sd**2 / size)) **.5\n",
    "\n",
    "se = (diff/diff_se)\n",
    "print (se)\n",
    "\n",
    "from scipy.stats import ttest_ind\n",
    "print(ttest_ind(sample2, sample1, equal_var=False))"
   ]
  },
  {
   "cell_type": "code",
   "execution_count": 21,
   "metadata": {},
   "outputs": [
    {
     "name": "stdout",
     "output_type": "stream",
     "text": [
      "2.9760461228839374\n",
      "Ttest_indResult(statistic=2.9611285045193823, pvalue=0.0034456388269804685)\n"
     ]
    }
   ],
   "source": [
    "pop1 = np.random.binomial(10, 0.4, 10000)\n",
    "pop2 = np.random.binomial(10, 0.5, 10000)\n",
    "\n",
    "sample1 = np.random.choice(pop1, 100, replace=True)\n",
    "sample2 = np.random.choice(pop2, 100, replace=True)\n",
    "\n",
    "#print(sample1.std())\n",
    "#print(sample2.std())\n",
    "#print(sample1.mean())\n",
    "#print(sample2.mean())\n",
    "diff = (sample2.mean()-sample1.mean())\n",
    "#print(diff)\n",
    "\n",
    "size = np.array([len(sample1), len(sample2)])\n",
    "sd = np.array([sample1.std(), sample2.std()])\n",
    "diff_se = (sum(sd**2 / size)) **.5\n",
    "\n",
    "se = (diff/diff_se)\n",
    "print (se)\n",
    "\n",
    "from scipy.stats import ttest_ind\n",
    "print(ttest_ind(sample2, sample1, equal_var=False))"
   ]
  },
  {
   "cell_type": "code",
   "execution_count": null,
   "metadata": {},
   "outputs": [],
   "source": [
    "#As we increas the 'p' in the pop1 the p-value is getting larger and larger. The difference in mean samples\n",
    "#is getting smaller and smaller."
   ]
  }
 ],
 "metadata": {
  "kernelspec": {
   "display_name": "Python 3",
   "language": "python",
   "name": "python3"
  },
  "language_info": {
   "codemirror_mode": {
    "name": "ipython",
    "version": 3
   },
   "file_extension": ".py",
   "mimetype": "text/x-python",
   "name": "python",
   "nbconvert_exporter": "python",
   "pygments_lexer": "ipython3",
   "version": "3.7.0"
  }
 },
 "nbformat": 4,
 "nbformat_minor": 2
}
