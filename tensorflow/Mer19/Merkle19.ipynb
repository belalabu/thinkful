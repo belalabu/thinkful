{
 "cells": [
  {
   "cell_type": "code",
   "execution_count": 162,
   "metadata": {},
   "outputs": [],
   "source": [
    "import pandas as pd\n",
    "import numpy as np"
   ]
  },
  {
   "cell_type": "code",
   "execution_count": 163,
   "metadata": {},
   "outputs": [],
   "source": [
    "data = pd.read_csv('features.csv')\n",
    "df_feat = pd.DataFrame(data)"
   ]
  },
  {
   "cell_type": "code",
   "execution_count": 164,
   "metadata": {},
   "outputs": [
    {
     "data": {
      "text/html": [
       "<div>\n",
       "<style scoped>\n",
       "    .dataframe tbody tr th:only-of-type {\n",
       "        vertical-align: middle;\n",
       "    }\n",
       "\n",
       "    .dataframe tbody tr th {\n",
       "        vertical-align: top;\n",
       "    }\n",
       "\n",
       "    .dataframe thead th {\n",
       "        text-align: right;\n",
       "    }\n",
       "</style>\n",
       "<table border=\"1\" class=\"dataframe\">\n",
       "  <thead>\n",
       "    <tr style=\"text-align: right;\">\n",
       "      <th></th>\n",
       "      <th>label</th>\n",
       "      <th>feature_1</th>\n",
       "      <th>feature_2</th>\n",
       "      <th>feature_3</th>\n",
       "      <th>feature_4</th>\n",
       "      <th>feature_5</th>\n",
       "      <th>feature_6</th>\n",
       "      <th>feature_7</th>\n",
       "      <th>feature_8</th>\n",
       "      <th>feature_9</th>\n",
       "      <th>feature_10</th>\n",
       "      <th>feature_11</th>\n",
       "      <th>feature_12</th>\n",
       "      <th>feature_13</th>\n",
       "    </tr>\n",
       "  </thead>\n",
       "  <tbody>\n",
       "    <tr>\n",
       "      <th>0</th>\n",
       "      <td>1</td>\n",
       "      <td>0</td>\n",
       "      <td>01</td>\n",
       "      <td>NaN</td>\n",
       "      <td>2.0</td>\n",
       "      <td>505</td>\n",
       "      <td>NaN</td>\n",
       "      <td>M</td>\n",
       "      <td>7.0</td>\n",
       "      <td>M</td>\n",
       "      <td>1</td>\n",
       "      <td>C</td>\n",
       "      <td>280.0</td>\n",
       "      <td>1.0</td>\n",
       "    </tr>\n",
       "    <tr>\n",
       "      <th>1</th>\n",
       "      <td>1</td>\n",
       "      <td>0</td>\n",
       "      <td>02</td>\n",
       "      <td>NaN</td>\n",
       "      <td>2.0</td>\n",
       "      <td>803</td>\n",
       "      <td>1.0</td>\n",
       "      <td>M</td>\n",
       "      <td>9.0</td>\n",
       "      <td>M</td>\n",
       "      <td>4</td>\n",
       "      <td>B</td>\n",
       "      <td>275.0</td>\n",
       "      <td>1.0</td>\n",
       "    </tr>\n",
       "    <tr>\n",
       "      <th>2</th>\n",
       "      <td>1</td>\n",
       "      <td>0</td>\n",
       "      <td>02</td>\n",
       "      <td>NaN</td>\n",
       "      <td>4.0</td>\n",
       "      <td>623</td>\n",
       "      <td>1.0</td>\n",
       "      <td>M</td>\n",
       "      <td>9.0</td>\n",
       "      <td>M</td>\n",
       "      <td>2</td>\n",
       "      <td>A</td>\n",
       "      <td>280.0</td>\n",
       "      <td>2.0</td>\n",
       "    </tr>\n",
       "    <tr>\n",
       "      <th>3</th>\n",
       "      <td>1</td>\n",
       "      <td>0</td>\n",
       "      <td>01</td>\n",
       "      <td>NaN</td>\n",
       "      <td>3.0</td>\n",
       "      <td>505</td>\n",
       "      <td>1.0</td>\n",
       "      <td>M</td>\n",
       "      <td>6.0</td>\n",
       "      <td>M</td>\n",
       "      <td>1</td>\n",
       "      <td>B</td>\n",
       "      <td>275.0</td>\n",
       "      <td>1.0</td>\n",
       "    </tr>\n",
       "    <tr>\n",
       "      <th>4</th>\n",
       "      <td>1</td>\n",
       "      <td>0</td>\n",
       "      <td>70</td>\n",
       "      <td>NaN</td>\n",
       "      <td>2.0</td>\n",
       "      <td>505</td>\n",
       "      <td>1.0</td>\n",
       "      <td>M</td>\n",
       "      <td>7.0</td>\n",
       "      <td>M</td>\n",
       "      <td>1</td>\n",
       "      <td>B</td>\n",
       "      <td>NaN</td>\n",
       "      <td>1.0</td>\n",
       "    </tr>\n",
       "    <tr>\n",
       "      <th>5</th>\n",
       "      <td>1</td>\n",
       "      <td>0</td>\n",
       "      <td>13</td>\n",
       "      <td>NaN</td>\n",
       "      <td>1.0</td>\n",
       "      <td>508</td>\n",
       "      <td>1.0</td>\n",
       "      <td>M</td>\n",
       "      <td>6.0</td>\n",
       "      <td>M</td>\n",
       "      <td>1</td>\n",
       "      <td>B</td>\n",
       "      <td>205.0</td>\n",
       "      <td>1.0</td>\n",
       "    </tr>\n",
       "    <tr>\n",
       "      <th>6</th>\n",
       "      <td>1</td>\n",
       "      <td>0</td>\n",
       "      <td>00</td>\n",
       "      <td>NaN</td>\n",
       "      <td>2.0</td>\n",
       "      <td>505</td>\n",
       "      <td>1.0</td>\n",
       "      <td>M</td>\n",
       "      <td>7.0</td>\n",
       "      <td>M</td>\n",
       "      <td>1</td>\n",
       "      <td>C</td>\n",
       "      <td>225.0</td>\n",
       "      <td>1.0</td>\n",
       "    </tr>\n",
       "    <tr>\n",
       "      <th>7</th>\n",
       "      <td>1</td>\n",
       "      <td>0</td>\n",
       "      <td>22</td>\n",
       "      <td>NaN</td>\n",
       "      <td>2.0</td>\n",
       "      <td>659</td>\n",
       "      <td>NaN</td>\n",
       "      <td>M</td>\n",
       "      <td>7.0</td>\n",
       "      <td>M</td>\n",
       "      <td>2</td>\n",
       "      <td>NaN</td>\n",
       "      <td>255.0</td>\n",
       "      <td>1.0</td>\n",
       "    </tr>\n",
       "    <tr>\n",
       "      <th>8</th>\n",
       "      <td>1</td>\n",
       "      <td>0</td>\n",
       "      <td>01</td>\n",
       "      <td>NaN</td>\n",
       "      <td>3.0</td>\n",
       "      <td>510</td>\n",
       "      <td>1.0</td>\n",
       "      <td>M</td>\n",
       "      <td>9.0</td>\n",
       "      <td>M</td>\n",
       "      <td>1</td>\n",
       "      <td>B</td>\n",
       "      <td>195.0</td>\n",
       "      <td>1.0</td>\n",
       "    </tr>\n",
       "    <tr>\n",
       "      <th>9</th>\n",
       "      <td>1</td>\n",
       "      <td>0</td>\n",
       "      <td>01</td>\n",
       "      <td>1.0</td>\n",
       "      <td>1.0</td>\n",
       "      <td>505</td>\n",
       "      <td>1.0</td>\n",
       "      <td>M</td>\n",
       "      <td>7.0</td>\n",
       "      <td>M</td>\n",
       "      <td>1</td>\n",
       "      <td>B</td>\n",
       "      <td>155.0</td>\n",
       "      <td>1.0</td>\n",
       "    </tr>\n",
       "  </tbody>\n",
       "</table>\n",
       "</div>"
      ],
      "text/plain": [
       "   label  feature_1 feature_2  feature_3  feature_4  feature_5  feature_6  \\\n",
       "0      1          0        01        NaN        2.0        505        NaN   \n",
       "1      1          0        02        NaN        2.0        803        1.0   \n",
       "2      1          0        02        NaN        4.0        623        1.0   \n",
       "3      1          0        01        NaN        3.0        505        1.0   \n",
       "4      1          0        70        NaN        2.0        505        1.0   \n",
       "5      1          0        13        NaN        1.0        508        1.0   \n",
       "6      1          0        00        NaN        2.0        505        1.0   \n",
       "7      1          0        22        NaN        2.0        659        NaN   \n",
       "8      1          0        01        NaN        3.0        510        1.0   \n",
       "9      1          0        01        1.0        1.0        505        1.0   \n",
       "\n",
       "  feature_7  feature_8 feature_9  feature_10 feature_11  feature_12  \\\n",
       "0         M        7.0         M           1          C       280.0   \n",
       "1         M        9.0         M           4          B       275.0   \n",
       "2         M        9.0         M           2          A       280.0   \n",
       "3         M        6.0         M           1          B       275.0   \n",
       "4         M        7.0         M           1          B         NaN   \n",
       "5         M        6.0         M           1          B       205.0   \n",
       "6         M        7.0         M           1          C       225.0   \n",
       "7         M        7.0         M           2        NaN       255.0   \n",
       "8         M        9.0         M           1          B       195.0   \n",
       "9         M        7.0         M           1          B       155.0   \n",
       "\n",
       "   feature_13  \n",
       "0         1.0  \n",
       "1         1.0  \n",
       "2         2.0  \n",
       "3         1.0  \n",
       "4         1.0  \n",
       "5         1.0  \n",
       "6         1.0  \n",
       "7         1.0  \n",
       "8         1.0  \n",
       "9         1.0  "
      ]
     },
     "execution_count": 164,
     "metadata": {},
     "output_type": "execute_result"
    }
   ],
   "source": [
    "df_feat.head(10)"
   ]
  },
  {
   "cell_type": "code",
   "execution_count": 165,
   "metadata": {},
   "outputs": [
    {
     "name": "stdout",
     "output_type": "stream",
     "text": [
      "(187239, 14)\n",
      "<class 'pandas.core.frame.DataFrame'>\n",
      "RangeIndex: 187239 entries, 0 to 187238\n",
      "Data columns (total 14 columns):\n",
      "label         187239 non-null int64\n",
      "feature_1     187239 non-null int64\n",
      "feature_2     187239 non-null object\n",
      "feature_3     20787 non-null float64\n",
      "feature_4     128888 non-null float64\n",
      "feature_5     187239 non-null int64\n",
      "feature_6     148114 non-null float64\n",
      "feature_7     187239 non-null object\n",
      "feature_8     184000 non-null float64\n",
      "feature_9     157368 non-null object\n",
      "feature_10    187239 non-null int64\n",
      "feature_11    154193 non-null object\n",
      "feature_12    163232 non-null float64\n",
      "feature_13    184770 non-null float64\n",
      "dtypes: float64(6), int64(4), object(4)\n",
      "memory usage: 20.0+ MB\n"
     ]
    }
   ],
   "source": [
    "print(df_feat.shape)\n",
    "\n",
    "df_feat.info()"
   ]
  },
  {
   "cell_type": "code",
   "execution_count": 166,
   "metadata": {},
   "outputs": [
    {
     "data": {
      "text/html": [
       "<div>\n",
       "<style scoped>\n",
       "    .dataframe tbody tr th:only-of-type {\n",
       "        vertical-align: middle;\n",
       "    }\n",
       "\n",
       "    .dataframe tbody tr th {\n",
       "        vertical-align: top;\n",
       "    }\n",
       "\n",
       "    .dataframe thead th {\n",
       "        text-align: right;\n",
       "    }\n",
       "</style>\n",
       "<table border=\"1\" class=\"dataframe\">\n",
       "  <thead>\n",
       "    <tr style=\"text-align: right;\">\n",
       "      <th></th>\n",
       "      <th>label</th>\n",
       "      <th>feature_1</th>\n",
       "      <th>feature_3</th>\n",
       "      <th>feature_4</th>\n",
       "      <th>feature_5</th>\n",
       "      <th>feature_6</th>\n",
       "      <th>feature_8</th>\n",
       "      <th>feature_10</th>\n",
       "      <th>feature_12</th>\n",
       "      <th>feature_13</th>\n",
       "    </tr>\n",
       "  </thead>\n",
       "  <tbody>\n",
       "    <tr>\n",
       "      <th>count</th>\n",
       "      <td>187239.000000</td>\n",
       "      <td>187239.000000</td>\n",
       "      <td>20787.0</td>\n",
       "      <td>128888.000000</td>\n",
       "      <td>187239.000000</td>\n",
       "      <td>148114.0</td>\n",
       "      <td>184000.000000</td>\n",
       "      <td>187239.000000</td>\n",
       "      <td>163232.000000</td>\n",
       "      <td>184770.000000</td>\n",
       "    </tr>\n",
       "    <tr>\n",
       "      <th>mean</th>\n",
       "      <td>0.504494</td>\n",
       "      <td>0.206276</td>\n",
       "      <td>1.0</td>\n",
       "      <td>2.395809</td>\n",
       "      <td>597.601616</td>\n",
       "      <td>1.0</td>\n",
       "      <td>6.474348</td>\n",
       "      <td>1.800432</td>\n",
       "      <td>231.970815</td>\n",
       "      <td>1.361812</td>\n",
       "    </tr>\n",
       "    <tr>\n",
       "      <th>std</th>\n",
       "      <td>0.499981</td>\n",
       "      <td>0.754156</td>\n",
       "      <td>0.0</td>\n",
       "      <td>0.986957</td>\n",
       "      <td>103.792273</td>\n",
       "      <td>0.0</td>\n",
       "      <td>1.825297</td>\n",
       "      <td>1.317445</td>\n",
       "      <td>68.913656</td>\n",
       "      <td>0.480526</td>\n",
       "    </tr>\n",
       "    <tr>\n",
       "      <th>min</th>\n",
       "      <td>0.000000</td>\n",
       "      <td>0.000000</td>\n",
       "      <td>1.0</td>\n",
       "      <td>1.000000</td>\n",
       "      <td>0.000000</td>\n",
       "      <td>1.0</td>\n",
       "      <td>1.000000</td>\n",
       "      <td>1.000000</td>\n",
       "      <td>90.000000</td>\n",
       "      <td>1.000000</td>\n",
       "    </tr>\n",
       "    <tr>\n",
       "      <th>25%</th>\n",
       "      <td>0.000000</td>\n",
       "      <td>0.000000</td>\n",
       "      <td>1.0</td>\n",
       "      <td>2.000000</td>\n",
       "      <td>511.000000</td>\n",
       "      <td>1.0</td>\n",
       "      <td>5.000000</td>\n",
       "      <td>1.000000</td>\n",
       "      <td>180.000000</td>\n",
       "      <td>1.000000</td>\n",
       "    </tr>\n",
       "    <tr>\n",
       "      <th>50%</th>\n",
       "      <td>1.000000</td>\n",
       "      <td>0.000000</td>\n",
       "      <td>1.0</td>\n",
       "      <td>2.000000</td>\n",
       "      <td>556.000000</td>\n",
       "      <td>1.0</td>\n",
       "      <td>7.000000</td>\n",
       "      <td>1.000000</td>\n",
       "      <td>240.000000</td>\n",
       "      <td>1.000000</td>\n",
       "    </tr>\n",
       "    <tr>\n",
       "      <th>75%</th>\n",
       "      <td>1.000000</td>\n",
       "      <td>0.000000</td>\n",
       "      <td>1.0</td>\n",
       "      <td>3.000000</td>\n",
       "      <td>641.000000</td>\n",
       "      <td>1.0</td>\n",
       "      <td>8.000000</td>\n",
       "      <td>2.000000</td>\n",
       "      <td>280.000000</td>\n",
       "      <td>2.000000</td>\n",
       "    </tr>\n",
       "    <tr>\n",
       "      <th>max</th>\n",
       "      <td>1.000000</td>\n",
       "      <td>4.000000</td>\n",
       "      <td>1.0</td>\n",
       "      <td>4.000000</td>\n",
       "      <td>881.000000</td>\n",
       "      <td>1.0</td>\n",
       "      <td>9.000000</td>\n",
       "      <td>9.000000</td>\n",
       "      <td>495.000000</td>\n",
       "      <td>2.000000</td>\n",
       "    </tr>\n",
       "  </tbody>\n",
       "</table>\n",
       "</div>"
      ],
      "text/plain": [
       "               label      feature_1  feature_3      feature_4      feature_5  \\\n",
       "count  187239.000000  187239.000000    20787.0  128888.000000  187239.000000   \n",
       "mean        0.504494       0.206276        1.0       2.395809     597.601616   \n",
       "std         0.499981       0.754156        0.0       0.986957     103.792273   \n",
       "min         0.000000       0.000000        1.0       1.000000       0.000000   \n",
       "25%         0.000000       0.000000        1.0       2.000000     511.000000   \n",
       "50%         1.000000       0.000000        1.0       2.000000     556.000000   \n",
       "75%         1.000000       0.000000        1.0       3.000000     641.000000   \n",
       "max         1.000000       4.000000        1.0       4.000000     881.000000   \n",
       "\n",
       "       feature_6      feature_8     feature_10     feature_12     feature_13  \n",
       "count   148114.0  184000.000000  187239.000000  163232.000000  184770.000000  \n",
       "mean         1.0       6.474348       1.800432     231.970815       1.361812  \n",
       "std          0.0       1.825297       1.317445      68.913656       0.480526  \n",
       "min          1.0       1.000000       1.000000      90.000000       1.000000  \n",
       "25%          1.0       5.000000       1.000000     180.000000       1.000000  \n",
       "50%          1.0       7.000000       1.000000     240.000000       1.000000  \n",
       "75%          1.0       8.000000       2.000000     280.000000       2.000000  \n",
       "max          1.0       9.000000       9.000000     495.000000       2.000000  "
      ]
     },
     "execution_count": 166,
     "metadata": {},
     "output_type": "execute_result"
    }
   ],
   "source": [
    "df_feat.describe()"
   ]
  },
  {
   "cell_type": "code",
   "execution_count": 167,
   "metadata": {},
   "outputs": [
    {
     "data": {
      "text/plain": [
       "label              0\n",
       "feature_1          0\n",
       "feature_2          0\n",
       "feature_3     166452\n",
       "feature_4      58351\n",
       "feature_5          0\n",
       "feature_6      39125\n",
       "feature_7          0\n",
       "feature_8       3239\n",
       "feature_9      29871\n",
       "feature_10         0\n",
       "feature_11     33046\n",
       "feature_12     24007\n",
       "feature_13      2469\n",
       "dtype: int64"
      ]
     },
     "execution_count": 167,
     "metadata": {},
     "output_type": "execute_result"
    }
   ],
   "source": [
    "df_feat.isnull().sum()"
   ]
  },
  {
   "cell_type": "markdown",
   "metadata": {},
   "source": [
    "### Tons of missing values here\n",
    "I am going to have to go through each feature and see how to best deal with those specific nulls, this looks like the bulk of the cleaning"
   ]
  },
  {
   "cell_type": "markdown",
   "metadata": {},
   "source": [
    "#### Feature 3\n",
    "A quick look shows us that this column has the greatest amount of nulls, let's try and figure out why"
   ]
  },
  {
   "cell_type": "code",
   "execution_count": 168,
   "metadata": {},
   "outputs": [
    {
     "data": {
      "text/plain": [
       "1.0    20787\n",
       "Name: feature_3, dtype: int64"
      ]
     },
     "execution_count": 168,
     "metadata": {},
     "output_type": "execute_result"
    }
   ],
   "source": [
    "df_feat['feature_3'].value_counts()"
   ]
  },
  {
   "cell_type": "markdown",
   "metadata": {},
   "source": [
    "##### We can see this is essentially a binary column\n",
    "The only problem is that our 1 label is the only one appearing, '0' is being represented with NaN. Let's replace NaN with '0'"
   ]
  },
  {
   "cell_type": "code",
   "execution_count": 169,
   "metadata": {},
   "outputs": [
    {
     "data": {
      "text/plain": [
       "0.0    166452\n",
       "1.0     20787\n",
       "Name: feature_3, dtype: int64"
      ]
     },
     "execution_count": 169,
     "metadata": {},
     "output_type": "execute_result"
    }
   ],
   "source": [
    "df_feat['feature_3'] = df_feat['feature_3'].fillna(0)\n",
    "\n",
    "df_feat['feature_3'].value_counts()"
   ]
  },
  {
   "cell_type": "code",
   "execution_count": 170,
   "metadata": {},
   "outputs": [
    {
     "data": {
      "text/plain": [
       "0    166452\n",
       "1     20787\n",
       "Name: feature_3, dtype: int64"
      ]
     },
     "execution_count": 170,
     "metadata": {},
     "output_type": "execute_result"
    }
   ],
   "source": [
    "#Convert from float to int\n",
    "\n",
    "df_feat['feature_3'] = df_feat['feature_3'].astype(int)\n",
    "df_feat['feature_3'].value_counts()"
   ]
  },
  {
   "cell_type": "markdown",
   "metadata": {},
   "source": [
    "#### Feature 4\n",
    "With feature 3 handled we can move on to feature 4, about 1/3 of all of the values in this feature are nulls. That is a bit more than I am comfortable with dropping but as I don't have any other information / assumptions that would allow me to impute the data it may be necessary."
   ]
  },
  {
   "cell_type": "code",
   "execution_count": 171,
   "metadata": {},
   "outputs": [
    {
     "data": {
      "text/plain": [
       "3.0    42262\n",
       "2.0    39264\n",
       "1.0    28657\n",
       "4.0    18705\n",
       "Name: feature_4, dtype: int64"
      ]
     },
     "execution_count": 171,
     "metadata": {},
     "output_type": "execute_result"
    }
   ],
   "source": [
    "df_feat['feature_4'].value_counts()"
   ]
  },
  {
   "cell_type": "markdown",
   "metadata": {},
   "source": [
    "#### Feature 5 has no nulls\n",
    "However, observing the mean gives us a value of 597 and a minimum value of 0. With the vast majority of values in this much higher range the 31 instances of '0' can be assumed to be null. I will drop them. I may return to this feature during EDA and drop outliers."
   ]
  },
  {
   "cell_type": "code",
   "execution_count": 172,
   "metadata": {},
   "outputs": [
    {
     "data": {
      "text/plain": [
       "501    15199\n",
       "803     6907\n",
       "602     6877\n",
       "506     6016\n",
       "505     5778\n",
       "511     5417\n",
       "508     4800\n",
       "623     4675\n",
       "504     4540\n",
       "539     4537\n",
       "535     4452\n",
       "613     4429\n",
       "807     4134\n",
       "609     3939\n",
       "753     3437\n",
       "510     3259\n",
       "524     3224\n",
       "659     2875\n",
       "534     2677\n",
       "560     2545\n",
       "618     2435\n",
       "819     2418\n",
       "515     2292\n",
       "528     2233\n",
       "517     1954\n",
       "527     1943\n",
       "512     1914\n",
       "533     1829\n",
       "566     1817\n",
       "862     1572\n",
       "       ...  \n",
       "758       54\n",
       "662       53\n",
       "525       51\n",
       "771       50\n",
       "606       48\n",
       "603       48\n",
       "749       43\n",
       "762       38\n",
       "756       38\n",
       "773       31\n",
       "0         31\n",
       "711       30\n",
       "760       29\n",
       "661       27\n",
       "802       27\n",
       "552       26\n",
       "754       26\n",
       "626       25\n",
       "821       24\n",
       "759       18\n",
       "755       17\n",
       "631       16\n",
       "647       16\n",
       "766       15\n",
       "747       15\n",
       "767       14\n",
       "583       12\n",
       "740       10\n",
       "798        2\n",
       "804        1\n",
       "Name: feature_5, Length: 211, dtype: int64"
      ]
     },
     "execution_count": 172,
     "metadata": {},
     "output_type": "execute_result"
    }
   ],
   "source": [
    "df_feat['feature_5'].value_counts()"
   ]
  },
  {
   "cell_type": "code",
   "execution_count": 173,
   "metadata": {},
   "outputs": [],
   "source": [
    "df_feat = df_feat[df_feat['feature_5'] != 0]"
   ]
  },
  {
   "cell_type": "code",
   "execution_count": 174,
   "metadata": {},
   "outputs": [
    {
     "data": {
      "text/plain": [
       "count    187208.000000\n",
       "mean        597.700574\n",
       "std         103.515566\n",
       "min         500.000000\n",
       "25%         511.000000\n",
       "50%         556.000000\n",
       "75%         641.000000\n",
       "max         881.000000\n",
       "Name: feature_5, dtype: float64"
      ]
     },
     "execution_count": 174,
     "metadata": {},
     "output_type": "execute_result"
    }
   ],
   "source": [
    "df_feat['feature_5'].describe()"
   ]
  },
  {
   "cell_type": "markdown",
   "metadata": {},
   "source": [
    "#### Feature 6 \n",
    "Feature 6 has the same issue feature 3 did, the 0s are being entered as NaN"
   ]
  },
  {
   "cell_type": "code",
   "execution_count": 175,
   "metadata": {},
   "outputs": [
    {
     "data": {
      "text/plain": [
       "1    148096\n",
       "0     39112\n",
       "Name: feature_6, dtype: int64"
      ]
     },
     "execution_count": 175,
     "metadata": {},
     "output_type": "execute_result"
    }
   ],
   "source": [
    "df_feat['feature_6'] = df_feat['feature_6'].fillna(0)\n",
    "df_feat['feature_6'] = df_feat['feature_6'].astype(int)\n",
    "\n",
    "df_feat['feature_6'].value_counts()"
   ]
  },
  {
   "cell_type": "markdown",
   "metadata": {},
   "source": [
    "### A quick break here to see how we're doing on the nulls!\n",
    "**Reminder** \n",
    "\n",
    "I left feature_4 alone for now to come back to it if I potentially can glean more information"
   ]
  },
  {
   "cell_type": "code",
   "execution_count": 176,
   "metadata": {},
   "outputs": [
    {
     "data": {
      "text/plain": [
       "label             0\n",
       "feature_1         0\n",
       "feature_2         0\n",
       "feature_3         0\n",
       "feature_4     58343\n",
       "feature_5         0\n",
       "feature_6         0\n",
       "feature_7         0\n",
       "feature_8      3239\n",
       "feature_9     29867\n",
       "feature_10        0\n",
       "feature_11    33033\n",
       "feature_12    24001\n",
       "feature_13     2468\n",
       "dtype: int64"
      ]
     },
     "execution_count": 176,
     "metadata": {},
     "output_type": "execute_result"
    }
   ],
   "source": [
    "df_feat.isnull().sum()"
   ]
  },
  {
   "cell_type": "code",
   "execution_count": 177,
   "metadata": {},
   "outputs": [
    {
     "data": {
      "text/html": [
       "<div>\n",
       "<style scoped>\n",
       "    .dataframe tbody tr th:only-of-type {\n",
       "        vertical-align: middle;\n",
       "    }\n",
       "\n",
       "    .dataframe tbody tr th {\n",
       "        vertical-align: top;\n",
       "    }\n",
       "\n",
       "    .dataframe thead th {\n",
       "        text-align: right;\n",
       "    }\n",
       "</style>\n",
       "<table border=\"1\" class=\"dataframe\">\n",
       "  <thead>\n",
       "    <tr style=\"text-align: right;\">\n",
       "      <th></th>\n",
       "      <th>label</th>\n",
       "      <th>feature_1</th>\n",
       "      <th>feature_2</th>\n",
       "      <th>feature_3</th>\n",
       "      <th>feature_4</th>\n",
       "      <th>feature_5</th>\n",
       "      <th>feature_6</th>\n",
       "      <th>feature_7</th>\n",
       "      <th>feature_8</th>\n",
       "      <th>feature_9</th>\n",
       "      <th>feature_10</th>\n",
       "      <th>feature_11</th>\n",
       "      <th>feature_12</th>\n",
       "      <th>feature_13</th>\n",
       "    </tr>\n",
       "  </thead>\n",
       "  <tbody>\n",
       "    <tr>\n",
       "      <th>0</th>\n",
       "      <td>1</td>\n",
       "      <td>0</td>\n",
       "      <td>01</td>\n",
       "      <td>0</td>\n",
       "      <td>2.0</td>\n",
       "      <td>505</td>\n",
       "      <td>0</td>\n",
       "      <td>M</td>\n",
       "      <td>7.0</td>\n",
       "      <td>M</td>\n",
       "      <td>1</td>\n",
       "      <td>C</td>\n",
       "      <td>280.0</td>\n",
       "      <td>1.0</td>\n",
       "    </tr>\n",
       "    <tr>\n",
       "      <th>1</th>\n",
       "      <td>1</td>\n",
       "      <td>0</td>\n",
       "      <td>02</td>\n",
       "      <td>0</td>\n",
       "      <td>2.0</td>\n",
       "      <td>803</td>\n",
       "      <td>1</td>\n",
       "      <td>M</td>\n",
       "      <td>9.0</td>\n",
       "      <td>M</td>\n",
       "      <td>4</td>\n",
       "      <td>B</td>\n",
       "      <td>275.0</td>\n",
       "      <td>1.0</td>\n",
       "    </tr>\n",
       "    <tr>\n",
       "      <th>2</th>\n",
       "      <td>1</td>\n",
       "      <td>0</td>\n",
       "      <td>02</td>\n",
       "      <td>0</td>\n",
       "      <td>4.0</td>\n",
       "      <td>623</td>\n",
       "      <td>1</td>\n",
       "      <td>M</td>\n",
       "      <td>9.0</td>\n",
       "      <td>M</td>\n",
       "      <td>2</td>\n",
       "      <td>A</td>\n",
       "      <td>280.0</td>\n",
       "      <td>2.0</td>\n",
       "    </tr>\n",
       "    <tr>\n",
       "      <th>3</th>\n",
       "      <td>1</td>\n",
       "      <td>0</td>\n",
       "      <td>01</td>\n",
       "      <td>0</td>\n",
       "      <td>3.0</td>\n",
       "      <td>505</td>\n",
       "      <td>1</td>\n",
       "      <td>M</td>\n",
       "      <td>6.0</td>\n",
       "      <td>M</td>\n",
       "      <td>1</td>\n",
       "      <td>B</td>\n",
       "      <td>275.0</td>\n",
       "      <td>1.0</td>\n",
       "    </tr>\n",
       "    <tr>\n",
       "      <th>4</th>\n",
       "      <td>1</td>\n",
       "      <td>0</td>\n",
       "      <td>70</td>\n",
       "      <td>0</td>\n",
       "      <td>2.0</td>\n",
       "      <td>505</td>\n",
       "      <td>1</td>\n",
       "      <td>M</td>\n",
       "      <td>7.0</td>\n",
       "      <td>M</td>\n",
       "      <td>1</td>\n",
       "      <td>B</td>\n",
       "      <td>NaN</td>\n",
       "      <td>1.0</td>\n",
       "    </tr>\n",
       "  </tbody>\n",
       "</table>\n",
       "</div>"
      ],
      "text/plain": [
       "   label  feature_1 feature_2  feature_3  feature_4  feature_5  feature_6  \\\n",
       "0      1          0        01          0        2.0        505          0   \n",
       "1      1          0        02          0        2.0        803          1   \n",
       "2      1          0        02          0        4.0        623          1   \n",
       "3      1          0        01          0        3.0        505          1   \n",
       "4      1          0        70          0        2.0        505          1   \n",
       "\n",
       "  feature_7  feature_8 feature_9  feature_10 feature_11  feature_12  \\\n",
       "0         M        7.0         M           1          C       280.0   \n",
       "1         M        9.0         M           4          B       275.0   \n",
       "2         M        9.0         M           2          A       280.0   \n",
       "3         M        6.0         M           1          B       275.0   \n",
       "4         M        7.0         M           1          B         NaN   \n",
       "\n",
       "   feature_13  \n",
       "0         1.0  \n",
       "1         1.0  \n",
       "2         2.0  \n",
       "3         1.0  \n",
       "4         1.0  "
      ]
     },
     "execution_count": 177,
     "metadata": {},
     "output_type": "execute_result"
    }
   ],
   "source": [
    "df_feat.head()"
   ]
  },
  {
   "cell_type": "markdown",
   "metadata": {},
   "source": [
    "#### Feature 8\n",
    "We can see feature_8 has about 3200 missing values. This represents less than 2% of the total data, it will be dropped in order not to potentially bias the model with imputation"
   ]
  },
  {
   "cell_type": "code",
   "execution_count": 178,
   "metadata": {},
   "outputs": [
    {
     "data": {
      "text/plain": [
       "7.0    50794\n",
       "6.0    39173\n",
       "9.0    33019\n",
       "5.0    21897\n",
       "8.0    14746\n",
       "4.0    10959\n",
       "3.0     7592\n",
       "2.0     3487\n",
       "1.0     2302\n",
       "Name: feature_8, dtype: int64"
      ]
     },
     "execution_count": 178,
     "metadata": {},
     "output_type": "execute_result"
    }
   ],
   "source": [
    "df_feat['feature_8'].value_counts()"
   ]
  },
  {
   "cell_type": "code",
   "execution_count": 179,
   "metadata": {},
   "outputs": [],
   "source": [
    "df_feat['feature_8'] = df_feat['feature_8'].fillna(0)\n",
    "df_feat['feature_8'] = df_feat['feature_8'].astype(int)\n",
    "df_feat = df_feat[df_feat['feature_8'] != 0]"
   ]
  },
  {
   "cell_type": "code",
   "execution_count": 180,
   "metadata": {
    "scrolled": true
   },
   "outputs": [
    {
     "data": {
      "text/plain": [
       "7    50794\n",
       "6    39173\n",
       "9    33019\n",
       "5    21897\n",
       "8    14746\n",
       "4    10959\n",
       "3     7592\n",
       "2     3487\n",
       "1     2302\n",
       "Name: feature_8, dtype: int64"
      ]
     },
     "execution_count": 180,
     "metadata": {},
     "output_type": "execute_result"
    }
   ],
   "source": [
    "df_feat['feature_8'].value_counts()"
   ]
  },
  {
   "cell_type": "markdown",
   "metadata": {},
   "source": [
    "#### Feature 9\n"
   ]
  },
  {
   "cell_type": "code",
   "execution_count": 181,
   "metadata": {},
   "outputs": [
    {
     "data": {
      "text/plain": [
       "M    118420\n",
       "S     36322\n",
       "Name: feature_9, dtype: int64"
      ]
     },
     "execution_count": 181,
     "metadata": {},
     "output_type": "execute_result"
    }
   ],
   "source": [
    "df_feat['feature_9'].value_counts()"
   ]
  },
  {
   "cell_type": "code",
   "execution_count": 182,
   "metadata": {},
   "outputs": [],
   "source": [
    "df_feat['feature_9'] = df_feat['feature_9'].fillna(0)\n",
    "df_feat = df_feat[df_feat['feature_9'] != 0]"
   ]
  },
  {
   "cell_type": "code",
   "execution_count": 183,
   "metadata": {},
   "outputs": [
    {
     "data": {
      "text/plain": [
       "label             0\n",
       "feature_1         0\n",
       "feature_2         0\n",
       "feature_3         0\n",
       "feature_4     38325\n",
       "feature_5         0\n",
       "feature_6         0\n",
       "feature_7         0\n",
       "feature_8         0\n",
       "feature_9         0\n",
       "feature_10        0\n",
       "feature_11    22301\n",
       "feature_12    12176\n",
       "feature_13     1598\n",
       "dtype: int64"
      ]
     },
     "execution_count": 183,
     "metadata": {},
     "output_type": "execute_result"
    }
   ],
   "source": [
    "df_feat.isnull().sum()"
   ]
  },
  {
   "cell_type": "markdown",
   "metadata": {},
   "source": [
    "##### We can see that after dropping missing values from feature 9 that a large amount of missing values from features 4, 11, 12, and 13 were also dropped\n",
    "\n",
    "This supports the dropping of those rows even further as it is clear the data was collected poorly across all of features in those instances"
   ]
  },
  {
   "cell_type": "code",
   "execution_count": null,
   "metadata": {},
   "outputs": [],
   "source": []
  },
  {
   "cell_type": "markdown",
   "metadata": {},
   "source": [
    "#### Feature 10\n",
    "Although there are no null values, we should take a look to find anything strange"
   ]
  },
  {
   "cell_type": "code",
   "execution_count": 184,
   "metadata": {},
   "outputs": [
    {
     "data": {
      "text/plain": [
       "count    154742.000000\n",
       "mean          1.799486\n",
       "std           1.315984\n",
       "min           1.000000\n",
       "25%           1.000000\n",
       "50%           1.000000\n",
       "75%           2.000000\n",
       "max           9.000000\n",
       "Name: feature_10, dtype: float64"
      ]
     },
     "execution_count": 184,
     "metadata": {},
     "output_type": "execute_result"
    }
   ],
   "source": [
    "df_feat['feature_10'].describe()"
   ]
  },
  {
   "cell_type": "code",
   "execution_count": 185,
   "metadata": {},
   "outputs": [
    {
     "data": {
      "text/plain": [
       "1    89591\n",
       "2    41094\n",
       "4    16945\n",
       "7     3639\n",
       "3     2917\n",
       "8      331\n",
       "9      225\n",
       "Name: feature_10, dtype: int64"
      ]
     },
     "execution_count": 185,
     "metadata": {},
     "output_type": "execute_result"
    }
   ],
   "source": [
    "df_feat['feature_10'].value_counts()"
   ]
  },
  {
   "cell_type": "markdown",
   "metadata": {},
   "source": [
    "##### The values '8' and 9' appear to be substantial outliers\n",
    "I am not going to drop them now however I will take note of this and come back to drop them based on standard deviation later if I feel it is necessary / relevant"
   ]
  },
  {
   "cell_type": "markdown",
   "metadata": {},
   "source": [
    "#### Feature 11\n",
    "Coming close to the end of dealing with null values here"
   ]
  },
  {
   "cell_type": "code",
   "execution_count": 186,
   "metadata": {},
   "outputs": [
    {
     "data": {
      "text/plain": [
       "B    51167\n",
       "A    31254\n",
       "C    23519\n",
       "D    14222\n",
       "E     7205\n",
       "F     3102\n",
       "G     1627\n",
       "H      345\n",
       "Name: feature_11, dtype: int64"
      ]
     },
     "execution_count": 186,
     "metadata": {},
     "output_type": "execute_result"
    }
   ],
   "source": [
    "df_feat['feature_11'].value_counts()"
   ]
  },
  {
   "cell_type": "code",
   "execution_count": 187,
   "metadata": {},
   "outputs": [
    {
     "data": {
      "text/plain": [
       "22301"
      ]
     },
     "execution_count": 187,
     "metadata": {},
     "output_type": "execute_result"
    }
   ],
   "source": [
    "df_feat['feature_11'].isnull().sum()"
   ]
  },
  {
   "cell_type": "code",
   "execution_count": 188,
   "metadata": {},
   "outputs": [],
   "source": [
    "df_feat['feature_11'] = df_feat['feature_11'].fillna(0)\n",
    "df_feat = df_feat[df_feat['feature_11'] != 0]"
   ]
  },
  {
   "cell_type": "code",
   "execution_count": 189,
   "metadata": {},
   "outputs": [
    {
     "data": {
      "text/plain": [
       "0"
      ]
     },
     "execution_count": 189,
     "metadata": {},
     "output_type": "execute_result"
    }
   ],
   "source": [
    "df_feat['feature_11'].isnull().sum()"
   ]
  },
  {
   "cell_type": "code",
   "execution_count": 190,
   "metadata": {},
   "outputs": [
    {
     "data": {
      "text/plain": [
       "label             0\n",
       "feature_1         0\n",
       "feature_2         0\n",
       "feature_3         0\n",
       "feature_4     31348\n",
       "feature_5         0\n",
       "feature_6         0\n",
       "feature_7         0\n",
       "feature_8         0\n",
       "feature_9         0\n",
       "feature_10        0\n",
       "feature_11        0\n",
       "feature_12     8774\n",
       "feature_13     1334\n",
       "dtype: int64"
      ]
     },
     "execution_count": 190,
     "metadata": {},
     "output_type": "execute_result"
    }
   ],
   "source": [
    "df_feat.isnull().sum()"
   ]
  },
  {
   "cell_type": "markdown",
   "metadata": {},
   "source": [
    "#### Feature 12\n",
    "Again, as this is a numerical feature I want to make sure there isn't anything strange going on with the values"
   ]
  },
  {
   "cell_type": "code",
   "execution_count": 191,
   "metadata": {},
   "outputs": [
    {
     "data": {
      "text/plain": [
       "count    123667.000000\n",
       "mean        240.309298\n",
       "std          64.532550\n",
       "min          90.000000\n",
       "25%         200.000000\n",
       "50%         245.000000\n",
       "75%         280.000000\n",
       "max         495.000000\n",
       "Name: feature_12, dtype: float64"
      ]
     },
     "execution_count": 191,
     "metadata": {},
     "output_type": "execute_result"
    }
   ],
   "source": [
    "df_feat['feature_12'].describe()"
   ]
  },
  {
   "cell_type": "code",
   "execution_count": 192,
   "metadata": {},
   "outputs": [],
   "source": [
    "df_feat['feature_12'] = df_feat['feature_12'].fillna(0)\n",
    "df_feat['feature_12'] = df_feat['feature_12'].astype(int)\n",
    "df_feat = df_feat[df_feat['feature_12'] != 0]"
   ]
  },
  {
   "cell_type": "markdown",
   "metadata": {},
   "source": [
    "#### Feature 13\n",
    "feature_13 is a binary column consisting of 1 and 2. It also has very few nulls. I will drop the nulls and convert the values to a typical 0 and 1"
   ]
  },
  {
   "cell_type": "code",
   "execution_count": 193,
   "metadata": {},
   "outputs": [
    {
     "data": {
      "text/plain": [
       "1.0    80083\n",
       "2.0    42439\n",
       "Name: feature_13, dtype: int64"
      ]
     },
     "execution_count": 193,
     "metadata": {},
     "output_type": "execute_result"
    }
   ],
   "source": [
    "df_feat['feature_13'].value_counts()"
   ]
  },
  {
   "cell_type": "code",
   "execution_count": 194,
   "metadata": {},
   "outputs": [],
   "source": [
    "df_feat['feature_13'] = df_feat['feature_13'].fillna(0)\n",
    "df_feat = df_feat[df_feat['feature_13'] != 0]"
   ]
  },
  {
   "cell_type": "code",
   "execution_count": 195,
   "metadata": {},
   "outputs": [],
   "source": [
    "#I want to convert this back into standard binary features '1' -> '0' and '2' -> '1'\n",
    "df_feat['feature_13'] = df_feat['feature_13'].astype(int)\n",
    "df_feat['feature_13'] = df_feat['feature_13'] - 1\n"
   ]
  },
  {
   "cell_type": "code",
   "execution_count": 196,
   "metadata": {},
   "outputs": [
    {
     "data": {
      "text/plain": [
       "0    80083\n",
       "1    42439\n",
       "Name: feature_13, dtype: int64"
      ]
     },
     "execution_count": 196,
     "metadata": {},
     "output_type": "execute_result"
    }
   ],
   "source": [
    "df_feat['feature_13'].value_counts()"
   ]
  },
  {
   "cell_type": "code",
   "execution_count": 197,
   "metadata": {},
   "outputs": [
    {
     "name": "stdout",
     "output_type": "stream",
     "text": [
      "label             0\n",
      "feature_1         0\n",
      "feature_2         0\n",
      "feature_3         0\n",
      "feature_4     24213\n",
      "feature_5         0\n",
      "feature_6         0\n",
      "feature_7         0\n",
      "feature_8         0\n",
      "feature_9         0\n",
      "feature_10        0\n",
      "feature_11        0\n",
      "feature_12        0\n",
      "feature_13        0\n",
      "dtype: int64\n"
     ]
    },
    {
     "data": {
      "text/html": [
       "<div>\n",
       "<style scoped>\n",
       "    .dataframe tbody tr th:only-of-type {\n",
       "        vertical-align: middle;\n",
       "    }\n",
       "\n",
       "    .dataframe tbody tr th {\n",
       "        vertical-align: top;\n",
       "    }\n",
       "\n",
       "    .dataframe thead th {\n",
       "        text-align: right;\n",
       "    }\n",
       "</style>\n",
       "<table border=\"1\" class=\"dataframe\">\n",
       "  <thead>\n",
       "    <tr style=\"text-align: right;\">\n",
       "      <th></th>\n",
       "      <th>label</th>\n",
       "      <th>feature_1</th>\n",
       "      <th>feature_2</th>\n",
       "      <th>feature_3</th>\n",
       "      <th>feature_4</th>\n",
       "      <th>feature_5</th>\n",
       "      <th>feature_6</th>\n",
       "      <th>feature_7</th>\n",
       "      <th>feature_8</th>\n",
       "      <th>feature_9</th>\n",
       "      <th>feature_10</th>\n",
       "      <th>feature_11</th>\n",
       "      <th>feature_12</th>\n",
       "      <th>feature_13</th>\n",
       "    </tr>\n",
       "  </thead>\n",
       "  <tbody>\n",
       "    <tr>\n",
       "      <th>122517</th>\n",
       "      <td>0</td>\n",
       "      <td>0</td>\n",
       "      <td>E1</td>\n",
       "      <td>0</td>\n",
       "      <td>3.0</td>\n",
       "      <td>515</td>\n",
       "      <td>1</td>\n",
       "      <td>M</td>\n",
       "      <td>3</td>\n",
       "      <td>M</td>\n",
       "      <td>1</td>\n",
       "      <td>F</td>\n",
       "      <td>300</td>\n",
       "      <td>0</td>\n",
       "    </tr>\n",
       "    <tr>\n",
       "      <th>122518</th>\n",
       "      <td>0</td>\n",
       "      <td>0</td>\n",
       "      <td>01</td>\n",
       "      <td>0</td>\n",
       "      <td>3.0</td>\n",
       "      <td>807</td>\n",
       "      <td>1</td>\n",
       "      <td>S</td>\n",
       "      <td>9</td>\n",
       "      <td>S</td>\n",
       "      <td>4</td>\n",
       "      <td>B</td>\n",
       "      <td>220</td>\n",
       "      <td>1</td>\n",
       "    </tr>\n",
       "    <tr>\n",
       "      <th>122519</th>\n",
       "      <td>0</td>\n",
       "      <td>0</td>\n",
       "      <td>10</td>\n",
       "      <td>0</td>\n",
       "      <td>NaN</td>\n",
       "      <td>602</td>\n",
       "      <td>0</td>\n",
       "      <td>M</td>\n",
       "      <td>9</td>\n",
       "      <td>M</td>\n",
       "      <td>2</td>\n",
       "      <td>A</td>\n",
       "      <td>290</td>\n",
       "      <td>1</td>\n",
       "    </tr>\n",
       "    <tr>\n",
       "      <th>122520</th>\n",
       "      <td>0</td>\n",
       "      <td>0</td>\n",
       "      <td>E5</td>\n",
       "      <td>0</td>\n",
       "      <td>3.0</td>\n",
       "      <td>501</td>\n",
       "      <td>1</td>\n",
       "      <td>M</td>\n",
       "      <td>9</td>\n",
       "      <td>S</td>\n",
       "      <td>1</td>\n",
       "      <td>B</td>\n",
       "      <td>275</td>\n",
       "      <td>1</td>\n",
       "    </tr>\n",
       "    <tr>\n",
       "      <th>122521</th>\n",
       "      <td>0</td>\n",
       "      <td>0</td>\n",
       "      <td>33</td>\n",
       "      <td>0</td>\n",
       "      <td>3.0</td>\n",
       "      <td>691</td>\n",
       "      <td>1</td>\n",
       "      <td>M</td>\n",
       "      <td>7</td>\n",
       "      <td>S</td>\n",
       "      <td>2</td>\n",
       "      <td>D</td>\n",
       "      <td>330</td>\n",
       "      <td>1</td>\n",
       "    </tr>\n",
       "  </tbody>\n",
       "</table>\n",
       "</div>"
      ],
      "text/plain": [
       "        label  feature_1 feature_2  feature_3  feature_4  feature_5  \\\n",
       "122517      0          0        E1          0        3.0        515   \n",
       "122518      0          0        01          0        3.0        807   \n",
       "122519      0          0        10          0        NaN        602   \n",
       "122520      0          0        E5          0        3.0        501   \n",
       "122521      0          0        33          0        3.0        691   \n",
       "\n",
       "        feature_6 feature_7  feature_8 feature_9  feature_10 feature_11  \\\n",
       "122517          1         M          3         M           1          F   \n",
       "122518          1         S          9         S           4          B   \n",
       "122519          0         M          9         M           2          A   \n",
       "122520          1         M          9         S           1          B   \n",
       "122521          1         M          7         S           2          D   \n",
       "\n",
       "        feature_12  feature_13  \n",
       "122517         300           0  \n",
       "122518         220           1  \n",
       "122519         290           1  \n",
       "122520         275           1  \n",
       "122521         330           1  "
      ]
     },
     "execution_count": 197,
     "metadata": {},
     "output_type": "execute_result"
    }
   ],
   "source": [
    "df_feat = df_feat.reset_index(drop = True)\n",
    "print(df_feat.isnull().sum())\n",
    "\n",
    "df_feat.tail()"
   ]
  },
  {
   "cell_type": "markdown",
   "metadata": {},
   "source": [
    "### We have now finally dealt with all of our nulls (except column 4)\n",
    "We still have almost 25,000 missing values in this column. There are 3 options we have to deal with this. \n",
    "\n",
    "A) Drop them\n",
    "\n",
    "B) Impute (using mean, regression, or even just creating a new category for these missing values)\n",
    "\n",
    "C) Ignore this column for now and see how the model performs\n",
    "\n",
    "For now I'll be trying C as it is the least invasive option. We can come back to other option later if we have a poor predictor"
   ]
  },
  {
   "cell_type": "code",
   "execution_count": 198,
   "metadata": {},
   "outputs": [
    {
     "name": "stdout",
     "output_type": "stream",
     "text": [
      "<class 'pandas.core.frame.DataFrame'>\n",
      "RangeIndex: 122522 entries, 0 to 122521\n",
      "Data columns (total 14 columns):\n",
      "label         122522 non-null int64\n",
      "feature_1     122522 non-null int64\n",
      "feature_2     122522 non-null object\n",
      "feature_3     122522 non-null int64\n",
      "feature_4     98309 non-null float64\n",
      "feature_5     122522 non-null int64\n",
      "feature_6     122522 non-null int64\n",
      "feature_7     122522 non-null object\n",
      "feature_8     122522 non-null int64\n",
      "feature_9     122522 non-null object\n",
      "feature_10    122522 non-null int64\n",
      "feature_11    122522 non-null object\n",
      "feature_12    122522 non-null int64\n",
      "feature_13    122522 non-null int64\n",
      "dtypes: float64(1), int64(9), object(4)\n",
      "memory usage: 13.1+ MB\n"
     ]
    }
   ],
   "source": [
    "df_feat.info()"
   ]
  },
  {
   "cell_type": "markdown",
   "metadata": {},
   "source": [
    "#### Feature 2\n",
    "One thing I noticed were the strange values of feature 2, I don't have any information about these categories and thus I cannot really justify dropping them. Feature 2 has 170 different features which isn't an absurd amount when we one hot encode our columns so it may be fine.\n",
    "\n",
    "**NOTE** If more efficiency is needed we can take the top 50 categories (or even less) of this feature as I suspect that would contain well over 95-99% of the data based on the value counts."
   ]
  },
  {
   "cell_type": "code",
   "execution_count": 209,
   "metadata": {},
   "outputs": [
    {
     "name": "stdout",
     "output_type": "stream",
     "text": [
      "label          int64\n",
      "feature_1      int64\n",
      "feature_2     object\n",
      "feature_3      int64\n",
      "feature_5      int64\n",
      "feature_6      int64\n",
      "feature_7     object\n",
      "feature_8      int64\n",
      "feature_9     object\n",
      "feature_10     int64\n",
      "feature_11    object\n",
      "feature_12     int64\n",
      "feature_13     int64\n",
      "dtype: object\n"
     ]
    },
    {
     "data": {
      "text/html": [
       "<div>\n",
       "<style scoped>\n",
       "    .dataframe tbody tr th:only-of-type {\n",
       "        vertical-align: middle;\n",
       "    }\n",
       "\n",
       "    .dataframe tbody tr th {\n",
       "        vertical-align: top;\n",
       "    }\n",
       "\n",
       "    .dataframe thead th {\n",
       "        text-align: right;\n",
       "    }\n",
       "</style>\n",
       "<table border=\"1\" class=\"dataframe\">\n",
       "  <thead>\n",
       "    <tr style=\"text-align: right;\">\n",
       "      <th></th>\n",
       "      <th>label</th>\n",
       "      <th>feature_1</th>\n",
       "      <th>feature_2</th>\n",
       "      <th>feature_3</th>\n",
       "      <th>feature_5</th>\n",
       "      <th>feature_6</th>\n",
       "      <th>feature_7</th>\n",
       "      <th>feature_8</th>\n",
       "      <th>feature_9</th>\n",
       "      <th>feature_10</th>\n",
       "      <th>feature_11</th>\n",
       "      <th>feature_12</th>\n",
       "      <th>feature_13</th>\n",
       "    </tr>\n",
       "  </thead>\n",
       "  <tbody>\n",
       "    <tr>\n",
       "      <th>0</th>\n",
       "      <td>1</td>\n",
       "      <td>0</td>\n",
       "      <td>01</td>\n",
       "      <td>0</td>\n",
       "      <td>505</td>\n",
       "      <td>0</td>\n",
       "      <td>M</td>\n",
       "      <td>7</td>\n",
       "      <td>M</td>\n",
       "      <td>1</td>\n",
       "      <td>C</td>\n",
       "      <td>280</td>\n",
       "      <td>0</td>\n",
       "    </tr>\n",
       "    <tr>\n",
       "      <th>1</th>\n",
       "      <td>1</td>\n",
       "      <td>0</td>\n",
       "      <td>02</td>\n",
       "      <td>0</td>\n",
       "      <td>803</td>\n",
       "      <td>1</td>\n",
       "      <td>M</td>\n",
       "      <td>9</td>\n",
       "      <td>M</td>\n",
       "      <td>4</td>\n",
       "      <td>B</td>\n",
       "      <td>275</td>\n",
       "      <td>0</td>\n",
       "    </tr>\n",
       "  </tbody>\n",
       "</table>\n",
       "</div>"
      ],
      "text/plain": [
       "   label  feature_1 feature_2  feature_3  feature_5  feature_6 feature_7  \\\n",
       "0      1          0        01          0        505          0         M   \n",
       "1      1          0        02          0        803          1         M   \n",
       "\n",
       "   feature_8 feature_9  feature_10 feature_11  feature_12  feature_13  \n",
       "0          7         M           1          C         280           0  \n",
       "1          9         M           4          B         275           0  "
      ]
     },
     "execution_count": 209,
     "metadata": {},
     "output_type": "execute_result"
    }
   ],
   "source": [
    "df = df_feat.drop(['feature_4'], axis=1)\n",
    "\n",
    "print(df.dtypes)\n",
    "df.head(2)"
   ]
  },
  {
   "cell_type": "code",
   "execution_count": 210,
   "metadata": {},
   "outputs": [],
   "source": [
    "df = pd.get_dummies(df, prefix=['feature_2', 'feature_7', 'feature_9', 'feature_11'])"
   ]
  },
  {
   "cell_type": "code",
   "execution_count": 211,
   "metadata": {},
   "outputs": [
    {
     "data": {
      "text/html": [
       "<div>\n",
       "<style scoped>\n",
       "    .dataframe tbody tr th:only-of-type {\n",
       "        vertical-align: middle;\n",
       "    }\n",
       "\n",
       "    .dataframe tbody tr th {\n",
       "        vertical-align: top;\n",
       "    }\n",
       "\n",
       "    .dataframe thead th {\n",
       "        text-align: right;\n",
       "    }\n",
       "</style>\n",
       "<table border=\"1\" class=\"dataframe\">\n",
       "  <thead>\n",
       "    <tr style=\"text-align: right;\">\n",
       "      <th></th>\n",
       "      <th>label</th>\n",
       "      <th>feature_1</th>\n",
       "      <th>feature_3</th>\n",
       "      <th>feature_5</th>\n",
       "      <th>feature_6</th>\n",
       "      <th>feature_8</th>\n",
       "      <th>feature_10</th>\n",
       "      <th>feature_12</th>\n",
       "      <th>feature_13</th>\n",
       "      <th>feature_2_00</th>\n",
       "      <th>...</th>\n",
       "      <th>feature_9_M</th>\n",
       "      <th>feature_9_S</th>\n",
       "      <th>feature_11_A</th>\n",
       "      <th>feature_11_B</th>\n",
       "      <th>feature_11_C</th>\n",
       "      <th>feature_11_D</th>\n",
       "      <th>feature_11_E</th>\n",
       "      <th>feature_11_F</th>\n",
       "      <th>feature_11_G</th>\n",
       "      <th>feature_11_H</th>\n",
       "    </tr>\n",
       "  </thead>\n",
       "  <tbody>\n",
       "    <tr>\n",
       "      <th>0</th>\n",
       "      <td>1</td>\n",
       "      <td>0</td>\n",
       "      <td>0</td>\n",
       "      <td>505</td>\n",
       "      <td>0</td>\n",
       "      <td>7</td>\n",
       "      <td>1</td>\n",
       "      <td>280</td>\n",
       "      <td>0</td>\n",
       "      <td>0</td>\n",
       "      <td>...</td>\n",
       "      <td>1</td>\n",
       "      <td>0</td>\n",
       "      <td>0</td>\n",
       "      <td>0</td>\n",
       "      <td>1</td>\n",
       "      <td>0</td>\n",
       "      <td>0</td>\n",
       "      <td>0</td>\n",
       "      <td>0</td>\n",
       "      <td>0</td>\n",
       "    </tr>\n",
       "    <tr>\n",
       "      <th>1</th>\n",
       "      <td>1</td>\n",
       "      <td>0</td>\n",
       "      <td>0</td>\n",
       "      <td>803</td>\n",
       "      <td>1</td>\n",
       "      <td>9</td>\n",
       "      <td>4</td>\n",
       "      <td>275</td>\n",
       "      <td>0</td>\n",
       "      <td>0</td>\n",
       "      <td>...</td>\n",
       "      <td>1</td>\n",
       "      <td>0</td>\n",
       "      <td>0</td>\n",
       "      <td>1</td>\n",
       "      <td>0</td>\n",
       "      <td>0</td>\n",
       "      <td>0</td>\n",
       "      <td>0</td>\n",
       "      <td>0</td>\n",
       "      <td>0</td>\n",
       "    </tr>\n",
       "    <tr>\n",
       "      <th>2</th>\n",
       "      <td>1</td>\n",
       "      <td>0</td>\n",
       "      <td>0</td>\n",
       "      <td>623</td>\n",
       "      <td>1</td>\n",
       "      <td>9</td>\n",
       "      <td>2</td>\n",
       "      <td>280</td>\n",
       "      <td>1</td>\n",
       "      <td>0</td>\n",
       "      <td>...</td>\n",
       "      <td>1</td>\n",
       "      <td>0</td>\n",
       "      <td>1</td>\n",
       "      <td>0</td>\n",
       "      <td>0</td>\n",
       "      <td>0</td>\n",
       "      <td>0</td>\n",
       "      <td>0</td>\n",
       "      <td>0</td>\n",
       "      <td>0</td>\n",
       "    </tr>\n",
       "    <tr>\n",
       "      <th>3</th>\n",
       "      <td>1</td>\n",
       "      <td>0</td>\n",
       "      <td>0</td>\n",
       "      <td>505</td>\n",
       "      <td>1</td>\n",
       "      <td>6</td>\n",
       "      <td>1</td>\n",
       "      <td>275</td>\n",
       "      <td>0</td>\n",
       "      <td>0</td>\n",
       "      <td>...</td>\n",
       "      <td>1</td>\n",
       "      <td>0</td>\n",
       "      <td>0</td>\n",
       "      <td>1</td>\n",
       "      <td>0</td>\n",
       "      <td>0</td>\n",
       "      <td>0</td>\n",
       "      <td>0</td>\n",
       "      <td>0</td>\n",
       "      <td>0</td>\n",
       "    </tr>\n",
       "    <tr>\n",
       "      <th>4</th>\n",
       "      <td>1</td>\n",
       "      <td>0</td>\n",
       "      <td>0</td>\n",
       "      <td>508</td>\n",
       "      <td>1</td>\n",
       "      <td>6</td>\n",
       "      <td>1</td>\n",
       "      <td>205</td>\n",
       "      <td>0</td>\n",
       "      <td>0</td>\n",
       "      <td>...</td>\n",
       "      <td>1</td>\n",
       "      <td>0</td>\n",
       "      <td>0</td>\n",
       "      <td>1</td>\n",
       "      <td>0</td>\n",
       "      <td>0</td>\n",
       "      <td>0</td>\n",
       "      <td>0</td>\n",
       "      <td>0</td>\n",
       "      <td>0</td>\n",
       "    </tr>\n",
       "  </tbody>\n",
       "</table>\n",
       "<p>5 rows × 178 columns</p>\n",
       "</div>"
      ],
      "text/plain": [
       "   label  feature_1  feature_3  feature_5  feature_6  feature_8  feature_10  \\\n",
       "0      1          0          0        505          0          7           1   \n",
       "1      1          0          0        803          1          9           4   \n",
       "2      1          0          0        623          1          9           2   \n",
       "3      1          0          0        505          1          6           1   \n",
       "4      1          0          0        508          1          6           1   \n",
       "\n",
       "   feature_12  feature_13  feature_2_00      ...       feature_9_M  \\\n",
       "0         280           0             0      ...                 1   \n",
       "1         275           0             0      ...                 1   \n",
       "2         280           1             0      ...                 1   \n",
       "3         275           0             0      ...                 1   \n",
       "4         205           0             0      ...                 1   \n",
       "\n",
       "   feature_9_S  feature_11_A  feature_11_B  feature_11_C  feature_11_D  \\\n",
       "0            0             0             0             1             0   \n",
       "1            0             0             1             0             0   \n",
       "2            0             1             0             0             0   \n",
       "3            0             0             1             0             0   \n",
       "4            0             0             1             0             0   \n",
       "\n",
       "   feature_11_E  feature_11_F  feature_11_G  feature_11_H  \n",
       "0             0             0             0             0  \n",
       "1             0             0             0             0  \n",
       "2             0             0             0             0  \n",
       "3             0             0             0             0  \n",
       "4             0             0             0             0  \n",
       "\n",
       "[5 rows x 178 columns]"
      ]
     },
     "execution_count": 211,
     "metadata": {},
     "output_type": "execute_result"
    }
   ],
   "source": [
    "df.head()"
   ]
  },
  {
   "cell_type": "code",
   "execution_count": 212,
   "metadata": {},
   "outputs": [],
   "source": [
    "from sklearn.model_selection import train_test_split\n",
    "\n",
    "x = df.drop(['label'], axis=1) #training features\n",
    "y = df['label'] #target\n",
    "\n",
    "#Need to set our train/test values before resampling\n",
    "x_train, x_test, y_train, y_test = train_test_split(x, y,\n",
    "                                                  test_size = .15)"
   ]
  },
  {
   "cell_type": "code",
   "execution_count": 214,
   "metadata": {},
   "outputs": [
    {
     "name": "stderr",
     "output_type": "stream",
     "text": [
      "/anaconda3/lib/python3.7/site-packages/sklearn/ensemble/forest.py:246: FutureWarning: The default value of n_estimators will change from 10 in version 0.20 to 100 in 0.22.\n",
      "  \"10 in version 0.20 to 100 in 0.22.\", FutureWarning)\n"
     ]
    },
    {
     "name": "stdout",
     "output_type": "stream",
     "text": [
      "Training accuracy normal RandomForest is: 0.9686680813880914\n",
      "Test accuracy normal RandomForest is: 0.7099951031068067\n",
      "              precision    recall  f1-score   support\n",
      "\n",
      "           0       0.69      0.71      0.70      8714\n",
      "           1       0.73      0.71      0.72      9665\n",
      "\n",
      "   micro avg       0.71      0.71      0.71     18379\n",
      "   macro avg       0.71      0.71      0.71     18379\n",
      "weighted avg       0.71      0.71      0.71     18379\n",
      "\n",
      "Cross Val RandomForestClassifier Accuracy: 0.71 (+/- 0.01)\n"
     ]
    }
   ],
   "source": [
    "from sklearn import ensemble\n",
    "from sklearn.model_selection import cross_val_score\n",
    "from sklearn.metrics import classification_report\n",
    "\n",
    "\n",
    "rfc = ensemble.RandomForestClassifier()\n",
    "rfc.fit(x_train, y_train)\n",
    "\n",
    "print('Training accuracy normal RandomForest is: {}'.format(rfc.score(x_train, y_train)))\n",
    "print('Test accuracy normal RandomForest is: {}'.format(rfc.score(x_test, y_test)))\n",
    "\n",
    "\n",
    "y_pred = rfc.predict(x_test) #predict y based on x_test\n",
    "print(classification_report(y_test, y_pred)) #true value vs predicted value\n",
    "\n",
    "scores = cross_val_score(rfc, x_train, y_train, cv=5)\n",
    "print(\"Cross Val RandomForestClassifier Accuracy: %0.2f (+/- %0.2f)\" % (scores.mean(), scores.std() * 2))"
   ]
  },
  {
   "cell_type": "code",
   "execution_count": 215,
   "metadata": {},
   "outputs": [
    {
     "name": "stderr",
     "output_type": "stream",
     "text": [
      "/anaconda3/lib/python3.7/site-packages/sklearn/svm/base.py:931: ConvergenceWarning: Liblinear failed to converge, increase the number of iterations.\n",
      "  \"the number of iterations.\", ConvergenceWarning)\n"
     ]
    },
    {
     "name": "stdout",
     "output_type": "stream",
     "text": [
      "Training accuracy LinearSVC is: 0.6353667553268103\n",
      "Test accuracy LinearSVC is: 0.6355079166439959\n",
      "              precision    recall  f1-score   support\n",
      "\n",
      "           0       0.93      0.25      0.40      8714\n",
      "           1       0.59      0.98      0.74      9665\n",
      "\n",
      "   micro avg       0.64      0.64      0.64     18379\n",
      "   macro avg       0.76      0.62      0.57     18379\n",
      "weighted avg       0.75      0.64      0.58     18379\n",
      "\n"
     ]
    },
    {
     "name": "stderr",
     "output_type": "stream",
     "text": [
      "/anaconda3/lib/python3.7/site-packages/sklearn/svm/base.py:931: ConvergenceWarning: Liblinear failed to converge, increase the number of iterations.\n",
      "  \"the number of iterations.\", ConvergenceWarning)\n",
      "/anaconda3/lib/python3.7/site-packages/sklearn/svm/base.py:931: ConvergenceWarning: Liblinear failed to converge, increase the number of iterations.\n",
      "  \"the number of iterations.\", ConvergenceWarning)\n",
      "/anaconda3/lib/python3.7/site-packages/sklearn/svm/base.py:931: ConvergenceWarning: Liblinear failed to converge, increase the number of iterations.\n",
      "  \"the number of iterations.\", ConvergenceWarning)\n",
      "/anaconda3/lib/python3.7/site-packages/sklearn/svm/base.py:931: ConvergenceWarning: Liblinear failed to converge, increase the number of iterations.\n",
      "  \"the number of iterations.\", ConvergenceWarning)\n"
     ]
    },
    {
     "name": "stdout",
     "output_type": "stream",
     "text": [
      "Cross Val LinearSVC Accuracy: 0.62 (+/- 0.18)\n"
     ]
    },
    {
     "name": "stderr",
     "output_type": "stream",
     "text": [
      "/anaconda3/lib/python3.7/site-packages/sklearn/svm/base.py:931: ConvergenceWarning: Liblinear failed to converge, increase the number of iterations.\n",
      "  \"the number of iterations.\", ConvergenceWarning)\n"
     ]
    }
   ],
   "source": [
    "from sklearn.svm import LinearSVC\n",
    "\n",
    "clf = LinearSVC()\n",
    "clf.fit(x_train, y_train) \n",
    "\n",
    "print('Training accuracy LinearSVC is: {}'.format(clf.score(x_train, y_train)))\n",
    "print('Test accuracy LinearSVC is: {}'.format(clf.score(x_test, y_test)))\n",
    "\n",
    "y_pred = clf.predict(x_test) #predict y based on x_test\n",
    "print(classification_report(y_test, y_pred)) #true value vs predicted value\n",
    "\n",
    "scores = cross_val_score(clf, x_train, y_train, cv=5)\n",
    "print(\"Cross Val LinearSVC Accuracy: %0.2f (+/- %0.2f)\" % (scores.mean(), scores.std() * 2))"
   ]
  },
  {
   "cell_type": "code",
   "execution_count": 217,
   "metadata": {},
   "outputs": [
    {
     "name": "stdout",
     "output_type": "stream",
     "text": [
      "Training accuracy normal GradientBoosting is: 0.7574776989331976\n",
      "Test accuracy normal GradientBoosting is: 0.7529245334348985\n",
      "              precision    recall  f1-score   support\n",
      "\n",
      "           0       0.77      0.68      0.72      8714\n",
      "           1       0.74      0.82      0.78      9665\n",
      "\n",
      "   micro avg       0.75      0.75      0.75     18379\n",
      "   macro avg       0.76      0.75      0.75     18379\n",
      "weighted avg       0.75      0.75      0.75     18379\n",
      "\n",
      "CV Gradient Booster Accuracy: 0.76 (+/- 0.00)\n"
     ]
    }
   ],
   "source": [
    "clf1 = ensemble.GradientBoostingClassifier()\n",
    "clf1.fit(x_train, y_train)\n",
    "\n",
    "print('Training accuracy normal GradientBoosting is: {}'.format(clf1.score(x_train, y_train)))\n",
    "print('Test accuracy normal GradientBoosting is: {}'.format(clf1.score(x_test, y_test)))\n",
    "\n",
    "y_pred = clf1.predict(x_test) #predict y based on x_test\n",
    "print(classification_report(y_test, y_pred)) #true value vs predicted value\n",
    "\n",
    "scores = cross_val_score(clf1, x_train, y_train, cv=5)\n",
    "print(\"CV Gradient Booster Accuracy: %0.2f (+/- %0.2f)\" % (scores.mean(), scores.std() * 2))"
   ]
  },
  {
   "cell_type": "markdown",
   "metadata": {},
   "source": [
    "### We have a few nice baseline models here\n",
    "Let's see if we can improve by imputing feature_4 and using it!"
   ]
  },
  {
   "cell_type": "code",
   "execution_count": 252,
   "metadata": {},
   "outputs": [],
   "source": [
    "#Convert our NaNs into a new category\n",
    "\n",
    "df_2 = df_feat.drop(['feature_2'], axis=1)\n",
    "df_2['feature_4'] = df_2['feature_4'].fillna(5)\n",
    "df_2['feature_4'] = df_2['feature_4'].astype(str)\n"
   ]
  },
  {
   "cell_type": "code",
   "execution_count": 253,
   "metadata": {},
   "outputs": [
    {
     "data": {
      "text/plain": [
       "3    32566\n",
       "2    29835\n",
       "5    24213\n",
       "1    22034\n",
       "4    13874\n",
       "Name: feature_4, dtype: int64"
      ]
     },
     "execution_count": 253,
     "metadata": {},
     "output_type": "execute_result"
    }
   ],
   "source": [
    "df_2['feature_4'].value_counts()"
   ]
  },
  {
   "cell_type": "code",
   "execution_count": 254,
   "metadata": {},
   "outputs": [
    {
     "data": {
      "text/plain": [
       "label         0\n",
       "feature_1     0\n",
       "feature_3     0\n",
       "feature_4     0\n",
       "feature_5     0\n",
       "feature_6     0\n",
       "feature_7     0\n",
       "feature_8     0\n",
       "feature_9     0\n",
       "feature_10    0\n",
       "feature_11    0\n",
       "feature_12    0\n",
       "feature_13    0\n",
       "dtype: int64"
      ]
     },
     "execution_count": 254,
     "metadata": {},
     "output_type": "execute_result"
    }
   ],
   "source": [
    "df_2.isnull().sum()"
   ]
  },
  {
   "cell_type": "code",
   "execution_count": 255,
   "metadata": {},
   "outputs": [],
   "source": [
    "df_2 = pd.get_dummies(df_2, prefix=['feature_4', 'feature_7', 'feature_9', 'feature_11'])"
   ]
  },
  {
   "cell_type": "code",
   "execution_count": 256,
   "metadata": {},
   "outputs": [
    {
     "data": {
      "text/html": [
       "<div>\n",
       "<style scoped>\n",
       "    .dataframe tbody tr th:only-of-type {\n",
       "        vertical-align: middle;\n",
       "    }\n",
       "\n",
       "    .dataframe tbody tr th {\n",
       "        vertical-align: top;\n",
       "    }\n",
       "\n",
       "    .dataframe thead th {\n",
       "        text-align: right;\n",
       "    }\n",
       "</style>\n",
       "<table border=\"1\" class=\"dataframe\">\n",
       "  <thead>\n",
       "    <tr style=\"text-align: right;\">\n",
       "      <th></th>\n",
       "      <th>label</th>\n",
       "      <th>feature_1</th>\n",
       "      <th>feature_3</th>\n",
       "      <th>feature_5</th>\n",
       "      <th>feature_6</th>\n",
       "      <th>feature_8</th>\n",
       "      <th>feature_10</th>\n",
       "      <th>feature_12</th>\n",
       "      <th>feature_13</th>\n",
       "      <th>feature_4_1</th>\n",
       "      <th>...</th>\n",
       "      <th>feature_9_M</th>\n",
       "      <th>feature_9_S</th>\n",
       "      <th>feature_11_A</th>\n",
       "      <th>feature_11_B</th>\n",
       "      <th>feature_11_C</th>\n",
       "      <th>feature_11_D</th>\n",
       "      <th>feature_11_E</th>\n",
       "      <th>feature_11_F</th>\n",
       "      <th>feature_11_G</th>\n",
       "      <th>feature_11_H</th>\n",
       "    </tr>\n",
       "  </thead>\n",
       "  <tbody>\n",
       "    <tr>\n",
       "      <th>0</th>\n",
       "      <td>1</td>\n",
       "      <td>0</td>\n",
       "      <td>0</td>\n",
       "      <td>505</td>\n",
       "      <td>0</td>\n",
       "      <td>7</td>\n",
       "      <td>1</td>\n",
       "      <td>280</td>\n",
       "      <td>0</td>\n",
       "      <td>0</td>\n",
       "      <td>...</td>\n",
       "      <td>1</td>\n",
       "      <td>0</td>\n",
       "      <td>0</td>\n",
       "      <td>0</td>\n",
       "      <td>1</td>\n",
       "      <td>0</td>\n",
       "      <td>0</td>\n",
       "      <td>0</td>\n",
       "      <td>0</td>\n",
       "      <td>0</td>\n",
       "    </tr>\n",
       "    <tr>\n",
       "      <th>1</th>\n",
       "      <td>1</td>\n",
       "      <td>0</td>\n",
       "      <td>0</td>\n",
       "      <td>803</td>\n",
       "      <td>1</td>\n",
       "      <td>9</td>\n",
       "      <td>4</td>\n",
       "      <td>275</td>\n",
       "      <td>0</td>\n",
       "      <td>0</td>\n",
       "      <td>...</td>\n",
       "      <td>1</td>\n",
       "      <td>0</td>\n",
       "      <td>0</td>\n",
       "      <td>1</td>\n",
       "      <td>0</td>\n",
       "      <td>0</td>\n",
       "      <td>0</td>\n",
       "      <td>0</td>\n",
       "      <td>0</td>\n",
       "      <td>0</td>\n",
       "    </tr>\n",
       "  </tbody>\n",
       "</table>\n",
       "<p>2 rows × 26 columns</p>\n",
       "</div>"
      ],
      "text/plain": [
       "   label  feature_1  feature_3  feature_5  feature_6  feature_8  feature_10  \\\n",
       "0      1          0          0        505          0          7           1   \n",
       "1      1          0          0        803          1          9           4   \n",
       "\n",
       "   feature_12  feature_13  feature_4_1      ...       feature_9_M  \\\n",
       "0         280           0            0      ...                 1   \n",
       "1         275           0            0      ...                 1   \n",
       "\n",
       "   feature_9_S  feature_11_A  feature_11_B  feature_11_C  feature_11_D  \\\n",
       "0            0             0             0             1             0   \n",
       "1            0             0             1             0             0   \n",
       "\n",
       "   feature_11_E  feature_11_F  feature_11_G  feature_11_H  \n",
       "0             0             0             0             0  \n",
       "1             0             0             0             0  \n",
       "\n",
       "[2 rows x 26 columns]"
      ]
     },
     "execution_count": 256,
     "metadata": {},
     "output_type": "execute_result"
    }
   ],
   "source": [
    "df_2.head(2)"
   ]
  },
  {
   "cell_type": "code",
   "execution_count": 257,
   "metadata": {},
   "outputs": [],
   "source": [
    "from sklearn.model_selection import train_test_split\n",
    "\n",
    "x = df_2.drop(['label'], axis=1) #training features\n",
    "y = df_2['label'] #target\n",
    "\n",
    "#Need to set our train/test values before resampling\n",
    "x_train, x_test, y_train, y_test = train_test_split(x, y,\n",
    "                                                  test_size = .15)"
   ]
  },
  {
   "cell_type": "code",
   "execution_count": 258,
   "metadata": {},
   "outputs": [
    {
     "name": "stderr",
     "output_type": "stream",
     "text": [
      "/anaconda3/lib/python3.7/site-packages/sklearn/ensemble/forest.py:246: FutureWarning: The default value of n_estimators will change from 10 in version 0.20 to 100 in 0.22.\n",
      "  \"10 in version 0.20 to 100 in 0.22.\", FutureWarning)\n"
     ]
    },
    {
     "name": "stdout",
     "output_type": "stream",
     "text": [
      "Training accuracy normal RandomForest is: 0.9610055404587923\n",
      "Test accuracy normal RandomForest is: 0.7132596985690189\n",
      "              precision    recall  f1-score   support\n",
      "\n",
      "           0       0.69      0.72      0.70      8604\n",
      "           1       0.74      0.71      0.73      9775\n",
      "\n",
      "   micro avg       0.71      0.71      0.71     18379\n",
      "   macro avg       0.71      0.71      0.71     18379\n",
      "weighted avg       0.71      0.71      0.71     18379\n",
      "\n",
      "Cross Val RandomForestClassifier Accuracy: 0.71 (+/- 0.01)\n"
     ]
    }
   ],
   "source": [
    "rfc = ensemble.RandomForestClassifier()\n",
    "rfc.fit(x_train, y_train)\n",
    "\n",
    "print('Training accuracy normal RandomForest is: {}'.format(rfc.score(x_train, y_train)))\n",
    "print('Test accuracy normal RandomForest is: {}'.format(rfc.score(x_test, y_test)))\n",
    "\n",
    "\n",
    "y_pred = rfc.predict(x_test) #predict y based on x_test\n",
    "print(classification_report(y_test, y_pred)) #true value vs predicted value\n",
    "\n",
    "scores = cross_val_score(rfc, x_train, y_train, cv=5)\n",
    "print(\"Cross Val RandomForestClassifier Accuracy: %0.2f (+/- %0.2f)\" % (scores.mean(), scores.std() * 2))"
   ]
  },
  {
   "cell_type": "code",
   "execution_count": 260,
   "metadata": {},
   "outputs": [
    {
     "name": "stderr",
     "output_type": "stream",
     "text": [
      "/anaconda3/lib/python3.7/site-packages/sklearn/svm/base.py:931: ConvergenceWarning: Liblinear failed to converge, increase the number of iterations.\n",
      "  \"the number of iterations.\", ConvergenceWarning)\n"
     ]
    },
    {
     "name": "stdout",
     "output_type": "stream",
     "text": [
      "Training accuracy LinearSVC is: 0.6933447279221839\n",
      "Test accuracy LinearSVC is: 0.6953588334512215\n",
      "              precision    recall  f1-score   support\n",
      "\n",
      "           0       0.87      0.41      0.56      8604\n",
      "           1       0.65      0.94      0.77      9775\n",
      "\n",
      "   micro avg       0.70      0.70      0.70     18379\n",
      "   macro avg       0.76      0.68      0.66     18379\n",
      "weighted avg       0.75      0.70      0.67     18379\n",
      "\n"
     ]
    },
    {
     "name": "stderr",
     "output_type": "stream",
     "text": [
      "/anaconda3/lib/python3.7/site-packages/sklearn/svm/base.py:931: ConvergenceWarning: Liblinear failed to converge, increase the number of iterations.\n",
      "  \"the number of iterations.\", ConvergenceWarning)\n",
      "/anaconda3/lib/python3.7/site-packages/sklearn/svm/base.py:931: ConvergenceWarning: Liblinear failed to converge, increase the number of iterations.\n",
      "  \"the number of iterations.\", ConvergenceWarning)\n",
      "/anaconda3/lib/python3.7/site-packages/sklearn/svm/base.py:931: ConvergenceWarning: Liblinear failed to converge, increase the number of iterations.\n",
      "  \"the number of iterations.\", ConvergenceWarning)\n",
      "/anaconda3/lib/python3.7/site-packages/sklearn/svm/base.py:931: ConvergenceWarning: Liblinear failed to converge, increase the number of iterations.\n",
      "  \"the number of iterations.\", ConvergenceWarning)\n"
     ]
    },
    {
     "name": "stdout",
     "output_type": "stream",
     "text": [
      "Cross Val LinearSVC Accuracy: 0.58 (+/- 0.16)\n"
     ]
    },
    {
     "name": "stderr",
     "output_type": "stream",
     "text": [
      "/anaconda3/lib/python3.7/site-packages/sklearn/svm/base.py:931: ConvergenceWarning: Liblinear failed to converge, increase the number of iterations.\n",
      "  \"the number of iterations.\", ConvergenceWarning)\n"
     ]
    }
   ],
   "source": [
    "clf = LinearSVC()\n",
    "clf.fit(x_train, y_train) \n",
    "\n",
    "print('Training accuracy LinearSVC is: {}'.format(clf.score(x_train, y_train)))\n",
    "print('Test accuracy LinearSVC is: {}'.format(clf.score(x_test, y_test)))\n",
    "\n",
    "y_pred = clf.predict(x_test) #predict y based on x_test\n",
    "print(classification_report(y_test, y_pred)) #true value vs predicted value\n",
    "\n",
    "scores = cross_val_score(clf, x_train, y_train, cv=5)\n",
    "print(\"Cross Val LinearSVC Accuracy: %0.2f (+/- %0.2f)\" % (scores.mean(), scores.std() * 2))"
   ]
  },
  {
   "cell_type": "code",
   "execution_count": 261,
   "metadata": {},
   "outputs": [
    {
     "name": "stdout",
     "output_type": "stream",
     "text": [
      "Training accuracy normal GradientBoosting is: 0.7616066370279327\n",
      "Test accuracy normal GradientBoosting is: 0.7611948419391698\n",
      "              precision    recall  f1-score   support\n",
      "\n",
      "           0       0.77      0.69      0.73      8604\n",
      "           1       0.75      0.82      0.79      9775\n",
      "\n",
      "   micro avg       0.76      0.76      0.76     18379\n",
      "   macro avg       0.76      0.76      0.76     18379\n",
      "weighted avg       0.76      0.76      0.76     18379\n",
      "\n",
      "CV Gradient Booster Accuracy: 0.76 (+/- 0.00)\n"
     ]
    }
   ],
   "source": [
    "clf1 = ensemble.GradientBoostingClassifier()\n",
    "clf1.fit(x_train, y_train)\n",
    "\n",
    "print('Training accuracy normal GradientBoosting is: {}'.format(clf1.score(x_train, y_train)))\n",
    "print('Test accuracy normal GradientBoosting is: {}'.format(clf1.score(x_test, y_test)))\n",
    "\n",
    "y_pred = clf1.predict(x_test) #predict y based on x_test\n",
    "print(classification_report(y_test, y_pred)) #true value vs predicted value\n",
    "\n",
    "scores = cross_val_score(clf1, x_train, y_train, cv=5)\n",
    "print(\"CV Gradient Booster Accuracy: %0.2f (+/- %0.2f)\" % (scores.mean(), scores.std() * 2))"
   ]
  },
  {
   "cell_type": "code",
   "execution_count": 266,
   "metadata": {},
   "outputs": [
    {
     "name": "stdout",
     "output_type": "stream",
     "text": [
      "Training accuracy normal GradientBoosting is: 0.738743842601039\n",
      "Test accuracy normal GradientBoosting is: 0.7385603134011643\n",
      "              precision    recall  f1-score   support\n",
      "\n",
      "           0       0.74      0.67      0.71      8604\n",
      "           1       0.73      0.80      0.76      9775\n",
      "\n",
      "   micro avg       0.74      0.74      0.74     18379\n",
      "   macro avg       0.74      0.73      0.74     18379\n",
      "weighted avg       0.74      0.74      0.74     18379\n",
      "\n"
     ]
    },
    {
     "name": "stderr",
     "output_type": "stream",
     "text": [
      "/anaconda3/lib/python3.7/site-packages/scipy/optimize/linesearch.py:462: LineSearchWarning: The line search algorithm did not converge\n",
      "  warn('The line search algorithm did not converge', LineSearchWarning)\n",
      "/anaconda3/lib/python3.7/site-packages/scipy/optimize/linesearch.py:313: LineSearchWarning: The line search algorithm did not converge\n",
      "  warn('The line search algorithm did not converge', LineSearchWarning)\n"
     ]
    },
    {
     "name": "stdout",
     "output_type": "stream",
     "text": [
      "CV Gradient Booster Accuracy: 0.74 (+/- 0.00)\n"
     ]
    }
   ],
   "source": [
    "from sklearn.linear_model import LogisticRegression\n",
    "\n",
    "lr = LogisticRegression(max_iter=500, solver='newton-cg')\n",
    "lr.fit(x_train, y_train)\n",
    "\n",
    "print('Training accuracy normal GradientBoosting is: {}'.format(lr.score(x_train, y_train)))\n",
    "print('Test accuracy normal GradientBoosting is: {}'.format(lr.score(x_test, y_test)))\n",
    "\n",
    "y_pred = lr.predict(x_test) #predict y based on x_test\n",
    "print(classification_report(y_test, y_pred)) #true value vs predicted value\n",
    "\n",
    "scores = cross_val_score(lr, x_train, y_train, cv=5)\n",
    "print(\"CV Gradient Booster Accuracy: %0.2f (+/- %0.2f)\" % (scores.mean(), scores.std() * 2))"
   ]
  },
  {
   "cell_type": "code",
   "execution_count": 270,
   "metadata": {},
   "outputs": [
    {
     "data": {
      "image/png": "[encoded data removed]",
      "text/plain": [
       "<Figure size 720x720 with 1 Axes>"
      ]
     },
     "metadata": {},
     "output_type": "display_data"
    }
   ],
   "source": [
    "import matplotlib.pyplot as plt\n",
    "from matplotlib.pyplot import style\n",
    "style.use('ggplot')\n",
    "\n",
    "#Find feature imporatance\n",
    "feat_importances = pd.Series(rfc.feature_importances_, index=x.columns)\n",
    "plt.figure(figsize=(10, 10))\n",
    "\n",
    "feat_importances.nlargest(10).plot(kind='barh')\n",
    "plt.ylabel('Feature')\n",
    "plt.xlabel('Importance')\n",
    "plt.title('Top 10 Features')\n",
    "plt.tick_params(axis = 'both', which = 'major', labelsize = 12)\n",
    "plt.show()"
   ]
  },
  {
   "cell_type": "markdown",
   "metadata": {},
   "source": [
    "### Try deleting missing values from feature 4"
   ]
  },
  {
   "cell_type": "code",
   "execution_count": 293,
   "metadata": {},
   "outputs": [],
   "source": [
    "df_3 = df_feat"
   ]
  },
  {
   "cell_type": "code",
   "execution_count": 294,
   "metadata": {},
   "outputs": [],
   "source": [
    "#Remove our imputed value\n",
    "df_3['feature_4'] = df_3['feature_4'].astype(str)\n",
    "df_3 = df_3[df_3['feature_4'] != 5]"
   ]
  },
  {
   "cell_type": "code",
   "execution_count": 295,
   "metadata": {},
   "outputs": [],
   "source": [
    "df_3 = df_3.reset_index(drop=True)"
   ]
  },
  {
   "cell_type": "code",
   "execution_count": 297,
   "metadata": {},
   "outputs": [
    {
     "data": {
      "text/html": [
       "<div>\n",
       "<style scoped>\n",
       "    .dataframe tbody tr th:only-of-type {\n",
       "        vertical-align: middle;\n",
       "    }\n",
       "\n",
       "    .dataframe tbody tr th {\n",
       "        vertical-align: top;\n",
       "    }\n",
       "\n",
       "    .dataframe thead th {\n",
       "        text-align: right;\n",
       "    }\n",
       "</style>\n",
       "<table border=\"1\" class=\"dataframe\">\n",
       "  <thead>\n",
       "    <tr style=\"text-align: right;\">\n",
       "      <th></th>\n",
       "      <th>label</th>\n",
       "      <th>feature_1</th>\n",
       "      <th>feature_3</th>\n",
       "      <th>feature_5</th>\n",
       "      <th>feature_6</th>\n",
       "      <th>feature_8</th>\n",
       "      <th>feature_10</th>\n",
       "      <th>feature_12</th>\n",
       "      <th>feature_13</th>\n",
       "      <th>feature_4_00</th>\n",
       "      <th>...</th>\n",
       "      <th>feature_9_M</th>\n",
       "      <th>feature_9_S</th>\n",
       "      <th>feature_11_A</th>\n",
       "      <th>feature_11_B</th>\n",
       "      <th>feature_11_C</th>\n",
       "      <th>feature_11_D</th>\n",
       "      <th>feature_11_E</th>\n",
       "      <th>feature_11_F</th>\n",
       "      <th>feature_11_G</th>\n",
       "      <th>feature_11_H</th>\n",
       "    </tr>\n",
       "  </thead>\n",
       "  <tbody>\n",
       "    <tr>\n",
       "      <th>0</th>\n",
       "      <td>1</td>\n",
       "      <td>0</td>\n",
       "      <td>0</td>\n",
       "      <td>505</td>\n",
       "      <td>0</td>\n",
       "      <td>7</td>\n",
       "      <td>1</td>\n",
       "      <td>280</td>\n",
       "      <td>0</td>\n",
       "      <td>0</td>\n",
       "      <td>...</td>\n",
       "      <td>1</td>\n",
       "      <td>0</td>\n",
       "      <td>0</td>\n",
       "      <td>0</td>\n",
       "      <td>1</td>\n",
       "      <td>0</td>\n",
       "      <td>0</td>\n",
       "      <td>0</td>\n",
       "      <td>0</td>\n",
       "      <td>0</td>\n",
       "    </tr>\n",
       "    <tr>\n",
       "      <th>1</th>\n",
       "      <td>1</td>\n",
       "      <td>0</td>\n",
       "      <td>0</td>\n",
       "      <td>803</td>\n",
       "      <td>1</td>\n",
       "      <td>9</td>\n",
       "      <td>4</td>\n",
       "      <td>275</td>\n",
       "      <td>0</td>\n",
       "      <td>0</td>\n",
       "      <td>...</td>\n",
       "      <td>1</td>\n",
       "      <td>0</td>\n",
       "      <td>0</td>\n",
       "      <td>1</td>\n",
       "      <td>0</td>\n",
       "      <td>0</td>\n",
       "      <td>0</td>\n",
       "      <td>0</td>\n",
       "      <td>0</td>\n",
       "      <td>0</td>\n",
       "    </tr>\n",
       "  </tbody>\n",
       "</table>\n",
       "<p>2 rows × 183 columns</p>\n",
       "</div>"
      ],
      "text/plain": [
       "   label  feature_1  feature_3  feature_5  feature_6  feature_8  feature_10  \\\n",
       "0      1          0          0        505          0          7           1   \n",
       "1      1          0          0        803          1          9           4   \n",
       "\n",
       "   feature_12  feature_13  feature_4_00      ...       feature_9_M  \\\n",
       "0         280           0             0      ...                 1   \n",
       "1         275           0             0      ...                 1   \n",
       "\n",
       "   feature_9_S  feature_11_A  feature_11_B  feature_11_C  feature_11_D  \\\n",
       "0            0             0             0             1             0   \n",
       "1            0             0             1             0             0   \n",
       "\n",
       "   feature_11_E  feature_11_F  feature_11_G  feature_11_H  \n",
       "0             0             0             0             0  \n",
       "1             0             0             0             0  \n",
       "\n",
       "[2 rows x 183 columns]"
      ]
     },
     "execution_count": 297,
     "metadata": {},
     "output_type": "execute_result"
    }
   ],
   "source": [
    "df_3 = pd.get_dummies(df_3, prefix=['feature_4', 'feature_2', 'feature_7', 'feature_9', 'feature_11'])\n",
    "df_3.head(2)"
   ]
  },
  {
   "cell_type": "code",
   "execution_count": 298,
   "metadata": {},
   "outputs": [],
   "source": [
    "from sklearn.model_selection import train_test_split\n",
    "\n",
    "x = df_3.drop(['label'], axis=1) #training features\n",
    "y = df_3['label'] #target\n",
    "\n",
    "#Need to set our train/test values before resampling\n",
    "x_train, x_test, y_train, y_test = train_test_split(x, y,\n",
    "                                                  test_size = .15)"
   ]
  },
  {
   "cell_type": "code",
   "execution_count": 299,
   "metadata": {},
   "outputs": [
    {
     "name": "stderr",
     "output_type": "stream",
     "text": [
      "/anaconda3/lib/python3.7/site-packages/sklearn/ensemble/forest.py:246: FutureWarning: The default value of n_estimators will change from 10 in version 0.20 to 100 in 0.22.\n",
      "  \"10 in version 0.20 to 100 in 0.22.\", FutureWarning)\n"
     ]
    },
    {
     "name": "stdout",
     "output_type": "stream",
     "text": [
      "Training accuracy normal RandomForest is: 0.9787215655396906\n",
      "Test accuracy normal RandomForest is: 0.716959573426193\n",
      "              precision    recall  f1-score   support\n",
      "\n",
      "           0       0.69      0.72      0.70      8606\n",
      "           1       0.74      0.71      0.73      9773\n",
      "\n",
      "   micro avg       0.72      0.72      0.72     18379\n",
      "   macro avg       0.72      0.72      0.72     18379\n",
      "weighted avg       0.72      0.72      0.72     18379\n",
      "\n",
      "Cross Val RandomForestClassifier Accuracy: 0.72 (+/- 0.00)\n"
     ]
    }
   ],
   "source": [
    "rfc = ensemble.RandomForestClassifier()\n",
    "rfc.fit(x_train, y_train)\n",
    "\n",
    "print('Training accuracy normal RandomForest is: {}'.format(rfc.score(x_train, y_train)))\n",
    "print('Test accuracy normal RandomForest is: {}'.format(rfc.score(x_test, y_test)))\n",
    "\n",
    "\n",
    "y_pred = rfc.predict(x_test) #predict y based on x_test\n",
    "print(classification_report(y_test, y_pred)) #true value vs predicted value\n",
    "\n",
    "scores = cross_val_score(rfc, x_train, y_train, cv=5)\n",
    "print(\"Cross Val RandomForestClassifier Accuracy: %0.2f (+/- %0.2f)\" % (scores.mean(), scores.std() * 2))"
   ]
  },
  {
   "cell_type": "code",
   "execution_count": 300,
   "metadata": {},
   "outputs": [
    {
     "name": "stderr",
     "output_type": "stream",
     "text": [
      "/anaconda3/lib/python3.7/site-packages/sklearn/svm/base.py:931: ConvergenceWarning: Liblinear failed to converge, increase the number of iterations.\n",
      "  \"the number of iterations.\", ConvergenceWarning)\n"
     ]
    },
    {
     "name": "stdout",
     "output_type": "stream",
     "text": [
      "Training accuracy LinearSVC is: 0.47172637623268004\n",
      "Test accuracy LinearSVC is: 0.4682518091299853\n"
     ]
    },
    {
     "name": "stderr",
     "output_type": "stream",
     "text": [
      "/anaconda3/lib/python3.7/site-packages/sklearn/metrics/classification.py:1143: UndefinedMetricWarning: Precision and F-score are ill-defined and being set to 0.0 in labels with no predicted samples.\n",
      "  'precision', 'predicted', average, warn_for)\n"
     ]
    },
    {
     "name": "stdout",
     "output_type": "stream",
     "text": [
      "              precision    recall  f1-score   support\n",
      "\n",
      "           0       0.47      1.00      0.64      8606\n",
      "           1       0.00      0.00      0.00      9773\n",
      "\n",
      "   micro avg       0.47      0.47      0.47     18379\n",
      "   macro avg       0.23      0.50      0.32     18379\n",
      "weighted avg       0.22      0.47      0.30     18379\n",
      "\n"
     ]
    },
    {
     "name": "stderr",
     "output_type": "stream",
     "text": [
      "/anaconda3/lib/python3.7/site-packages/sklearn/svm/base.py:931: ConvergenceWarning: Liblinear failed to converge, increase the number of iterations.\n",
      "  \"the number of iterations.\", ConvergenceWarning)\n",
      "/anaconda3/lib/python3.7/site-packages/sklearn/svm/base.py:931: ConvergenceWarning: Liblinear failed to converge, increase the number of iterations.\n",
      "  \"the number of iterations.\", ConvergenceWarning)\n",
      "/anaconda3/lib/python3.7/site-packages/sklearn/svm/base.py:931: ConvergenceWarning: Liblinear failed to converge, increase the number of iterations.\n",
      "  \"the number of iterations.\", ConvergenceWarning)\n",
      "/anaconda3/lib/python3.7/site-packages/sklearn/svm/base.py:931: ConvergenceWarning: Liblinear failed to converge, increase the number of iterations.\n",
      "  \"the number of iterations.\", ConvergenceWarning)\n"
     ]
    },
    {
     "name": "stdout",
     "output_type": "stream",
     "text": [
      "Cross Val LinearSVC Accuracy: 0.61 (+/- 0.15)\n"
     ]
    },
    {
     "name": "stderr",
     "output_type": "stream",
     "text": [
      "/anaconda3/lib/python3.7/site-packages/sklearn/svm/base.py:931: ConvergenceWarning: Liblinear failed to converge, increase the number of iterations.\n",
      "  \"the number of iterations.\", ConvergenceWarning)\n"
     ]
    }
   ],
   "source": [
    "clf = LinearSVC()\n",
    "clf.fit(x_train, y_train) \n",
    "\n",
    "print('Training accuracy LinearSVC is: {}'.format(clf.score(x_train, y_train)))\n",
    "print('Test accuracy LinearSVC is: {}'.format(clf.score(x_test, y_test)))\n",
    "\n",
    "y_pred = clf.predict(x_test) #predict y based on x_test\n",
    "print(classification_report(y_test, y_pred)) #true value vs predicted value\n",
    "\n",
    "scores = cross_val_score(clf, x_train, y_train, cv=5)\n",
    "print(\"Cross Val LinearSVC Accuracy: %0.2f (+/- %0.2f)\" % (scores.mean(), scores.std() * 2))"
   ]
  },
  {
   "cell_type": "code",
   "execution_count": 301,
   "metadata": {},
   "outputs": [
    {
     "name": "stdout",
     "output_type": "stream",
     "text": [
      "Training accuracy normal GradientBoosting is: 0.7617314653889363\n",
      "Test accuracy normal GradientBoosting is: 0.7610316121660591\n",
      "              precision    recall  f1-score   support\n",
      "\n",
      "           0       0.77      0.69      0.73      8606\n",
      "           1       0.75      0.82      0.78      9773\n",
      "\n",
      "   micro avg       0.76      0.76      0.76     18379\n",
      "   macro avg       0.76      0.76      0.76     18379\n",
      "weighted avg       0.76      0.76      0.76     18379\n",
      "\n",
      "CV Gradient Booster Accuracy: 0.76 (+/- 0.00)\n"
     ]
    }
   ],
   "source": [
    "clf1 = ensemble.GradientBoostingClassifier()\n",
    "clf1.fit(x_train, y_train)\n",
    "\n",
    "print('Training accuracy normal GradientBoosting is: {}'.format(clf1.score(x_train, y_train)))\n",
    "print('Test accuracy normal GradientBoosting is: {}'.format(clf1.score(x_test, y_test)))\n",
    "\n",
    "y_pred = clf1.predict(x_test) #predict y based on x_test\n",
    "print(classification_report(y_test, y_pred)) #true value vs predicted value\n",
    "\n",
    "scores = cross_val_score(clf1, x_train, y_train, cv=5)\n",
    "print(\"CV Gradient Booster Accuracy: %0.2f (+/- %0.2f)\" % (scores.mean(), scores.std() * 2))"
   ]
  },
  {
   "cell_type": "markdown",
   "metadata": {},
   "source": [
    "### No matter what was done with Feature 4 it didn't affect the predictive accuracy in any of our models\n",
    "Because of this we'll choose a dataframe that doesn't utilize this feature at all for efficiency, feature_2 didn't seem to affect things either while adding a significant amount of complexity. We also notice that out of all our models the Gradient boosting classifier did best each time."
   ]
  },
  {
   "cell_type": "code",
   "execution_count": 341,
   "metadata": {},
   "outputs": [
    {
     "name": "stdout",
     "output_type": "stream",
     "text": [
      "label          int64\n",
      "feature_1      int64\n",
      "feature_3      int64\n",
      "feature_5      int64\n",
      "feature_6      int64\n",
      "feature_7     object\n",
      "feature_8      int64\n",
      "feature_9     object\n",
      "feature_10     int64\n",
      "feature_11    object\n",
      "feature_12     int64\n",
      "feature_13     int64\n",
      "dtype: object\n"
     ]
    },
    {
     "data": {
      "text/html": [
       "<div>\n",
       "<style scoped>\n",
       "    .dataframe tbody tr th:only-of-type {\n",
       "        vertical-align: middle;\n",
       "    }\n",
       "\n",
       "    .dataframe tbody tr th {\n",
       "        vertical-align: top;\n",
       "    }\n",
       "\n",
       "    .dataframe thead th {\n",
       "        text-align: right;\n",
       "    }\n",
       "</style>\n",
       "<table border=\"1\" class=\"dataframe\">\n",
       "  <thead>\n",
       "    <tr style=\"text-align: right;\">\n",
       "      <th></th>\n",
       "      <th>label</th>\n",
       "      <th>feature_1</th>\n",
       "      <th>feature_3</th>\n",
       "      <th>feature_5</th>\n",
       "      <th>feature_6</th>\n",
       "      <th>feature_7</th>\n",
       "      <th>feature_8</th>\n",
       "      <th>feature_9</th>\n",
       "      <th>feature_10</th>\n",
       "      <th>feature_11</th>\n",
       "      <th>feature_12</th>\n",
       "      <th>feature_13</th>\n",
       "    </tr>\n",
       "  </thead>\n",
       "  <tbody>\n",
       "    <tr>\n",
       "      <th>122517</th>\n",
       "      <td>0</td>\n",
       "      <td>0</td>\n",
       "      <td>0</td>\n",
       "      <td>515</td>\n",
       "      <td>1</td>\n",
       "      <td>M</td>\n",
       "      <td>3</td>\n",
       "      <td>M</td>\n",
       "      <td>1</td>\n",
       "      <td>F</td>\n",
       "      <td>300</td>\n",
       "      <td>0</td>\n",
       "    </tr>\n",
       "    <tr>\n",
       "      <th>122518</th>\n",
       "      <td>0</td>\n",
       "      <td>0</td>\n",
       "      <td>0</td>\n",
       "      <td>807</td>\n",
       "      <td>1</td>\n",
       "      <td>S</td>\n",
       "      <td>9</td>\n",
       "      <td>S</td>\n",
       "      <td>4</td>\n",
       "      <td>B</td>\n",
       "      <td>220</td>\n",
       "      <td>1</td>\n",
       "    </tr>\n",
       "    <tr>\n",
       "      <th>122519</th>\n",
       "      <td>0</td>\n",
       "      <td>0</td>\n",
       "      <td>0</td>\n",
       "      <td>602</td>\n",
       "      <td>0</td>\n",
       "      <td>M</td>\n",
       "      <td>9</td>\n",
       "      <td>M</td>\n",
       "      <td>2</td>\n",
       "      <td>A</td>\n",
       "      <td>290</td>\n",
       "      <td>1</td>\n",
       "    </tr>\n",
       "    <tr>\n",
       "      <th>122520</th>\n",
       "      <td>0</td>\n",
       "      <td>0</td>\n",
       "      <td>0</td>\n",
       "      <td>501</td>\n",
       "      <td>1</td>\n",
       "      <td>M</td>\n",
       "      <td>9</td>\n",
       "      <td>S</td>\n",
       "      <td>1</td>\n",
       "      <td>B</td>\n",
       "      <td>275</td>\n",
       "      <td>1</td>\n",
       "    </tr>\n",
       "    <tr>\n",
       "      <th>122521</th>\n",
       "      <td>0</td>\n",
       "      <td>0</td>\n",
       "      <td>0</td>\n",
       "      <td>691</td>\n",
       "      <td>1</td>\n",
       "      <td>M</td>\n",
       "      <td>7</td>\n",
       "      <td>S</td>\n",
       "      <td>2</td>\n",
       "      <td>D</td>\n",
       "      <td>330</td>\n",
       "      <td>1</td>\n",
       "    </tr>\n",
       "  </tbody>\n",
       "</table>\n",
       "</div>"
      ],
      "text/plain": [
       "        label  feature_1  feature_3  feature_5  feature_6 feature_7  \\\n",
       "122517      0          0          0        515          1         M   \n",
       "122518      0          0          0        807          1         S   \n",
       "122519      0          0          0        602          0         M   \n",
       "122520      0          0          0        501          1         M   \n",
       "122521      0          0          0        691          1         M   \n",
       "\n",
       "        feature_8 feature_9  feature_10 feature_11  feature_12  feature_13  \n",
       "122517          3         M           1          F         300           0  \n",
       "122518          9         S           4          B         220           1  \n",
       "122519          9         M           2          A         290           1  \n",
       "122520          9         S           1          B         275           1  \n",
       "122521          7         S           2          D         330           1  "
      ]
     },
     "execution_count": 341,
     "metadata": {},
     "output_type": "execute_result"
    }
   ],
   "source": [
    "df = df_feat.drop(['feature_4', 'feature_2'], axis=1)\n",
    "\n",
    "print(df.dtypes)\n",
    "df.tail()"
   ]
  },
  {
   "cell_type": "code",
   "execution_count": 342,
   "metadata": {},
   "outputs": [
    {
     "data": {
      "text/html": [
       "<div>\n",
       "<style scoped>\n",
       "    .dataframe tbody tr th:only-of-type {\n",
       "        vertical-align: middle;\n",
       "    }\n",
       "\n",
       "    .dataframe tbody tr th {\n",
       "        vertical-align: top;\n",
       "    }\n",
       "\n",
       "    .dataframe thead th {\n",
       "        text-align: right;\n",
       "    }\n",
       "</style>\n",
       "<table border=\"1\" class=\"dataframe\">\n",
       "  <thead>\n",
       "    <tr style=\"text-align: right;\">\n",
       "      <th></th>\n",
       "      <th>label</th>\n",
       "      <th>feature_1</th>\n",
       "      <th>feature_3</th>\n",
       "      <th>feature_5</th>\n",
       "      <th>feature_6</th>\n",
       "      <th>feature_8</th>\n",
       "      <th>feature_10</th>\n",
       "      <th>feature_12</th>\n",
       "      <th>feature_13</th>\n",
       "      <th>feature_7_M</th>\n",
       "      <th>...</th>\n",
       "      <th>feature_9_M</th>\n",
       "      <th>feature_9_S</th>\n",
       "      <th>feature_11_A</th>\n",
       "      <th>feature_11_B</th>\n",
       "      <th>feature_11_C</th>\n",
       "      <th>feature_11_D</th>\n",
       "      <th>feature_11_E</th>\n",
       "      <th>feature_11_F</th>\n",
       "      <th>feature_11_G</th>\n",
       "      <th>feature_11_H</th>\n",
       "    </tr>\n",
       "  </thead>\n",
       "  <tbody>\n",
       "    <tr>\n",
       "      <th>0</th>\n",
       "      <td>1</td>\n",
       "      <td>0</td>\n",
       "      <td>0</td>\n",
       "      <td>505</td>\n",
       "      <td>0</td>\n",
       "      <td>7</td>\n",
       "      <td>1</td>\n",
       "      <td>280</td>\n",
       "      <td>0</td>\n",
       "      <td>1</td>\n",
       "      <td>...</td>\n",
       "      <td>1</td>\n",
       "      <td>0</td>\n",
       "      <td>0</td>\n",
       "      <td>0</td>\n",
       "      <td>1</td>\n",
       "      <td>0</td>\n",
       "      <td>0</td>\n",
       "      <td>0</td>\n",
       "      <td>0</td>\n",
       "      <td>0</td>\n",
       "    </tr>\n",
       "    <tr>\n",
       "      <th>1</th>\n",
       "      <td>1</td>\n",
       "      <td>0</td>\n",
       "      <td>0</td>\n",
       "      <td>803</td>\n",
       "      <td>1</td>\n",
       "      <td>9</td>\n",
       "      <td>4</td>\n",
       "      <td>275</td>\n",
       "      <td>0</td>\n",
       "      <td>1</td>\n",
       "      <td>...</td>\n",
       "      <td>1</td>\n",
       "      <td>0</td>\n",
       "      <td>0</td>\n",
       "      <td>1</td>\n",
       "      <td>0</td>\n",
       "      <td>0</td>\n",
       "      <td>0</td>\n",
       "      <td>0</td>\n",
       "      <td>0</td>\n",
       "      <td>0</td>\n",
       "    </tr>\n",
       "  </tbody>\n",
       "</table>\n",
       "<p>2 rows × 21 columns</p>\n",
       "</div>"
      ],
      "text/plain": [
       "   label  feature_1  feature_3  feature_5  feature_6  feature_8  feature_10  \\\n",
       "0      1          0          0        505          0          7           1   \n",
       "1      1          0          0        803          1          9           4   \n",
       "\n",
       "   feature_12  feature_13  feature_7_M      ...       feature_9_M  \\\n",
       "0         280           0            1      ...                 1   \n",
       "1         275           0            1      ...                 1   \n",
       "\n",
       "   feature_9_S  feature_11_A  feature_11_B  feature_11_C  feature_11_D  \\\n",
       "0            0             0             0             1             0   \n",
       "1            0             0             1             0             0   \n",
       "\n",
       "   feature_11_E  feature_11_F  feature_11_G  feature_11_H  \n",
       "0             0             0             0             0  \n",
       "1             0             0             0             0  \n",
       "\n",
       "[2 rows x 21 columns]"
      ]
     },
     "execution_count": 342,
     "metadata": {},
     "output_type": "execute_result"
    }
   ],
   "source": [
    "df = pd.get_dummies(df, prefix=['feature_7', 'feature_9', 'feature_11'])\n",
    "df.head(2)"
   ]
  },
  {
   "cell_type": "code",
   "execution_count": 343,
   "metadata": {},
   "outputs": [
    {
     "data": {
      "text/plain": [
       "label           int64\n",
       "feature_1       int64\n",
       "feature_3       int64\n",
       "feature_5       int64\n",
       "feature_6       int64\n",
       "feature_8       int64\n",
       "feature_10      int64\n",
       "feature_12      int64\n",
       "feature_13      int64\n",
       "feature_7_M     uint8\n",
       "feature_7_S     uint8\n",
       "feature_9_M     uint8\n",
       "feature_9_S     uint8\n",
       "feature_11_A    uint8\n",
       "feature_11_B    uint8\n",
       "feature_11_C    uint8\n",
       "feature_11_D    uint8\n",
       "feature_11_E    uint8\n",
       "feature_11_F    uint8\n",
       "feature_11_G    uint8\n",
       "feature_11_H    uint8\n",
       "dtype: object"
      ]
     },
     "execution_count": 343,
     "metadata": {},
     "output_type": "execute_result"
    }
   ],
   "source": [
    "df.dtypes"
   ]
  },
  {
   "cell_type": "code",
   "execution_count": 344,
   "metadata": {},
   "outputs": [],
   "source": [
    "from sklearn.model_selection import train_test_split\n",
    "\n",
    "x = df.drop(['label'], axis=1) #training features\n",
    "y = df['label'] #target\n",
    "\n",
    "#Need to set our train/test values before resampling\n",
    "x_train, x_test, y_train, y_test = train_test_split(x, y,\n",
    "                                                  test_size = .15, random_state = 42)"
   ]
  },
  {
   "cell_type": "code",
   "execution_count": 345,
   "metadata": {},
   "outputs": [
    {
     "name": "stdout",
     "output_type": "stream",
     "text": [
      "Training accuracy normal GradientBoosting is: 0.7582458734624506\n",
      "Test accuracy normal GradientBoosting is: 0.7512378257794222\n",
      "              precision    recall  f1-score   support\n",
      "\n",
      "           0       0.76      0.67      0.71      8469\n",
      "           1       0.74      0.82      0.78      9910\n",
      "\n",
      "   micro avg       0.75      0.75      0.75     18379\n",
      "   macro avg       0.75      0.75      0.75     18379\n",
      "weighted avg       0.75      0.75      0.75     18379\n",
      "\n",
      "CV Gradient Booster Accuracy: 0.76 (+/- 0.00)\n"
     ]
    }
   ],
   "source": [
    "clf1 = ensemble.GradientBoostingClassifier()\n",
    "clf1.fit(x_train, y_train)\n",
    "\n",
    "print('Training accuracy normal GradientBoosting is: {}'.format(clf1.score(x_train, y_train)))\n",
    "print('Test accuracy normal GradientBoosting is: {}'.format(clf1.score(x_test, y_test)))\n",
    "\n",
    "y_pred = clf1.predict(x_test) #predict y based on x_test\n",
    "print(classification_report(y_test, y_pred)) #true value vs predicted value\n",
    "\n",
    "scores = cross_val_score(clf1, x_train, y_train, cv=5)\n",
    "print(\"CV Gradient Booster Accuracy: %0.2f (+/- %0.2f)\" % (scores.mean(), scores.std() * 2))"
   ]
  },
  {
   "cell_type": "code",
   "execution_count": 346,
   "metadata": {},
   "outputs": [
    {
     "name": "stderr",
     "output_type": "stream",
     "text": [
      "/anaconda3/lib/python3.7/site-packages/sklearn/ensemble/forest.py:246: FutureWarning: The default value of n_estimators will change from 10 in version 0.20 to 100 in 0.22.\n",
      "  \"10 in version 0.20 to 100 in 0.22.\", FutureWarning)\n"
     ]
    },
    {
     "name": "stdout",
     "output_type": "stream",
     "text": [
      "Training accuracy normal RandomForest is: 0.9336105163093055\n",
      "Test accuracy normal RandomForest is: 0.7104847924261385\n",
      "              precision    recall  f1-score   support\n",
      "\n",
      "           0       0.68      0.70      0.69      8469\n",
      "           1       0.74      0.72      0.73      9910\n",
      "\n",
      "   micro avg       0.71      0.71      0.71     18379\n",
      "   macro avg       0.71      0.71      0.71     18379\n",
      "weighted avg       0.71      0.71      0.71     18379\n",
      "\n",
      "Cross Val RandomForestClassifier Accuracy: 0.71 (+/- 0.00)\n"
     ]
    }
   ],
   "source": [
    "rfc = ensemble.RandomForestClassifier()\n",
    "rfc.fit(x_train, y_train)\n",
    "\n",
    "print('Training accuracy normal RandomForest is: {}'.format(rfc.score(x_train, y_train)))\n",
    "print('Test accuracy normal RandomForest is: {}'.format(rfc.score(x_test, y_test)))\n",
    "\n",
    "\n",
    "y_pred = rfc.predict(x_test) #predict y based on x_test\n",
    "print(classification_report(y_test, y_pred)) #true value vs predicted value\n",
    "\n",
    "scores = cross_val_score(rfc, x_train, y_train, cv=5)\n",
    "print(\"Cross Val RandomForestClassifier Accuracy: %0.2f (+/- %0.2f)\" % (scores.mean(), scores.std() * 2))"
   ]
  },
  {
   "cell_type": "code",
   "execution_count": 347,
   "metadata": {},
   "outputs": [
    {
     "data": {
      "image/png": "[encoded data removed]",
      "text/plain": [
       "<Figure size 720x720 with 1 Axes>"
      ]
     },
     "metadata": {},
     "output_type": "display_data"
    }
   ],
   "source": [
    "feat_importances = pd.Series(rfc.feature_importances_, index=x.columns)\n",
    "plt.figure(figsize=(10, 10))\n",
    "\n",
    "feat_importances.nlargest(10).plot(kind='barh')\n",
    "plt.ylabel('Feature')\n",
    "plt.xlabel('Importance')\n",
    "plt.title('Top 10 Features')\n",
    "plt.tick_params(axis = 'both', which = 'major', labelsize = 12)\n",
    "plt.show()"
   ]
  },
  {
   "cell_type": "markdown",
   "metadata": {},
   "source": [
    "#### We can see the most important features\n",
    "Features 12 and 5 were our numerical features. Let's try dropping the outliers based on z-score from 12 to see if this gives us better predictive accuracy. (Feature 5 actually doesn't have any values outside of 3 standard deviations)"
   ]
  },
  {
   "cell_type": "code",
   "execution_count": 350,
   "metadata": {},
   "outputs": [],
   "source": [
    "from scipy import stats\n",
    "\n",
    "z = np.abs(stats.zscore(df_feat.feature_12))\n",
    "# get indices of outliers\n",
    "outliers = list(np.where(z > 3)[0])\n",
    "# drop them\n",
    "df_clean = df_feat.drop(outliers)"
   ]
  },
  {
   "cell_type": "code",
   "execution_count": 351,
   "metadata": {},
   "outputs": [
    {
     "data": {
      "text/plain": [
       "count    122223.000000\n",
       "mean        239.917732\n",
       "std          63.716581\n",
       "min          90.000000\n",
       "25%         200.000000\n",
       "50%         245.000000\n",
       "75%         280.000000\n",
       "max         430.000000\n",
       "Name: feature_12, dtype: float64"
      ]
     },
     "execution_count": 351,
     "metadata": {},
     "output_type": "execute_result"
    }
   ],
   "source": [
    "df_clean.feature_12.describe()"
   ]
  },
  {
   "cell_type": "code",
   "execution_count": 352,
   "metadata": {},
   "outputs": [
    {
     "data": {
      "text/plain": [
       "count    122522.000000\n",
       "mean        240.447756\n",
       "std          64.541207\n",
       "min          90.000000\n",
       "25%         200.000000\n",
       "50%         245.000000\n",
       "75%         280.000000\n",
       "max         495.000000\n",
       "Name: feature_12, dtype: float64"
      ]
     },
     "execution_count": 352,
     "metadata": {},
     "output_type": "execute_result"
    }
   ],
   "source": [
    "df_feat.feature_12.describe()"
   ]
  },
  {
   "cell_type": "code",
   "execution_count": 365,
   "metadata": {},
   "outputs": [],
   "source": [
    "df_c = df_clean.drop(['feature_2', 'feature_4'], axis = 1)\n",
    "df_c = df_c.reset_index(drop=True)"
   ]
  },
  {
   "cell_type": "code",
   "execution_count": 368,
   "metadata": {},
   "outputs": [
    {
     "data": {
      "text/html": [
       "<div>\n",
       "<style scoped>\n",
       "    .dataframe tbody tr th:only-of-type {\n",
       "        vertical-align: middle;\n",
       "    }\n",
       "\n",
       "    .dataframe tbody tr th {\n",
       "        vertical-align: top;\n",
       "    }\n",
       "\n",
       "    .dataframe thead th {\n",
       "        text-align: right;\n",
       "    }\n",
       "</style>\n",
       "<table border=\"1\" class=\"dataframe\">\n",
       "  <thead>\n",
       "    <tr style=\"text-align: right;\">\n",
       "      <th></th>\n",
       "      <th>label</th>\n",
       "      <th>feature_1</th>\n",
       "      <th>feature_3</th>\n",
       "      <th>feature_5</th>\n",
       "      <th>feature_6</th>\n",
       "      <th>feature_7</th>\n",
       "      <th>feature_8</th>\n",
       "      <th>feature_9</th>\n",
       "      <th>feature_10</th>\n",
       "      <th>feature_11</th>\n",
       "      <th>feature_12</th>\n",
       "      <th>feature_13</th>\n",
       "    </tr>\n",
       "  </thead>\n",
       "  <tbody>\n",
       "    <tr>\n",
       "      <th>122218</th>\n",
       "      <td>0</td>\n",
       "      <td>0</td>\n",
       "      <td>0</td>\n",
       "      <td>515</td>\n",
       "      <td>1</td>\n",
       "      <td>M</td>\n",
       "      <td>3</td>\n",
       "      <td>M</td>\n",
       "      <td>1</td>\n",
       "      <td>F</td>\n",
       "      <td>300</td>\n",
       "      <td>0</td>\n",
       "    </tr>\n",
       "    <tr>\n",
       "      <th>122219</th>\n",
       "      <td>0</td>\n",
       "      <td>0</td>\n",
       "      <td>0</td>\n",
       "      <td>807</td>\n",
       "      <td>1</td>\n",
       "      <td>S</td>\n",
       "      <td>9</td>\n",
       "      <td>S</td>\n",
       "      <td>4</td>\n",
       "      <td>B</td>\n",
       "      <td>220</td>\n",
       "      <td>1</td>\n",
       "    </tr>\n",
       "    <tr>\n",
       "      <th>122220</th>\n",
       "      <td>0</td>\n",
       "      <td>0</td>\n",
       "      <td>0</td>\n",
       "      <td>602</td>\n",
       "      <td>0</td>\n",
       "      <td>M</td>\n",
       "      <td>9</td>\n",
       "      <td>M</td>\n",
       "      <td>2</td>\n",
       "      <td>A</td>\n",
       "      <td>290</td>\n",
       "      <td>1</td>\n",
       "    </tr>\n",
       "    <tr>\n",
       "      <th>122221</th>\n",
       "      <td>0</td>\n",
       "      <td>0</td>\n",
       "      <td>0</td>\n",
       "      <td>501</td>\n",
       "      <td>1</td>\n",
       "      <td>M</td>\n",
       "      <td>9</td>\n",
       "      <td>S</td>\n",
       "      <td>1</td>\n",
       "      <td>B</td>\n",
       "      <td>275</td>\n",
       "      <td>1</td>\n",
       "    </tr>\n",
       "    <tr>\n",
       "      <th>122222</th>\n",
       "      <td>0</td>\n",
       "      <td>0</td>\n",
       "      <td>0</td>\n",
       "      <td>691</td>\n",
       "      <td>1</td>\n",
       "      <td>M</td>\n",
       "      <td>7</td>\n",
       "      <td>S</td>\n",
       "      <td>2</td>\n",
       "      <td>D</td>\n",
       "      <td>330</td>\n",
       "      <td>1</td>\n",
       "    </tr>\n",
       "  </tbody>\n",
       "</table>\n",
       "</div>"
      ],
      "text/plain": [
       "        label  feature_1  feature_3  feature_5  feature_6 feature_7  \\\n",
       "122218      0          0          0        515          1         M   \n",
       "122219      0          0          0        807          1         S   \n",
       "122220      0          0          0        602          0         M   \n",
       "122221      0          0          0        501          1         M   \n",
       "122222      0          0          0        691          1         M   \n",
       "\n",
       "        feature_8 feature_9  feature_10 feature_11  feature_12  feature_13  \n",
       "122218          3         M           1          F         300           0  \n",
       "122219          9         S           4          B         220           1  \n",
       "122220          9         M           2          A         290           1  \n",
       "122221          9         S           1          B         275           1  \n",
       "122222          7         S           2          D         330           1  "
      ]
     },
     "execution_count": 368,
     "metadata": {},
     "output_type": "execute_result"
    }
   ],
   "source": [
    "df_c.tail()"
   ]
  },
  {
   "cell_type": "code",
   "execution_count": 369,
   "metadata": {},
   "outputs": [
    {
     "name": "stdout",
     "output_type": "stream",
     "text": [
      "Training accuracy normal GradientBoosting is: 0.7579435743918991\n",
      "Test accuracy normal GradientBoosting is: 0.7522090105814334\n",
      "              precision    recall  f1-score   support\n",
      "\n",
      "           0       0.76      0.68      0.72      8547\n",
      "           1       0.74      0.82      0.78      9787\n",
      "\n",
      "   micro avg       0.75      0.75      0.75     18334\n",
      "   macro avg       0.75      0.75      0.75     18334\n",
      "weighted avg       0.75      0.75      0.75     18334\n",
      "\n",
      "CV Gradient Booster Accuracy: 0.76 (+/- 0.01)\n"
     ]
    }
   ],
   "source": [
    "df_c = pd.get_dummies(df_c, prefix=['feature_7', 'feature_9', 'feature_11'])\n",
    "\n",
    "x = df_c.drop(['label'], axis=1) #training features\n",
    "y = df_c['label'] #target\n",
    "\n",
    "#Set our train/test values\n",
    "x_train, x_test, y_train, y_test = train_test_split(x, y,\n",
    "                                                  test_size = .15, random_state = 42)\n",
    "\n",
    "clf1 = ensemble.GradientBoostingClassifier()\n",
    "clf1.fit(x_train, y_train)\n",
    "\n",
    "print('Training accuracy normal GradientBoosting is: {}'.format(clf1.score(x_train, y_train)))\n",
    "print('Test accuracy normal GradientBoosting is: {}'.format(clf1.score(x_test, y_test)))\n",
    "\n",
    "y_pred = clf1.predict(x_test) #predict y based on x_test\n",
    "print(classification_report(y_test, y_pred)) #true value vs predicted value\n",
    "\n",
    "scores = cross_val_score(clf1, x_train, y_train, cv=5)\n",
    "print(\"CV Gradient Booster Accuracy: %0.2f (+/- %0.2f)\" % (scores.mean(), scores.std() * 2))"
   ]
  },
  {
   "cell_type": "code",
   "execution_count": 372,
   "metadata": {},
   "outputs": [
    {
     "data": {
      "image/png": "[encoded data removed]",
      "text/plain": [
       "<Figure size 1800x1800 with 2 Axes>"
      ]
     },
     "metadata": {},
     "output_type": "display_data"
    }
   ],
   "source": [
    "import seaborn as sns\n",
    "\n",
    "plt.figure(figsize=(25,25))\n",
    "#plot heat map\n",
    "g=sns.heatmap(df_feat.corr(),annot=True,cmap=\"RdYlGn\")"
   ]
  },
  {
   "cell_type": "code",
   "execution_count": null,
   "metadata": {},
   "outputs": [],
   "source": []
  }
 ],
 "metadata": {
  "kernelspec": {
   "display_name": "Python 3",
   "language": "python",
   "name": "python3"
  },
  "language_info": {
   "codemirror_mode": {
    "name": "ipython",
    "version": 3
   },
   "file_extension": ".py",
   "mimetype": "text/x-python",
   "name": "python",
   "nbconvert_exporter": "python",
   "pygments_lexer": "ipython3",
   "version": "3.7.2"
  }
 },
 "nbformat": 4,
 "nbformat_minor": 2
}
