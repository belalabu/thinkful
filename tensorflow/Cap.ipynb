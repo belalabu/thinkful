{
 "cells": [
  {
   "cell_type": "code",
   "execution_count": 28,
   "metadata": {},
   "outputs": [
    {
     "name": "stdout",
     "output_type": "stream",
     "text": [
      "['.DS_Store', 'Training', 'CSVFiles', 'Cap.ipynb', '.ipynb_checkpoints', 'ft']\n"
     ]
    }
   ],
   "source": [
    "import pandas as pd\n",
    "import numpy as np\n",
    "import io\n",
    "import glob\n",
    "import os\n",
    "print(os.listdir(\"../Capstone\"))\n",
    "\n",
    "#os.walk"
   ]
  },
  {
   "cell_type": "code",
   "execution_count": 116,
   "metadata": {},
   "outputs": [],
   "source": [
    "data = []\n",
    "\n",
    "path = '../Capstone/ft/Images' #read our path\n",
    "all_files = glob.glob(path + '/**/*.csv') #read from the csv files in the image folder\n",
    "\n",
    "for new in all_files:\n",
    "    dfnew = pd.read_csv(new, sep=';', index_col=None, header=0) #read and organize our csv's\n",
    "    dfnew['filename'] = os.path.dirname(new)\n",
    "    data.append(dfnew)\n",
    "    \n",
    "frame = pd.concat(data, axis=0, ignore_index=True) #concat lists into dataframe\n",
    "frame['name'] = frame['filename'] + '/' + frame['Filename']\n",
    "\n",
    "df = frame.drop(['Filename', 'filename'], axis=1)"
   ]
  },
  {
   "cell_type": "code",
   "execution_count": 117,
   "metadata": {},
   "outputs": [
    {
     "data": {
      "text/html": [
       "<div>\n",
       "<style scoped>\n",
       "    .dataframe tbody tr th:only-of-type {\n",
       "        vertical-align: middle;\n",
       "    }\n",
       "\n",
       "    .dataframe tbody tr th {\n",
       "        vertical-align: top;\n",
       "    }\n",
       "\n",
       "    .dataframe thead th {\n",
       "        text-align: right;\n",
       "    }\n",
       "</style>\n",
       "<table border=\"1\" class=\"dataframe\">\n",
       "  <thead>\n",
       "    <tr style=\"text-align: right;\">\n",
       "      <th></th>\n",
       "      <th>Width</th>\n",
       "      <th>Height</th>\n",
       "      <th>Roi.X1</th>\n",
       "      <th>Roi.Y1</th>\n",
       "      <th>Roi.X2</th>\n",
       "      <th>Roi.Y2</th>\n",
       "      <th>ClassId</th>\n",
       "      <th>name</th>\n",
       "    </tr>\n",
       "  </thead>\n",
       "  <tbody>\n",
       "    <tr>\n",
       "      <th>0</th>\n",
       "      <td>38</td>\n",
       "      <td>35</td>\n",
       "      <td>5</td>\n",
       "      <td>5</td>\n",
       "      <td>33</td>\n",
       "      <td>30</td>\n",
       "      <td>31</td>\n",
       "      <td>../Capstone/ft/Images/00031/00000_00000.ppm</td>\n",
       "    </tr>\n",
       "    <tr>\n",
       "      <th>1</th>\n",
       "      <td>40</td>\n",
       "      <td>36</td>\n",
       "      <td>6</td>\n",
       "      <td>5</td>\n",
       "      <td>34</td>\n",
       "      <td>31</td>\n",
       "      <td>31</td>\n",
       "      <td>../Capstone/ft/Images/00031/00000_00001.ppm</td>\n",
       "    </tr>\n",
       "    <tr>\n",
       "      <th>2</th>\n",
       "      <td>40</td>\n",
       "      <td>37</td>\n",
       "      <td>5</td>\n",
       "      <td>5</td>\n",
       "      <td>34</td>\n",
       "      <td>32</td>\n",
       "      <td>31</td>\n",
       "      <td>../Capstone/ft/Images/00031/00000_00002.ppm</td>\n",
       "    </tr>\n",
       "    <tr>\n",
       "      <th>3</th>\n",
       "      <td>41</td>\n",
       "      <td>39</td>\n",
       "      <td>6</td>\n",
       "      <td>6</td>\n",
       "      <td>36</td>\n",
       "      <td>34</td>\n",
       "      <td>31</td>\n",
       "      <td>../Capstone/ft/Images/00031/00000_00003.ppm</td>\n",
       "    </tr>\n",
       "    <tr>\n",
       "      <th>4</th>\n",
       "      <td>43</td>\n",
       "      <td>37</td>\n",
       "      <td>6</td>\n",
       "      <td>5</td>\n",
       "      <td>38</td>\n",
       "      <td>32</td>\n",
       "      <td>31</td>\n",
       "      <td>../Capstone/ft/Images/00031/00000_00004.ppm</td>\n",
       "    </tr>\n",
       "  </tbody>\n",
       "</table>\n",
       "</div>"
      ],
      "text/plain": [
       "   Width  Height  Roi.X1  Roi.Y1  Roi.X2  Roi.Y2  ClassId  \\\n",
       "0     38      35       5       5      33      30       31   \n",
       "1     40      36       6       5      34      31       31   \n",
       "2     40      37       5       5      34      32       31   \n",
       "3     41      39       6       6      36      34       31   \n",
       "4     43      37       6       5      38      32       31   \n",
       "\n",
       "                                          name  \n",
       "0  ../Capstone/ft/Images/00031/00000_00000.ppm  \n",
       "1  ../Capstone/ft/Images/00031/00000_00001.ppm  \n",
       "2  ../Capstone/ft/Images/00031/00000_00002.ppm  \n",
       "3  ../Capstone/ft/Images/00031/00000_00003.ppm  \n",
       "4  ../Capstone/ft/Images/00031/00000_00004.ppm  "
      ]
     },
     "execution_count": 117,
     "metadata": {},
     "output_type": "execute_result"
    }
   ],
   "source": [
    "df.head()"
   ]
  },
  {
   "cell_type": "code",
   "execution_count": null,
   "metadata": {},
   "outputs": [],
   "source": []
  }
 ],
 "metadata": {
  "kernelspec": {
   "display_name": "Python 3",
   "language": "python",
   "name": "python3"
  },
  "language_info": {
   "codemirror_mode": {
    "name": "ipython",
    "version": 3
   },
   "file_extension": ".py",
   "mimetype": "text/x-python",
   "name": "python",
   "nbconvert_exporter": "python",
   "pygments_lexer": "ipython3",
   "version": "3.7.2"
  }
 },
 "nbformat": 4,
 "nbformat_minor": 2
}
