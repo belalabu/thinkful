{
 "cells": [
  {
   "cell_type": "code",
   "execution_count": 287,
   "metadata": {},
   "outputs": [
    {
     "name": "stdout",
     "output_type": "stream",
     "text": [
      "['.DS_Store', 'Training', 'CSVFiles', 'Cap.ipynb', '.ipynb_checkpoints', 'ft']\n"
     ]
    }
   ],
   "source": [
    "import pandas as pd\n",
    "import numpy as np\n",
    "import io\n",
    "import glob\n",
    "print(os.listdir(\"../Capstone\"))\n",
    "\n",
    "#os.walk"
   ]
  },
  {
   "cell_type": "code",
   "execution_count": 329,
   "metadata": {},
   "outputs": [],
   "source": [
    "#Loop to read all our files and merge them in 1 dataset\n",
    "#The csv file columns are split by semicolons, they are not actual columns\n",
    "#seperate each column by locating the \";\"\n",
    "\n",
    "path = '../Capstone/ft/Images' #read our path\n",
    "all_files = glob.glob(path + '/**/*.csv') #read from the csv files in the image folder\n",
    "\n",
    "li = [] #empty list to fill\n",
    "\n",
    "for filename in all_files:\n",
    "    df_or = pd.read_csv(filename, sep=';', index_col=None, header=0) #read and organize our csv's\n",
    "    li.append(df_or) #add what we read to the list\n",
    "\n",
    "frame = pd.concat(li, axis=0, ignore_index=True) #concat lists into dataframe\n"
   ]
  },
  {
   "cell_type": "code",
   "execution_count": 323,
   "metadata": {},
   "outputs": [
    {
     "data": {
      "text/html": [
       "<div>\n",
       "<style scoped>\n",
       "    .dataframe tbody tr th:only-of-type {\n",
       "        vertical-align: middle;\n",
       "    }\n",
       "\n",
       "    .dataframe tbody tr th {\n",
       "        vertical-align: top;\n",
       "    }\n",
       "\n",
       "    .dataframe thead th {\n",
       "        text-align: right;\n",
       "    }\n",
       "</style>\n",
       "<table border=\"1\" class=\"dataframe\">\n",
       "  <thead>\n",
       "    <tr style=\"text-align: right;\">\n",
       "      <th></th>\n",
       "      <th>Filename</th>\n",
       "      <th>Width</th>\n",
       "      <th>Height</th>\n",
       "      <th>Roi.X1</th>\n",
       "      <th>Roi.Y1</th>\n",
       "      <th>Roi.X2</th>\n",
       "      <th>Roi.Y2</th>\n",
       "      <th>ClassId</th>\n",
       "    </tr>\n",
       "  </thead>\n",
       "  <tbody>\n",
       "    <tr>\n",
       "      <th>0</th>\n",
       "      <td>00001_00013.ppm</td>\n",
       "      <td>36</td>\n",
       "      <td>36</td>\n",
       "      <td>5</td>\n",
       "      <td>6</td>\n",
       "      <td>31</td>\n",
       "      <td>31</td>\n",
       "      <td>0</td>\n",
       "    </tr>\n",
       "    <tr>\n",
       "      <th>1</th>\n",
       "      <td>00004_00004.ppm</td>\n",
       "      <td>59</td>\n",
       "      <td>62</td>\n",
       "      <td>6</td>\n",
       "      <td>5</td>\n",
       "      <td>54</td>\n",
       "      <td>57</td>\n",
       "      <td>0</td>\n",
       "    </tr>\n",
       "    <tr>\n",
       "      <th>2</th>\n",
       "      <td>00004_00005.ppm</td>\n",
       "      <td>59</td>\n",
       "      <td>63</td>\n",
       "      <td>5</td>\n",
       "      <td>5</td>\n",
       "      <td>54</td>\n",
       "      <td>58</td>\n",
       "      <td>0</td>\n",
       "    </tr>\n",
       "    <tr>\n",
       "      <th>3</th>\n",
       "      <td>00004_00006.ppm</td>\n",
       "      <td>59</td>\n",
       "      <td>66</td>\n",
       "      <td>5</td>\n",
       "      <td>6</td>\n",
       "      <td>54</td>\n",
       "      <td>60</td>\n",
       "      <td>0</td>\n",
       "    </tr>\n",
       "    <tr>\n",
       "      <th>4</th>\n",
       "      <td>00004_00007.ppm</td>\n",
       "      <td>63</td>\n",
       "      <td>68</td>\n",
       "      <td>6</td>\n",
       "      <td>6</td>\n",
       "      <td>57</td>\n",
       "      <td>62</td>\n",
       "      <td>0</td>\n",
       "    </tr>\n",
       "  </tbody>\n",
       "</table>\n",
       "</div>"
      ],
      "text/plain": [
       "          Filename  Width  Height  Roi.X1  Roi.Y1  Roi.X2  Roi.Y2  ClassId\n",
       "0  00001_00013.ppm     36      36       5       6      31      31        0\n",
       "1  00004_00004.ppm     59      62       6       5      54      57        0\n",
       "2  00004_00005.ppm     59      63       5       5      54      58        0\n",
       "3  00004_00006.ppm     59      66       5       6      54      60        0\n",
       "4  00004_00007.ppm     63      68       6       6      57      62        0"
      ]
     },
     "execution_count": 323,
     "metadata": {},
     "output_type": "execute_result"
    }
   ],
   "source": [
    "#sort by our ClassID column, reset index\n",
    "\n",
    "df1 = frame.sort_values(by = ['ClassId']).reset_index(drop = True)\n",
    "df1.head()"
   ]
  },
  {
   "cell_type": "code",
   "execution_count": 324,
   "metadata": {},
   "outputs": [],
   "source": [
    "#Remove unecessary columns\n",
    "df = df1.drop(['Width', 'Height', 'Roi.X1', 'Roi.Y1', 'Roi.Y2', 'Roi.X2'], axis=1)"
   ]
  },
  {
   "cell_type": "code",
   "execution_count": 325,
   "metadata": {},
   "outputs": [
    {
     "name": "stdout",
     "output_type": "stream",
     "text": [
      "<class 'pandas.core.frame.DataFrame'>\n",
      "RangeIndex: 39209 entries, 0 to 39208\n",
      "Data columns (total 2 columns):\n",
      "Filename    39209 non-null object\n",
      "ClassId     39209 non-null int64\n",
      "dtypes: int64(1), object(1)\n",
      "memory usage: 612.7+ KB\n",
      "None\n"
     ]
    },
    {
     "data": {
      "text/html": [
       "<div>\n",
       "<style scoped>\n",
       "    .dataframe tbody tr th:only-of-type {\n",
       "        vertical-align: middle;\n",
       "    }\n",
       "\n",
       "    .dataframe tbody tr th {\n",
       "        vertical-align: top;\n",
       "    }\n",
       "\n",
       "    .dataframe thead th {\n",
       "        text-align: right;\n",
       "    }\n",
       "</style>\n",
       "<table border=\"1\" class=\"dataframe\">\n",
       "  <thead>\n",
       "    <tr style=\"text-align: right;\">\n",
       "      <th></th>\n",
       "      <th>Filename</th>\n",
       "      <th>ClassId</th>\n",
       "    </tr>\n",
       "  </thead>\n",
       "  <tbody>\n",
       "    <tr>\n",
       "      <th>0</th>\n",
       "      <td>00001_00013.ppm</td>\n",
       "      <td>0</td>\n",
       "    </tr>\n",
       "    <tr>\n",
       "      <th>1</th>\n",
       "      <td>00004_00004.ppm</td>\n",
       "      <td>0</td>\n",
       "    </tr>\n",
       "    <tr>\n",
       "      <th>2</th>\n",
       "      <td>00004_00005.ppm</td>\n",
       "      <td>0</td>\n",
       "    </tr>\n",
       "    <tr>\n",
       "      <th>3</th>\n",
       "      <td>00004_00006.ppm</td>\n",
       "      <td>0</td>\n",
       "    </tr>\n",
       "    <tr>\n",
       "      <th>4</th>\n",
       "      <td>00004_00007.ppm</td>\n",
       "      <td>0</td>\n",
       "    </tr>\n",
       "  </tbody>\n",
       "</table>\n",
       "</div>"
      ],
      "text/plain": [
       "          Filename  ClassId\n",
       "0  00001_00013.ppm        0\n",
       "1  00004_00004.ppm        0\n",
       "2  00004_00005.ppm        0\n",
       "3  00004_00006.ppm        0\n",
       "4  00004_00007.ppm        0"
      ]
     },
     "execution_count": 325,
     "metadata": {},
     "output_type": "execute_result"
    }
   ],
   "source": [
    "print(df.info())\n",
    "df.head()"
   ]
  },
  {
   "cell_type": "code",
   "execution_count": 327,
   "metadata": {},
   "outputs": [
    {
     "name": "stdout",
     "output_type": "stream",
     "text": [
      "../Capstone/ft/Images/00031\n",
      "../Capstone/ft/Images/00009\n",
      "../Capstone/ft/Images/00036\n",
      "../Capstone/ft/Images/00000\n",
      "../Capstone/ft/Images/00038\n",
      "../Capstone/ft/Images/00007\n",
      "../Capstone/ft/Images/00039\n",
      "../Capstone/ft/Images/00006\n",
      "../Capstone/ft/Images/00001\n",
      "../Capstone/ft/Images/00008\n",
      "../Capstone/ft/Images/00037\n",
      "../Capstone/ft/Images/00030\n",
      "../Capstone/ft/Images/00041\n",
      "../Capstone/ft/Images/00012\n",
      "../Capstone/ft/Images/00015\n",
      "../Capstone/ft/Images/00023\n",
      "../Capstone/ft/Images/00024\n",
      "../Capstone/ft/Images/00040\n",
      "../Capstone/ft/Images/00025\n",
      "../Capstone/ft/Images/00022\n",
      "../Capstone/ft/Images/00014\n",
      "../Capstone/ft/Images/00013\n",
      "../Capstone/ft/Images/00035\n",
      "../Capstone/ft/Images/00032\n",
      "../Capstone/ft/Images/00004\n",
      "../Capstone/ft/Images/00003\n",
      "../Capstone/ft/Images/00002\n",
      "../Capstone/ft/Images/00005\n",
      "../Capstone/ft/Images/00033\n",
      "../Capstone/ft/Images/00034\n",
      "../Capstone/ft/Images/00016\n",
      "../Capstone/ft/Images/00029\n",
      "../Capstone/ft/Images/00011\n",
      "../Capstone/ft/Images/00027\n",
      "../Capstone/ft/Images/00018\n",
      "../Capstone/ft/Images/00020\n",
      "../Capstone/ft/Images/00042\n",
      "../Capstone/ft/Images/00021\n",
      "../Capstone/ft/Images/00026\n",
      "../Capstone/ft/Images/00019\n",
      "../Capstone/ft/Images/00010\n",
      "../Capstone/ft/Images/00017\n",
      "../Capstone/ft/Images/00028\n",
      "\n",
      "Total number of ppm files found: 39209\n"
     ]
    }
   ],
   "source": [
    "import os\n",
    "test = []\n",
    "\n",
    "searchdir = r'../Capstone/ft/Images/'\n",
    "count = 0\n",
    "\n",
    "for root, dirs, files in os.walk(searchdir, topdown=True):\n",
    "    for name in dirs:\n",
    "      print(os.path.join(root, name))\n",
    "    for name in files:\n",
    "        (base, ext) = os.path.splitext(name) # split base and extension\n",
    "        if ext in ('.ppm'):          # check the extension (read only ppm files)\n",
    "            count += 1\n",
    "            full_name = os.path.join(root, name) # create full path\n",
    "            test.append(full_name)\n",
    "\n",
    "print('\\nTotal number of ppm files found: %d' % count)\n"
   ]
  },
  {
   "cell_type": "code",
   "execution_count": 293,
   "metadata": {},
   "outputs": [],
   "source": [
    "testframe = pd.DataFrame(test)"
   ]
  },
  {
   "cell_type": "code",
   "execution_count": 294,
   "metadata": {},
   "outputs": [
    {
     "data": {
      "text/html": [
       "<div>\n",
       "<style scoped>\n",
       "    .dataframe tbody tr th:only-of-type {\n",
       "        vertical-align: middle;\n",
       "    }\n",
       "\n",
       "    .dataframe tbody tr th {\n",
       "        vertical-align: top;\n",
       "    }\n",
       "\n",
       "    .dataframe thead th {\n",
       "        text-align: right;\n",
       "    }\n",
       "</style>\n",
       "<table border=\"1\" class=\"dataframe\">\n",
       "  <thead>\n",
       "    <tr style=\"text-align: right;\">\n",
       "      <th></th>\n",
       "      <th>Filename</th>\n",
       "    </tr>\n",
       "  </thead>\n",
       "  <tbody>\n",
       "    <tr>\n",
       "      <th>0</th>\n",
       "      <td>../Capstone/ft/Images/00031/00015_00010.ppm</td>\n",
       "    </tr>\n",
       "    <tr>\n",
       "      <th>1</th>\n",
       "      <td>../Capstone/ft/Images/00031/00015_00004.ppm</td>\n",
       "    </tr>\n",
       "    <tr>\n",
       "      <th>2</th>\n",
       "      <td>../Capstone/ft/Images/00031/00004_00023.ppm</td>\n",
       "    </tr>\n",
       "    <tr>\n",
       "      <th>3</th>\n",
       "      <td>../Capstone/ft/Images/00031/00009_00008.ppm</td>\n",
       "    </tr>\n",
       "    <tr>\n",
       "      <th>4</th>\n",
       "      <td>../Capstone/ft/Images/00031/00018_00013.ppm</td>\n",
       "    </tr>\n",
       "  </tbody>\n",
       "</table>\n",
       "</div>"
      ],
      "text/plain": [
       "                                      Filename\n",
       "0  ../Capstone/ft/Images/00031/00015_00010.ppm\n",
       "1  ../Capstone/ft/Images/00031/00015_00004.ppm\n",
       "2  ../Capstone/ft/Images/00031/00004_00023.ppm\n",
       "3  ../Capstone/ft/Images/00031/00009_00008.ppm\n",
       "4  ../Capstone/ft/Images/00031/00018_00013.ppm"
      ]
     },
     "execution_count": 294,
     "metadata": {},
     "output_type": "execute_result"
    }
   ],
   "source": [
    "testframe['Filename'] = testframe[0]\n",
    "testframe1 = testframe.drop(testframe.columns[0], axis=1)\n",
    "testframe1.head()"
   ]
  },
  {
   "cell_type": "code",
   "execution_count": null,
   "metadata": {},
   "outputs": [],
   "source": []
  }
 ],
 "metadata": {
  "kernelspec": {
   "display_name": "Python 3",
   "language": "python",
   "name": "python3"
  },
  "language_info": {
   "codemirror_mode": {
    "name": "ipython",
    "version": 3
   },
   "file_extension": ".py",
   "mimetype": "text/x-python",
   "name": "python",
   "nbconvert_exporter": "python",
   "pygments_lexer": "ipython3",
   "version": "3.7.2"
  }
 },
 "nbformat": 4,
 "nbformat_minor": 2
}
