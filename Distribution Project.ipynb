{
 "cells": [
  {
   "cell_type": "code",
   "execution_count": 8,
   "metadata": {
    "scrolled": true
   },
   "outputs": [
    {
     "data": {
      "image/png": "[encoded data removed]",
      "text/plain": [
       "<Figure size 432x288 with 1 Axes>"
      ]
     },
     "metadata": {
      "needs_background": "light"
     },
     "output_type": "display_data"
    },
    {
     "name": "stdout",
     "output_type": "stream",
     "text": [
      "2.003773752965663\n",
      "9.953625836413911\n"
     ]
    }
   ],
   "source": [
    "import pandas as pd\n",
    "import numpy as np\n",
    "import matplotlib.pyplot as plt\n",
    "%matplotlib inline\n",
    "\n",
    "norm = np.random.normal(10, 2, 100)\n",
    "\n",
    "plt.hist(norm, bins=20, color='yellow')\n",
    "plt.axvline(norm.mean(), color='green', linestyle='dashed', linewidth=2)\n",
    "plt.axvline(norm.mean() + norm.std(), color='r', linestyle='solid', linewidth=2)\n",
    "plt.axvline(norm.mean() - norm.std(), color='r', linestyle='solid', linewidth=2)\n",
    "\n",
    "plt.show()\n",
    "print(np.std(norm))\n",
    "print(np.mean(norm))\n",
    "#Below I have generated a normal distribution graph. The dashed green lines shows the mean while the red solid lines\n",
    "#show the bounds for 1 standard deviation from the mean representing 68% of the data. \n",
    "#Below the graph is the values for the standard deviation and then the mean. "
   ]
  },
  {
   "cell_type": "code",
   "execution_count": 15,
   "metadata": {},
   "outputs": [
    {
     "data": {
      "image/png": "[encoded data removed]",
      "text/plain": [
       "<Figure size 432x288 with 1 Axes>"
      ]
     },
     "metadata": {
      "needs_background": "light"
     },
     "output_type": "display_data"
    },
    {
     "name": "stdout",
     "output_type": "stream",
     "text": [
      "1.1385956261992227\n",
      "1.06\n"
     ]
    }
   ],
   "source": [
    "poi = np.random.poisson(1, 100)\n",
    "\n",
    "plt.hist(poi, bins=20, color='yellow')\n",
    "plt.axvline(poi.mean(), color='green', linestyle='dashed', linewidth=2)\n",
    "plt.axvline(poi.mean() + poi.std(), color='r', linestyle='solid', linewidth=2)\n",
    "plt.axvline(poi.mean() - poi.std(), color='r', linestyle='solid', linewidth=2)\n",
    "\n",
    "plt.show()\n",
    "print(np.std(poi))\n",
    "print(np.mean(poi))\n",
    "#Poisson distribution"
   ]
  },
  {
   "cell_type": "code",
   "execution_count": 19,
   "metadata": {},
   "outputs": [
    {
     "data": {
      "image/png": "[encoded data removed]",
      "text/plain": [
       "<Figure size 432x288 with 1 Axes>"
      ]
     },
     "metadata": {
      "needs_background": "light"
     },
     "output_type": "display_data"
    },
    {
     "name": "stdout",
     "output_type": "stream",
     "text": [
      "9.68796756199305\n",
      "9.830666513386692\n"
     ]
    }
   ],
   "source": [
    "exp = np.random.exponential(10, 100)\n",
    "\n",
    "plt.hist(exp, bins=20, color='yellow')\n",
    "plt.axvline(exp.mean(), color='green', linestyle='dashed', linewidth=2)\n",
    "plt.axvline(exp.mean() + exp.std(), color='r', linestyle='solid', linewidth=2)\n",
    "plt.axvline(exp.mean() - exp.std(), color='r', linestyle='solid', linewidth=2)\n",
    "\n",
    "plt.show()\n",
    "print(np.std(exp))\n",
    "print(np.mean(exp))\n",
    "\n",
    "#Graphing exponential distribution"
   ]
  },
  {
   "cell_type": "code",
   "execution_count": 36,
   "metadata": {},
   "outputs": [
    {
     "data": {
      "image/png": "[encoded data removed]",
      "text/plain": [
       "<Figure size 432x288 with 1 Axes>"
      ]
     },
     "metadata": {
      "needs_background": "light"
     },
     "output_type": "display_data"
    },
    {
     "name": "stdout",
     "output_type": "stream",
     "text": [
      "5.216418726468708\n",
      "50.5053110133209\n"
     ]
    }
   ],
   "source": [
    "log = np.random.logistic(50, 2.71828, 1000)\n",
    "\n",
    "plt.hist(log, bins=20, color='yellow')\n",
    "plt.axvline(log.mean(), color='green', linestyle='dashed', linewidth=2)\n",
    "plt.axvline(log.mean() + log.std(), color='r', linestyle='solid', linewidth=2)\n",
    "plt.axvline(log.mean() - log.std(), color='r', linestyle='solid', linewidth=2)\n",
    "\n",
    "plt.show()\n",
    "print(np.std(log))\n",
    "print(np.mean(log))\n",
    "\n",
    "#Graphing a log graph. Interestingly the std deviation is 2x the paramter given. "
   ]
  },
  {
   "cell_type": "code",
   "execution_count": null,
   "metadata": {},
   "outputs": [],
   "source": []
  }
 ],
 "metadata": {
  "kernelspec": {
   "display_name": "Python 3",
   "language": "python",
   "name": "python3"
  },
  "language_info": {
   "codemirror_mode": {
    "name": "ipython",
    "version": 3
   },
   "file_extension": ".py",
   "mimetype": "text/x-python",
   "name": "python",
   "nbconvert_exporter": "python",
   "pygments_lexer": "ipython3",
   "version": "3.7.0"
  }
 },
 "nbformat": 4,
 "nbformat_minor": 2
}
