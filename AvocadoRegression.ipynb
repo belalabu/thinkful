{
 "cells": [
  {
   "cell_type": "code",
   "execution_count": 1,
   "metadata": {},
   "outputs": [],
   "source": [
    "import numpy as np\n",
    "import pandas as pd\n",
    "import matplotlib.pyplot as plt\n",
    "from matplotlib.pyplot import *\n",
    "%matplotlib inline\n",
    "from scipy import stats\n",
    "\n",
    "#Sure, millenials love their Avocados, but how much?! (Over-arching question)\n",
    "    #Using region, research percantage of millenials vs boomers, gen x etc, and see how sales(total volume) \n",
    "    #are impacted\n",
    " \n",
    "#How much are millenials willing to pay for their precious green fruit?\n",
    "    #Average price per avocado vs volume in certain regions\n",
    "\n",
    "data = pd.read_csv('avocado.csv')\n",
    "df = pd.DataFrame(data)\n",
    "\n",
    "#Clean up certain names, some of the data wasn't titled the way I liked, this changed that.\n",
    "df['region'] = df['region'].str.replace(\"BaltimoreWashington\", \"Baltimore\")\n",
    "df['region'] = df['region'].str.replace(\"BuffaloRochester\", \"Buffalo\")\n",
    "df['region'] = df['region'].str.replace(\"CincinnatiDayton\", \"Cincinnati\")\n",
    "df['region'] = df['region'].str.replace(\"DallasFtWorth\", \"Dallas\")\n",
    "df['region'] = df['region'].str.replace(\"HarrisburgScranton\", \"Harrisburg\")\n",
    "df['region'] = df['region'].str.replace(\"HartfordSpringfield\", \"Hartford\")\n",
    "df['region'] = df['region'].str.replace(\"MiamiFtLauderdale\", \"Miami\")\n",
    "df['region'] = df['region'].str.replace(\"NewOrleansMobile\", \"NewOrleans\")\n",
    "df['region'] = df['region'].str.replace(\"PhoenixTucson\", \"Phoenix\")\n",
    "df['region'] = df['region'].str.replace(\"RaleighGreensboro\", \"Raleigh\")\n",
    "df['region'] = df['region'].str.replace(\"RichmondNorfolk\", \"Richmond\")\n",
    "df['region'] = df['region'].str.replace(\"WestTexNewMexico\", \"NewMexico\")\n",
    "\n",
    "\n",
    "#Remove the data I don't want (States, regions, and totals, only want cities)\n",
    "#this removes specifc parts of columns, for example here im removing certain states from the 'region' column\n",
    "#df=df[np.logical_not(df['column you want to access here'].isin([\"data in the column you want gone\"]))]\n",
    "\n",
    "df=df[np.logical_not(df['region'].isin([\"West\", 'California', 'TotalUS', 'Plains', 'Southeast', 'SouthCentral', 'Northeast', 'Midsouth', 'GreatLakes']))]\n"
   ]
  },
  {
   "cell_type": "code",
   "execution_count": 2,
   "metadata": {},
   "outputs": [
    {
     "name": "stderr",
     "output_type": "stream",
     "text": [
      "/anaconda3/lib/python3.7/site-packages/ipykernel_launcher.py:3: SettingWithCopyWarning: \n",
      "A value is trying to be set on a copy of a slice from a DataFrame\n",
      "\n",
      "See the caveats in the documentation: http://pandas.pydata.org/pandas-docs/stable/indexing.html#indexing-view-versus-copy\n",
      "  This is separate from the ipykernel package so we can avoid doing imports until\n"
     ]
    }
   ],
   "source": [
    "df.groupby('region')['AveragePrice'].mean()\n",
    "df.type[df.type == 'organic'] = 1\n",
    "df.type[df.type == 'conventional'] = 0\n"
   ]
  },
  {
   "cell_type": "code",
   "execution_count": 3,
   "metadata": {},
   "outputs": [
    {
     "data": {
      "text/html": [
       "<div>\n",
       "<style scoped>\n",
       "    .dataframe tbody tr th:only-of-type {\n",
       "        vertical-align: middle;\n",
       "    }\n",
       "\n",
       "    .dataframe tbody tr th {\n",
       "        vertical-align: top;\n",
       "    }\n",
       "\n",
       "    .dataframe thead th {\n",
       "        text-align: right;\n",
       "    }\n",
       "</style>\n",
       "<table border=\"1\" class=\"dataframe\">\n",
       "  <thead>\n",
       "    <tr style=\"text-align: right;\">\n",
       "      <th></th>\n",
       "      <th>Unnamed: 0</th>\n",
       "      <th>Date</th>\n",
       "      <th>AveragePrice</th>\n",
       "      <th>Total Volume</th>\n",
       "      <th>4046</th>\n",
       "      <th>4225</th>\n",
       "      <th>4770</th>\n",
       "      <th>Total Bags</th>\n",
       "      <th>Small Bags</th>\n",
       "      <th>Large Bags</th>\n",
       "      <th>XLarge Bags</th>\n",
       "      <th>type</th>\n",
       "      <th>year</th>\n",
       "      <th>region</th>\n",
       "    </tr>\n",
       "  </thead>\n",
       "  <tbody>\n",
       "    <tr>\n",
       "      <th>0</th>\n",
       "      <td>0</td>\n",
       "      <td>2015-12-27</td>\n",
       "      <td>1.33</td>\n",
       "      <td>64236.62</td>\n",
       "      <td>1036.74</td>\n",
       "      <td>54454.85</td>\n",
       "      <td>48.16</td>\n",
       "      <td>8696.87</td>\n",
       "      <td>8603.62</td>\n",
       "      <td>93.25</td>\n",
       "      <td>0.0</td>\n",
       "      <td>0</td>\n",
       "      <td>2015</td>\n",
       "      <td>Albany</td>\n",
       "    </tr>\n",
       "    <tr>\n",
       "      <th>1</th>\n",
       "      <td>1</td>\n",
       "      <td>2015-12-20</td>\n",
       "      <td>1.35</td>\n",
       "      <td>54876.98</td>\n",
       "      <td>674.28</td>\n",
       "      <td>44638.81</td>\n",
       "      <td>58.33</td>\n",
       "      <td>9505.56</td>\n",
       "      <td>9408.07</td>\n",
       "      <td>97.49</td>\n",
       "      <td>0.0</td>\n",
       "      <td>0</td>\n",
       "      <td>2015</td>\n",
       "      <td>Albany</td>\n",
       "    </tr>\n",
       "    <tr>\n",
       "      <th>2</th>\n",
       "      <td>2</td>\n",
       "      <td>2015-12-13</td>\n",
       "      <td>0.93</td>\n",
       "      <td>118220.22</td>\n",
       "      <td>794.70</td>\n",
       "      <td>109149.67</td>\n",
       "      <td>130.50</td>\n",
       "      <td>8145.35</td>\n",
       "      <td>8042.21</td>\n",
       "      <td>103.14</td>\n",
       "      <td>0.0</td>\n",
       "      <td>0</td>\n",
       "      <td>2015</td>\n",
       "      <td>Albany</td>\n",
       "    </tr>\n",
       "    <tr>\n",
       "      <th>3</th>\n",
       "      <td>3</td>\n",
       "      <td>2015-12-06</td>\n",
       "      <td>1.08</td>\n",
       "      <td>78992.15</td>\n",
       "      <td>1132.00</td>\n",
       "      <td>71976.41</td>\n",
       "      <td>72.58</td>\n",
       "      <td>5811.16</td>\n",
       "      <td>5677.40</td>\n",
       "      <td>133.76</td>\n",
       "      <td>0.0</td>\n",
       "      <td>0</td>\n",
       "      <td>2015</td>\n",
       "      <td>Albany</td>\n",
       "    </tr>\n",
       "    <tr>\n",
       "      <th>4</th>\n",
       "      <td>4</td>\n",
       "      <td>2015-11-29</td>\n",
       "      <td>1.28</td>\n",
       "      <td>51039.60</td>\n",
       "      <td>941.48</td>\n",
       "      <td>43838.39</td>\n",
       "      <td>75.78</td>\n",
       "      <td>6183.95</td>\n",
       "      <td>5986.26</td>\n",
       "      <td>197.69</td>\n",
       "      <td>0.0</td>\n",
       "      <td>0</td>\n",
       "      <td>2015</td>\n",
       "      <td>Albany</td>\n",
       "    </tr>\n",
       "  </tbody>\n",
       "</table>\n",
       "</div>"
      ],
      "text/plain": [
       "   Unnamed: 0        Date  AveragePrice  Total Volume     4046       4225  \\\n",
       "0           0  2015-12-27          1.33      64236.62  1036.74   54454.85   \n",
       "1           1  2015-12-20          1.35      54876.98   674.28   44638.81   \n",
       "2           2  2015-12-13          0.93     118220.22   794.70  109149.67   \n",
       "3           3  2015-12-06          1.08      78992.15  1132.00   71976.41   \n",
       "4           4  2015-11-29          1.28      51039.60   941.48   43838.39   \n",
       "\n",
       "     4770  Total Bags  Small Bags  Large Bags  XLarge Bags  type  year  region  \n",
       "0   48.16     8696.87     8603.62       93.25          0.0     0  2015  Albany  \n",
       "1   58.33     9505.56     9408.07       97.49          0.0     0  2015  Albany  \n",
       "2  130.50     8145.35     8042.21      103.14          0.0     0  2015  Albany  \n",
       "3   72.58     5811.16     5677.40      133.76          0.0     0  2015  Albany  \n",
       "4   75.78     6183.95     5986.26      197.69          0.0     0  2015  Albany  "
      ]
     },
     "execution_count": 3,
     "metadata": {},
     "output_type": "execute_result"
    }
   ],
   "source": [
    "df['type'] = df['type'].astype(int)\n",
    "df.head()"
   ]
  },
  {
   "cell_type": "code",
   "execution_count": 4,
   "metadata": {},
   "outputs": [],
   "source": [
    "dfb = df.groupby('region')['Total Volume'].mean()\n",
    "dfa = df.groupby('region')['AveragePrice'].mean()\n",
    "dfc = df.groupby('region')['4770'].mean()\n",
    "dfd = df.groupby('region')['Large Bags'].mean()\n",
    "dfe = df.groupby('region')['type'].mean()\n",
    "dff = df.groupby('region')['4046'].mean()\n",
    "dfg = df.groupby('region')['4225'].mean()"
   ]
  },
  {
   "cell_type": "code",
   "execution_count": 5,
   "metadata": {},
   "outputs": [],
   "source": [
    "avocado = pd.DataFrame()\n",
    "avocado['price'] = dfa\n",
    "avocado['volume'] = dfb\n",
    "avocado['4770'] = dfc\n",
    "avocado['large'] = dfd\n",
    "avocado['4046'] = dff\n",
    "avocado['4225'] = dfg"
   ]
  },
  {
   "cell_type": "code",
   "execution_count": 6,
   "metadata": {},
   "outputs": [
    {
     "data": {
      "text/html": [
       "<div>\n",
       "<style scoped>\n",
       "    .dataframe tbody tr th:only-of-type {\n",
       "        vertical-align: middle;\n",
       "    }\n",
       "\n",
       "    .dataframe tbody tr th {\n",
       "        vertical-align: top;\n",
       "    }\n",
       "\n",
       "    .dataframe thead th {\n",
       "        text-align: right;\n",
       "    }\n",
       "</style>\n",
       "<table border=\"1\" class=\"dataframe\">\n",
       "  <thead>\n",
       "    <tr style=\"text-align: right;\">\n",
       "      <th></th>\n",
       "      <th>price</th>\n",
       "      <th>volume</th>\n",
       "      <th>4770</th>\n",
       "      <th>large</th>\n",
       "      <th>4046</th>\n",
       "      <th>4225</th>\n",
       "    </tr>\n",
       "    <tr>\n",
       "      <th>region</th>\n",
       "      <th></th>\n",
       "      <th></th>\n",
       "      <th></th>\n",
       "      <th></th>\n",
       "      <th></th>\n",
       "      <th></th>\n",
       "    </tr>\n",
       "  </thead>\n",
       "  <tbody>\n",
       "    <tr>\n",
       "      <th>Albany</th>\n",
       "      <td>1.561036</td>\n",
       "      <td>47537.869734</td>\n",
       "      <td>162.832337</td>\n",
       "      <td>1153.496213</td>\n",
       "      <td>1824.081775</td>\n",
       "      <td>37621.208254</td>\n",
       "    </tr>\n",
       "    <tr>\n",
       "      <th>Atlanta</th>\n",
       "      <td>1.337959</td>\n",
       "      <td>262145.322041</td>\n",
       "      <td>311.385769</td>\n",
       "      <td>32070.044556</td>\n",
       "      <td>146116.867959</td>\n",
       "      <td>31218.510385</td>\n",
       "    </tr>\n",
       "    <tr>\n",
       "      <th>Baltimore</th>\n",
       "      <td>1.534231</td>\n",
       "      <td>398561.891479</td>\n",
       "      <td>12466.730976</td>\n",
       "      <td>2903.984586</td>\n",
       "      <td>35656.218166</td>\n",
       "      <td>245982.888876</td>\n",
       "    </tr>\n",
       "    <tr>\n",
       "      <th>Boise</th>\n",
       "      <td>1.348136</td>\n",
       "      <td>42642.567308</td>\n",
       "      <td>3186.787840</td>\n",
       "      <td>2103.634083</td>\n",
       "      <td>20019.507604</td>\n",
       "      <td>3461.682367</td>\n",
       "    </tr>\n",
       "    <tr>\n",
       "      <th>Boston</th>\n",
       "      <td>1.530888</td>\n",
       "      <td>287792.854527</td>\n",
       "      <td>4982.294970</td>\n",
       "      <td>4438.364704</td>\n",
       "      <td>4994.610059</td>\n",
       "      <td>214219.864290</td>\n",
       "    </tr>\n",
       "  </tbody>\n",
       "</table>\n",
       "</div>"
      ],
      "text/plain": [
       "              price         volume          4770         large           4046  \\\n",
       "region                                                                          \n",
       "Albany     1.561036   47537.869734    162.832337   1153.496213    1824.081775   \n",
       "Atlanta    1.337959  262145.322041    311.385769  32070.044556  146116.867959   \n",
       "Baltimore  1.534231  398561.891479  12466.730976   2903.984586   35656.218166   \n",
       "Boise      1.348136   42642.567308   3186.787840   2103.634083   20019.507604   \n",
       "Boston     1.530888  287792.854527   4982.294970   4438.364704    4994.610059   \n",
       "\n",
       "                    4225  \n",
       "region                    \n",
       "Albany      37621.208254  \n",
       "Atlanta     31218.510385  \n",
       "Baltimore  245982.888876  \n",
       "Boise        3461.682367  \n",
       "Boston     214219.864290  "
      ]
     },
     "execution_count": 6,
     "metadata": {},
     "output_type": "execute_result"
    }
   ],
   "source": [
    "#Lets drop some outliers here\n",
    "avocado = avocado.mask((avocado - avocado.mean()).abs() > 3 * avocado.std()).dropna()\n",
    "avocado.head()"
   ]
  },
  {
   "cell_type": "code",
   "execution_count": 7,
   "metadata": {},
   "outputs": [],
   "source": [
    "import math\n",
    "import warnings\n",
    "\n",
    "from IPython.display import display\n",
    "from matplotlib import pyplot as plt\n",
    "import numpy as np\n",
    "import pandas as pd\n",
    "import seaborn as sns\n",
    "from sklearn import linear_model\n",
    "import statsmodels.formula.api as smf\n",
    "\n",
    "# Display preferences.\n",
    "%matplotlib inline\n",
    "pd.options.display.float_format = '{:.3f}'.format\n",
    "\n",
    "# Suppress annoying harmless error.\n",
    "warnings.filterwarnings(\n",
    "    action=\"ignore\",\n",
    "    module=\"scipy\",\n",
    "    message=\"^internal gelsd\"\n",
    ")"
   ]
  },
  {
   "cell_type": "code",
   "execution_count": 8,
   "metadata": {},
   "outputs": [
    {
     "name": "stdout",
     "output_type": "stream",
     "text": [
      "\n",
      "Coefficients: \n",
      " [[-6.17631717e-06  1.26670664e-06 -9.99283188e-07]]\n",
      "\n",
      "Intercept: \n",
      " [1.42533675]\n",
      "\n",
      "R-squared:\n",
      "0.43331946040844105\n"
     ]
    }
   ],
   "source": [
    "# Instantiate and fit our model.\n",
    "regr = linear_model.LinearRegression()\n",
    "Y = avocado['price'].values.reshape(-1, 1)\n",
    "X = avocado[['4770', '4225', '4046']]\n",
    "regr.fit(X, Y)\n",
    "\n",
    "# Inspect the results.\n",
    "print('\\nCoefficients: \\n', regr.coef_)\n",
    "print('\\nIntercept: \\n', regr.intercept_)\n",
    "print('\\nR-squared:')\n",
    "print(regr.score(X, Y))"
   ]
  },
  {
   "cell_type": "code",
   "execution_count": 9,
   "metadata": {},
   "outputs": [
    {
     "data": {
      "image/png": "[encoded data removed]",
      "text/plain": [
       "<Figure size 432x288 with 1 Axes>"
      ]
     },
     "metadata": {},
     "output_type": "display_data"
    }
   ],
   "source": [
    "predicted = regr.predict(X).ravel()\n",
    "actual = avocado['price']\n",
    "\n",
    "sns.set_style('darkgrid')\n",
    "# Calculate the error, also called the residual.\n",
    "residual = actual - predicted\n",
    "\n",
    "# This looks a bit concerning.\n",
    "plt.hist(residual)\n",
    "plt.title('Residual counts')\n",
    "plt.xlabel('Residual')\n",
    "plt.ylabel('Count')\n",
    "plt.show()\n"
   ]
  },
  {
   "cell_type": "code",
   "execution_count": 10,
   "metadata": {},
   "outputs": [
    {
     "data": {
      "image/png": "[encoded data removed]",
      "text/plain": [
       "<Figure size 432x288 with 1 Axes>"
      ]
     },
     "metadata": {},
     "output_type": "display_data"
    }
   ],
   "source": [
    "plt.scatter(predicted, residual)\n",
    "plt.xlabel('Predicted')\n",
    "plt.ylabel('Residual')\n",
    "plt.axhline(y=0)\n",
    "plt.title('Residual vs. Predicted')\n",
    "plt.show()\n"
   ]
  },
  {
   "cell_type": "code",
   "execution_count": 11,
   "metadata": {},
   "outputs": [
    {
     "data": {
      "text/html": [
       "<div>\n",
       "<style scoped>\n",
       "    .dataframe tbody tr th:only-of-type {\n",
       "        vertical-align: middle;\n",
       "    }\n",
       "\n",
       "    .dataframe tbody tr th {\n",
       "        vertical-align: top;\n",
       "    }\n",
       "\n",
       "    .dataframe thead th {\n",
       "        text-align: right;\n",
       "    }\n",
       "</style>\n",
       "<table border=\"1\" class=\"dataframe\">\n",
       "  <thead>\n",
       "    <tr style=\"text-align: right;\">\n",
       "      <th></th>\n",
       "      <th>4770</th>\n",
       "      <th>4225</th>\n",
       "      <th>4046</th>\n",
       "    </tr>\n",
       "  </thead>\n",
       "  <tbody>\n",
       "    <tr>\n",
       "      <th>4770</th>\n",
       "      <td>1.000</td>\n",
       "      <td>0.396</td>\n",
       "      <td>0.334</td>\n",
       "    </tr>\n",
       "    <tr>\n",
       "      <th>4225</th>\n",
       "      <td>0.396</td>\n",
       "      <td>1.000</td>\n",
       "      <td>0.231</td>\n",
       "    </tr>\n",
       "    <tr>\n",
       "      <th>4046</th>\n",
       "      <td>0.334</td>\n",
       "      <td>0.231</td>\n",
       "      <td>1.000</td>\n",
       "    </tr>\n",
       "  </tbody>\n",
       "</table>\n",
       "</div>"
      ],
      "text/plain": [
       "      4770  4225  4046\n",
       "4770 1.000 0.396 0.334\n",
       "4225 0.396 1.000 0.231\n",
       "4046 0.334 0.231 1.000"
      ]
     },
     "metadata": {},
     "output_type": "display_data"
    }
   ],
   "source": [
    "correlation_matrix = X.corr()\n",
    "display(correlation_matrix)"
   ]
  },
  {
   "cell_type": "code",
   "execution_count": 12,
   "metadata": {},
   "outputs": [],
   "source": [
    "price = avocado.price\n",
    "high = avocado['4770']\n",
    "medium = avocado['4225']\n",
    "low = avocado['4046']"
   ]
  },
  {
   "cell_type": "code",
   "execution_count": 13,
   "metadata": {},
   "outputs": [],
   "source": [
    "# Write out the model formula.\n",
    "# Your dependent variable on the right, independent variables on the left\n",
    "# Use a ~ to represent an '=' from the functional form\n",
    "linear_formula = 'price ~ high+medium+low'\n",
    "\n",
    "# Fit the model to our data using the formula.\n",
    "lm = smf.ols(formula=linear_formula, data=avocado).fit()"
   ]
  },
  {
   "cell_type": "code",
   "execution_count": 14,
   "metadata": {},
   "outputs": [
    {
     "data": {
      "text/plain": [
       "Intercept   0.000\n",
       "high        0.150\n",
       "medium      0.001\n",
       "low         0.000\n",
       "dtype: float64"
      ]
     },
     "execution_count": 14,
     "metadata": {},
     "output_type": "execute_result"
    }
   ],
   "source": [
    "lm.pvalues"
   ]
  },
  {
   "cell_type": "code",
   "execution_count": 18,
   "metadata": {},
   "outputs": [
    {
     "data": {
      "text/plain": [
       "region\n",
       "Albany       156\n",
       "Atlanta      133\n",
       "Baltimore    153\n",
       "Boise        134\n",
       "Boston       153\n",
       "Name: price, dtype: int64"
      ]
     },
     "execution_count": 18,
     "metadata": {},
     "output_type": "execute_result"
    }
   ],
   "source": [
    "avocado['4770'] = avocado['4770'].astype(int)\n",
    "avocado['4225'] = avocado['4225'].astype(int)\n",
    "avocado['4046'] = avocado['4046'].astype(int)\n",
    "\n",
    "avocado['price'] = dfa*100\n",
    "avocado['price'] = avocado['price'].astype(int)\n",
    "avocado['price'].#head()"
   ]
  },
  {
   "cell_type": "code",
   "execution_count": 16,
   "metadata": {},
   "outputs": [
    {
     "data": {
      "text/plain": [
       "KNeighborsClassifier(algorithm='auto', leaf_size=30, metric='minkowski',\n",
       "           metric_params=None, n_jobs=1, n_neighbors=1, p=2,\n",
       "           weights='uniform')"
      ]
     },
     "execution_count": 16,
     "metadata": {},
     "output_type": "execute_result"
    }
   ],
   "source": [
    "import numpy as np\n",
    "import pandas as pd\n",
    "import matplotlib.pyplot as plt\n",
    "import scipy\n",
    "%matplotlib inline\n",
    "from sklearn.neighbors import KNeighborsClassifier\n",
    "\n",
    "\n",
    "neighbors = KNeighborsClassifier(n_neighbors=1)\n",
    "X = avocado[['4225', '4046']]\n",
    "Y = avocado.price\n",
    "neighbors.fit(X,Y)"
   ]
  },
  {
   "cell_type": "code",
   "execution_count": 76,
   "metadata": {},
   "outputs": [
    {
     "data": {
      "image/png": "[encoded data removed]",
      "text/plain": [
       "<Figure size 432x288 with 1 Axes>"
      ]
     },
     "metadata": {
      "needs_background": "light"
     },
     "output_type": "display_data"
    }
   ],
   "source": [
    "from sklearn import neighbors\n",
    "\n",
    "# Build our model.\n",
    "knn = neighbors.KNeighborsRegressor(n_neighbors=14)\n",
    "X = pd.DataFrame({\n",
    "    '4225': stats.zscore(avocado['4225']),\n",
    "})\n",
    "Y = avocado.price\n",
    "knn.fit(X, Y)\n",
    "\n",
    "# Set up our prediction line.\n",
    "T = np.arange(-1, 3, .1)[:, np.newaxis]\n",
    "\n",
    "# Trailing underscores are a common convention for a prediction.\n",
    "Y_ = knn.predict(T)\n",
    "\n",
    "plt.scatter(X, Y, c='k', label='data')\n",
    "plt.plot(T, Y_, c='g', label='prediction')\n",
    "plt.legend()\n",
    "plt.title('K=10, Unweighted')\n",
    "plt.show()"
   ]
  },
  {
   "cell_type": "code",
   "execution_count": 77,
   "metadata": {},
   "outputs": [
    {
     "data": {
      "image/png": "[encoded data removed]",
      "text/plain": [
       "<Figure size 432x288 with 1 Axes>"
      ]
     },
     "metadata": {
      "needs_background": "light"
     },
     "output_type": "display_data"
    }
   ],
   "source": [
    "# Run the same model, this time with weights.\n",
    "knn_w = neighbors.KNeighborsRegressor(n_neighbors=14, weights='distance')\n",
    "X = pd.DataFrame({\n",
    "    '4225': stats.zscore(avocado['4225']),\n",
    "                  })\n",
    "Y = avocado.price\n",
    "knn_w.fit(X, Y)\n",
    "\n",
    "# Set up our prediction line.\n",
    "T = np.arange(-1, 3, 0.1)[:, np.newaxis]\n",
    "\n",
    "Y_ = knn_w.predict(T)\n",
    "\n",
    "plt.scatter(X, Y, c='k', label='data')\n",
    "plt.plot(T, Y_, c='g', label='prediction')\n",
    "plt.legend()\n",
    "plt.title('K=10, Weighted')\n",
    "plt.show()"
   ]
  },
  {
   "cell_type": "code",
   "execution_count": 78,
   "metadata": {},
   "outputs": [
    {
     "name": "stdout",
     "output_type": "stream",
     "text": [
      "Unweighted Accuracy: -0.14 (+/- 0.36)\n",
      "Weighted Accuracy: -0.49 (+/- 0.16)\n"
     ]
    }
   ],
   "source": [
    "#lets validate the 2 graphs\n",
    "\n",
    "from sklearn.model_selection import cross_val_score\n",
    "\n",
    "score = cross_val_score(knn, X, Y, cv=5)\n",
    "print(\"Unweighted Accuracy: %0.2f (+/- %0.2f)\" % (score.mean(), score.std() * 2))\n",
    "score_w = cross_val_score(knn_w, X, Y, cv=5)\n",
    "print(\"Weighted Accuracy: %0.2f (+/- %0.2f)\" % (score_w.mean(), score_w.std() * 2))"
   ]
  },
  {
   "cell_type": "code",
   "execution_count": 79,
   "metadata": {},
   "outputs": [],
   "source": [
    "#When all is said and done it looks like this data doesn't mesh well with these models"
   ]
  }
 ],
 "metadata": {
  "kernelspec": {
   "display_name": "Python 3",
   "language": "python",
   "name": "python3"
  },
  "language_info": {
   "codemirror_mode": {
    "name": "ipython",
    "version": 3
   },
   "file_extension": ".py",
   "mimetype": "text/x-python",
   "name": "python",
   "nbconvert_exporter": "python",
   "pygments_lexer": "ipython3",
   "version": "3.7.0"
  }
 },
 "nbformat": 4,
 "nbformat_minor": 2
}
