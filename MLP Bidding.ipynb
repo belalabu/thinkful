{
 "cells": [
  {
   "cell_type": "code",
   "execution_count": 17,
   "metadata": {},
   "outputs": [],
   "source": [
    "import pandas as pd\n",
    "import numpy as np\n",
    "import scipy\n",
    "import matplotlib.pyplot as plt\n",
    "import seaborn as sns\n",
    "sns.set_style('darkgrid')\n",
    "%matplotlib inline\n",
    "\n",
    "def warn(*args, **kwargs):\n",
    "    pass\n",
    "import warnings\n",
    "warnings.warn = warn #remove unnecessary warnings"
   ]
  },
  {
   "cell_type": "code",
   "execution_count": 18,
   "metadata": {},
   "outputs": [],
   "source": [
    "data = pd.read_csv('biddings1.csv')\n",
    "dfo = pd.DataFrame(data)\n",
    "dfor = dfo.drop(['Unnamed: 0'], axis=1) #empty column"
   ]
  },
  {
   "cell_type": "code",
   "execution_count": 19,
   "metadata": {},
   "outputs": [],
   "source": [
    "dfor = dfor.sort_values(by=['convert'])\n",
    "dfor = dfor.reset_index(drop=True)\n",
    "\n",
    "df1 = dfor.drop(dfo.index[0:400])\n"
   ]
  },
  {
   "cell_type": "code",
   "execution_count": 20,
   "metadata": {},
   "outputs": [
    {
     "name": "stdout",
     "output_type": "stream",
     "text": [
      "0    5692\n",
      "1    1908\n",
      "Name: convert, dtype: int64\n"
     ]
    },
    {
     "data": {
      "text/html": [
       "<div>\n",
       "<style scoped>\n",
       "    .dataframe tbody tr th:only-of-type {\n",
       "        vertical-align: middle;\n",
       "    }\n",
       "\n",
       "    .dataframe tbody tr th {\n",
       "        vertical-align: top;\n",
       "    }\n",
       "\n",
       "    .dataframe thead th {\n",
       "        text-align: right;\n",
       "    }\n",
       "</style>\n",
       "<table border=\"1\" class=\"dataframe\">\n",
       "  <thead>\n",
       "    <tr style=\"text-align: right;\">\n",
       "      <th></th>\n",
       "      <th>0</th>\n",
       "      <th>1</th>\n",
       "      <th>2</th>\n",
       "      <th>3</th>\n",
       "      <th>4</th>\n",
       "      <th>5</th>\n",
       "      <th>6</th>\n",
       "      <th>7</th>\n",
       "      <th>8</th>\n",
       "      <th>9</th>\n",
       "      <th>...</th>\n",
       "      <th>79</th>\n",
       "      <th>80</th>\n",
       "      <th>81</th>\n",
       "      <th>82</th>\n",
       "      <th>83</th>\n",
       "      <th>84</th>\n",
       "      <th>85</th>\n",
       "      <th>86</th>\n",
       "      <th>87</th>\n",
       "      <th>convert</th>\n",
       "    </tr>\n",
       "  </thead>\n",
       "  <tbody>\n",
       "    <tr>\n",
       "      <th>7595</th>\n",
       "      <td>-0.00</td>\n",
       "      <td>-2.05</td>\n",
       "      <td>-1.77</td>\n",
       "      <td>0.04</td>\n",
       "      <td>1.51</td>\n",
       "      <td>-4.25</td>\n",
       "      <td>0.39</td>\n",
       "      <td>4.84</td>\n",
       "      <td>-4.50</td>\n",
       "      <td>-2.68</td>\n",
       "      <td>...</td>\n",
       "      <td>1.63</td>\n",
       "      <td>-0.40</td>\n",
       "      <td>-0.09</td>\n",
       "      <td>0.16</td>\n",
       "      <td>1.66</td>\n",
       "      <td>0.16</td>\n",
       "      <td>-0.08</td>\n",
       "      <td>-0.00</td>\n",
       "      <td>0.05</td>\n",
       "      <td>1</td>\n",
       "    </tr>\n",
       "    <tr>\n",
       "      <th>7596</th>\n",
       "      <td>-0.01</td>\n",
       "      <td>-0.30</td>\n",
       "      <td>2.32</td>\n",
       "      <td>-0.56</td>\n",
       "      <td>0.79</td>\n",
       "      <td>0.19</td>\n",
       "      <td>-0.29</td>\n",
       "      <td>0.22</td>\n",
       "      <td>-0.21</td>\n",
       "      <td>0.28</td>\n",
       "      <td>...</td>\n",
       "      <td>-0.16</td>\n",
       "      <td>-0.75</td>\n",
       "      <td>0.53</td>\n",
       "      <td>0.60</td>\n",
       "      <td>0.01</td>\n",
       "      <td>0.32</td>\n",
       "      <td>-0.23</td>\n",
       "      <td>0.13</td>\n",
       "      <td>-0.04</td>\n",
       "      <td>1</td>\n",
       "    </tr>\n",
       "    <tr>\n",
       "      <th>7597</th>\n",
       "      <td>-0.01</td>\n",
       "      <td>0.71</td>\n",
       "      <td>2.30</td>\n",
       "      <td>-0.23</td>\n",
       "      <td>-0.67</td>\n",
       "      <td>-0.05</td>\n",
       "      <td>0.24</td>\n",
       "      <td>0.11</td>\n",
       "      <td>0.43</td>\n",
       "      <td>0.55</td>\n",
       "      <td>...</td>\n",
       "      <td>-0.19</td>\n",
       "      <td>0.39</td>\n",
       "      <td>1.06</td>\n",
       "      <td>0.05</td>\n",
       "      <td>-0.87</td>\n",
       "      <td>-0.01</td>\n",
       "      <td>1.79</td>\n",
       "      <td>-0.76</td>\n",
       "      <td>0.22</td>\n",
       "      <td>1</td>\n",
       "    </tr>\n",
       "    <tr>\n",
       "      <th>7598</th>\n",
       "      <td>-0.02</td>\n",
       "      <td>2.07</td>\n",
       "      <td>2.10</td>\n",
       "      <td>0.05</td>\n",
       "      <td>0.83</td>\n",
       "      <td>0.12</td>\n",
       "      <td>-0.19</td>\n",
       "      <td>0.31</td>\n",
       "      <td>-0.16</td>\n",
       "      <td>-0.13</td>\n",
       "      <td>...</td>\n",
       "      <td>0.16</td>\n",
       "      <td>-0.17</td>\n",
       "      <td>0.77</td>\n",
       "      <td>0.76</td>\n",
       "      <td>-0.06</td>\n",
       "      <td>0.43</td>\n",
       "      <td>-0.75</td>\n",
       "      <td>0.27</td>\n",
       "      <td>-0.08</td>\n",
       "      <td>1</td>\n",
       "    </tr>\n",
       "    <tr>\n",
       "      <th>7599</th>\n",
       "      <td>-0.01</td>\n",
       "      <td>-0.76</td>\n",
       "      <td>-4.40</td>\n",
       "      <td>-0.19</td>\n",
       "      <td>-0.76</td>\n",
       "      <td>2.45</td>\n",
       "      <td>0.92</td>\n",
       "      <td>-0.50</td>\n",
       "      <td>-0.18</td>\n",
       "      <td>0.01</td>\n",
       "      <td>...</td>\n",
       "      <td>0.01</td>\n",
       "      <td>-1.22</td>\n",
       "      <td>0.24</td>\n",
       "      <td>0.22</td>\n",
       "      <td>0.31</td>\n",
       "      <td>0.10</td>\n",
       "      <td>0.13</td>\n",
       "      <td>-0.17</td>\n",
       "      <td>0.08</td>\n",
       "      <td>1</td>\n",
       "    </tr>\n",
       "  </tbody>\n",
       "</table>\n",
       "<p>5 rows × 89 columns</p>\n",
       "</div>"
      ],
      "text/plain": [
       "         0     1     2     3     4     5     6     7     8     9   ...     \\\n",
       "7595 -0.00 -2.05 -1.77  0.04  1.51 -4.25  0.39  4.84 -4.50 -2.68   ...      \n",
       "7596 -0.01 -0.30  2.32 -0.56  0.79  0.19 -0.29  0.22 -0.21  0.28   ...      \n",
       "7597 -0.01  0.71  2.30 -0.23 -0.67 -0.05  0.24  0.11  0.43  0.55   ...      \n",
       "7598 -0.02  2.07  2.10  0.05  0.83  0.12 -0.19  0.31 -0.16 -0.13   ...      \n",
       "7599 -0.01 -0.76 -4.40 -0.19 -0.76  2.45  0.92 -0.50 -0.18  0.01   ...      \n",
       "\n",
       "        79    80    81    82    83    84    85    86    87  convert  \n",
       "7595  1.63 -0.40 -0.09  0.16  1.66  0.16 -0.08 -0.00  0.05        1  \n",
       "7596 -0.16 -0.75  0.53  0.60  0.01  0.32 -0.23  0.13 -0.04        1  \n",
       "7597 -0.19  0.39  1.06  0.05 -0.87 -0.01  1.79 -0.76  0.22        1  \n",
       "7598  0.16 -0.17  0.77  0.76 -0.06  0.43 -0.75  0.27 -0.08        1  \n",
       "7599  0.01 -1.22  0.24  0.22  0.31  0.10  0.13 -0.17  0.08        1  \n",
       "\n",
       "[5 rows x 89 columns]"
      ]
     },
     "execution_count": 20,
     "metadata": {},
     "output_type": "execute_result"
    }
   ],
   "source": [
    "df = df1.reset_index(drop=True) #reset index\n",
    "\n",
    "#Convert column = shown ad was clicked: 1 = clicked ad\n",
    "print(df.convert.value_counts())\n",
    "\n",
    "df.tail()"
   ]
  },
  {
   "cell_type": "code",
   "execution_count": 21,
   "metadata": {},
   "outputs": [
    {
     "data": {
      "text/plain": [
       "0    583\n",
       "1    177\n",
       "Name: convert, dtype: int64"
      ]
     },
     "execution_count": 21,
     "metadata": {},
     "output_type": "execute_result"
    }
   ],
   "source": [
    "from sklearn.model_selection import train_test_split\n",
    "\n",
    "x = df.drop(['convert'],axis=1) #training features\n",
    "y = df.convert #target\n",
    "\n",
    "#Set our train/test values\n",
    "x_train, x_test, y_train, y_test = train_test_split(x, y,\n",
    "                                                  test_size = .10)\n",
    "#Test sample\n",
    "y_test.value_counts()\n"
   ]
  },
  {
   "cell_type": "code",
   "execution_count": 22,
   "metadata": {},
   "outputs": [
    {
     "name": "stdout",
     "output_type": "stream",
     "text": [
      "[(0, 2592), (1, 1731)]\n"
     ]
    }
   ],
   "source": [
    "from collections import Counter\n",
    "from imblearn.under_sampling import EditedNearestNeighbours\n",
    "\n",
    "enn = EditedNearestNeighbours(n_neighbors=3, random_state=42)\n",
    "x_resampled, y_resampled = enn.fit_resample(x_train, y_train)\n",
    "\n",
    "print(sorted(Counter(y_resampled).items()))"
   ]
  },
  {
   "cell_type": "code",
   "execution_count": 23,
   "metadata": {},
   "outputs": [
    {
     "name": "stdout",
     "output_type": "stream",
     "text": [
      "Training accuracy LinearSVC is: 0.74\n",
      "Test accuracy LinearSVC is: 0.69\n",
      "Cross Val LinearSVC Accuracy: 0.73 (+/- 0.02)\n",
      "\n",
      "              precision    recall  f1-score   support\n",
      "\n",
      "           0       0.86      0.72      0.78       583\n",
      "           1       0.40      0.61      0.48       177\n",
      "\n",
      "   micro avg       0.69      0.69      0.69       760\n",
      "   macro avg       0.63      0.67      0.63       760\n",
      "weighted avg       0.75      0.69      0.71       760\n",
      "\n",
      "\n",
      "This LinearSVC runs at a speed of:\n",
      "1.12 ms ± 145 µs per loop (mean ± std. dev. of 7 runs, 1000 loops each)\n"
     ]
    }
   ],
   "source": [
    "#First model using our undersampled data\n",
    "from sklearn.svm import LinearSVC\n",
    "from sklearn.model_selection import cross_val_score\n",
    "from sklearn.metrics import classification_report\n",
    "\n",
    "clf = LinearSVC(random_state=42)\n",
    "clf.fit(x_resampled, y_resampled) \n",
    "\n",
    "print('Training accuracy LinearSVC is: %0.2f' % (clf.score(x_resampled, y_resampled)))\n",
    "print('Test accuracy LinearSVC is: %0.2f' % (clf.score(x_test, y_test)))\n",
    "\n",
    "scores = cross_val_score(clf, x_resampled, y_resampled, cv=5)\n",
    "print(\"Cross Val LinearSVC Accuracy: %0.2f (+/- %0.2f)\\n\" % (scores.mean(), scores.std() * 2))\n",
    "\n",
    "y_pred = clf.predict(x_test) #predict y based on x_test\n",
    "print(classification_report(y_test, y_pred)) #true value vs predicted value\n",
    "\n",
    "print('\\nThis LinearSVC runs at a speed of:')\n",
    "%timeit clf.predict(df.iloc[5:6, :88])"
   ]
  },
  {
   "cell_type": "code",
   "execution_count": 24,
   "metadata": {},
   "outputs": [
    {
     "name": "stdout",
     "output_type": "stream",
     "text": [
      "LinearSVC F1 Score: 0.48 \n",
      "\n"
     ]
    }
   ],
   "source": [
    "from sklearn.metrics import f1_score\n",
    "\n",
    "#Show f1 score \n",
    "print(\"LinearSVC F1 Score: %0.2f \\n\" % f1_score(y_test, y_pred))\n"
   ]
  },
  {
   "cell_type": "code",
   "execution_count": 25,
   "metadata": {},
   "outputs": [
    {
     "name": "stdout",
     "output_type": "stream",
     "text": [
      "Training accuracy Log is: 0.74\n",
      "Test accuracy Log is: 0.70\n",
      "Cross Val Log Accuracy: 0.73 (+/- 0.02)\n",
      "\n",
      "              precision    recall  f1-score   support\n",
      "\n",
      "           0       0.86      0.73      0.79       583\n",
      "           1       0.41      0.62      0.49       177\n",
      "\n",
      "   micro avg       0.70      0.70      0.70       760\n",
      "   macro avg       0.63      0.67      0.64       760\n",
      "weighted avg       0.76      0.70      0.72       760\n",
      "\n",
      "\n",
      "This Log runs at a speed of:\n",
      "1.14 ms ± 116 µs per loop (mean ± std. dev. of 7 runs, 1000 loops each)\n"
     ]
    }
   ],
   "source": [
    "#First model using our undersampled data\n",
    "from sklearn.linear_model import LogisticRegression\n",
    "\n",
    "log = LogisticRegression(random_state=42)\n",
    "log.fit(x_resampled, y_resampled) \n",
    "\n",
    "print('Training accuracy Log is: %0.2f' % (log.score(x_resampled, y_resampled)))\n",
    "print('Test accuracy Log is: %0.2f' % (log.score(x_test, y_test)))\n",
    "\n",
    "scores = cross_val_score(log, x_resampled, y_resampled, cv=5)\n",
    "print(\"Cross Val Log Accuracy: %0.2f (+/- %0.2f)\\n\" % (scores.mean(), scores.std() * 2))\n",
    "\n",
    "y_pred1 = log.predict(x_test) #predict y based on x_test\n",
    "print(classification_report(y_test, y_pred1)) #true value vs predicted value\n",
    "\n",
    "print('\\nThis Log runs at a speed of:')\n",
    "%timeit log.predict(df.iloc[5:6, :88])"
   ]
  },
  {
   "cell_type": "code",
   "execution_count": 26,
   "metadata": {},
   "outputs": [
    {
     "data": {
      "image/png": "[encoded data removed]",
      "text/plain": [
       "<Figure size 432x288 with 1 Axes>"
      ]
     },
     "metadata": {},
     "output_type": "display_data"
    }
   ],
   "source": [
    "from matplotlib import style\n",
    "style.use('ggplot') or plt.style.use('ggplot')\n",
    "plt.style.use('seaborn-deep')\n",
    "import matplotlib.ticker as ticker\n",
    "\n",
    "fig, ax = plt.subplots()\n",
    "tick_spacing = 1\n",
    "\n",
    "plt.hist([y_test, y_pred, y_pred1], bins=3, label=['Actual', 'LinearSVC', 'LogisticRegression'])\n",
    "ax.xaxis.set_major_locator(ticker.MultipleLocator(tick_spacing))\n",
    "\n",
    "plt.ylabel('Frequency')\n",
    "plt.xlabel('Outcome')\n",
    "plt.title('Comparison of LinearSVC and LogisticRegression')\n",
    "plt.legend(loc='upper right')\n",
    "plt.show()"
   ]
  },
  {
   "cell_type": "code",
   "execution_count": 56,
   "metadata": {},
   "outputs": [
    {
     "name": "stdout",
     "output_type": "stream",
     "text": [
      "Training accuracy MLP is: 0.72\n",
      "Test accuracy MLP is: 0.74\n",
      "              precision    recall  f1-score   support\n",
      "\n",
      "           0       0.83      0.83      0.83       583\n",
      "           1       0.44      0.45      0.44       177\n",
      "\n",
      "   micro avg       0.74      0.74      0.74       760\n",
      "   macro avg       0.63      0.64      0.63       760\n",
      "weighted avg       0.74      0.74      0.74       760\n",
      "\n",
      "\n",
      "This MLP runs at a speed of:\n",
      "1.41 ms ± 77.9 µs per loop (mean ± std. dev. of 7 runs, 1000 loops each)\n"
     ]
    }
   ],
   "source": [
    "# Import the model.\n",
    "from sklearn.neural_network import MLPClassifier\n",
    "\n",
    "# Establish and fit the model, with a single, 1000 perceptron layer.\n",
    "mlp = MLPClassifier(activation='logistic', hidden_layer_sizes=(1500, 5), \n",
    "                    solver='sgd', learning_rate='adaptive',\n",
    "                    random_state=42)\n",
    "\n",
    "mlp.fit(x_resampled, y_resampled)\n",
    "\n",
    "print('Training accuracy MLP is: %0.2f' % (mlp.score(x_resampled, y_resampled)))\n",
    "print('Test accuracy MLP is: %0.2f' % (mlp.score(x_test, y_test)))\n",
    "\n",
    "# scores = cross_val_score(mlp, x_resampled, y_resampled, cv=5)\n",
    "# print(\"Cross Val MLP Accuracy: %0.2f (+/- %0.2f)\\n\" % (scores.mean(), scores.std() * 2))\n",
    "\n",
    "y_pred1 = mlp.predict(x_test) #predict y based on x_test\n",
    "print(classification_report(y_test, y_pred1)) #true value vs predicted value\n",
    "\n",
    "print('\\nThis MLP runs at a speed of:')\n",
    "%timeit mlp.predict(df.iloc[5:6, :88])"
   ]
  },
  {
   "cell_type": "code",
   "execution_count": 32,
   "metadata": {},
   "outputs": [
    {
     "data": {
      "text/plain": [
       "<bound method BaseEstimator.get_params of MLPClassifier(activation='relu', alpha=0.0001, batch_size='auto', beta_1=0.9,\n",
       "       beta_2=0.999, early_stopping=False, epsilon=1e-08,\n",
       "       hidden_layer_sizes=(300, 5), learning_rate='constant',\n",
       "       learning_rate_init=0.001, max_iter=200, momentum=0.9,\n",
       "       n_iter_no_change=10, nesterovs_momentum=True, power_t=0.5,\n",
       "       random_state=None, shuffle=True, solver='adam', tol=0.0001,\n",
       "       validation_fraction=0.1, verbose=False, warm_start=False)>"
      ]
     },
     "execution_count": 32,
     "metadata": {},
     "output_type": "execute_result"
    }
   ],
   "source": [
    "mlp.get_params"
   ]
  }
 ],
 "metadata": {
  "kernelspec": {
   "display_name": "Python 3",
   "language": "python",
   "name": "python3"
  },
  "language_info": {
   "codemirror_mode": {
    "name": "ipython",
    "version": 3
   },
   "file_extension": ".py",
   "mimetype": "text/x-python",
   "name": "python",
   "nbconvert_exporter": "python",
   "pygments_lexer": "ipython3",
   "version": "3.7.2"
  }
 },
 "nbformat": 4,
 "nbformat_minor": 2
}
