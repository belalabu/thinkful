{
 "cells": [
  {
   "cell_type": "code",
   "execution_count": 28,
   "metadata": {},
   "outputs": [
    {
     "data": {
      "text/html": [
       "<div>\n",
       "<style scoped>\n",
       "    .dataframe tbody tr th:only-of-type {\n",
       "        vertical-align: middle;\n",
       "    }\n",
       "\n",
       "    .dataframe tbody tr th {\n",
       "        vertical-align: top;\n",
       "    }\n",
       "\n",
       "    .dataframe thead th {\n",
       "        text-align: right;\n",
       "    }\n",
       "</style>\n",
       "<table border=\"1\" class=\"dataframe\">\n",
       "  <thead>\n",
       "    <tr style=\"text-align: right;\">\n",
       "      <th></th>\n",
       "      <th>city</th>\n",
       "      <th>population</th>\n",
       "      <th>violent crime</th>\n",
       "      <th>murder</th>\n",
       "      <th>rape</th>\n",
       "      <th>robbery</th>\n",
       "      <th>assault</th>\n",
       "      <th>property crime</th>\n",
       "      <th>burglary</th>\n",
       "      <th>larceny</th>\n",
       "      <th>motor vehicle theft</th>\n",
       "      <th>arson</th>\n",
       "    </tr>\n",
       "  </thead>\n",
       "  <tbody>\n",
       "    <tr>\n",
       "      <th>0</th>\n",
       "      <td>Adams Village</td>\n",
       "      <td>1851</td>\n",
       "      <td>0</td>\n",
       "      <td>0</td>\n",
       "      <td>0</td>\n",
       "      <td>0</td>\n",
       "      <td>0</td>\n",
       "      <td>11</td>\n",
       "      <td>1</td>\n",
       "      <td>10</td>\n",
       "      <td>0</td>\n",
       "      <td>0</td>\n",
       "    </tr>\n",
       "    <tr>\n",
       "      <th>1</th>\n",
       "      <td>Addison Town and Village</td>\n",
       "      <td>2568</td>\n",
       "      <td>2</td>\n",
       "      <td>0</td>\n",
       "      <td>0</td>\n",
       "      <td>1</td>\n",
       "      <td>1</td>\n",
       "      <td>49</td>\n",
       "      <td>1</td>\n",
       "      <td>47</td>\n",
       "      <td>1</td>\n",
       "      <td>0</td>\n",
       "    </tr>\n",
       "    <tr>\n",
       "      <th>2</th>\n",
       "      <td>Afton Village4</td>\n",
       "      <td>820</td>\n",
       "      <td>0</td>\n",
       "      <td>0</td>\n",
       "      <td>0</td>\n",
       "      <td>0</td>\n",
       "      <td>0</td>\n",
       "      <td>1</td>\n",
       "      <td>0</td>\n",
       "      <td>1</td>\n",
       "      <td>0</td>\n",
       "      <td>0</td>\n",
       "    </tr>\n",
       "    <tr>\n",
       "      <th>3</th>\n",
       "      <td>Akron Village</td>\n",
       "      <td>2842</td>\n",
       "      <td>1</td>\n",
       "      <td>0</td>\n",
       "      <td>0</td>\n",
       "      <td>0</td>\n",
       "      <td>1</td>\n",
       "      <td>17</td>\n",
       "      <td>0</td>\n",
       "      <td>17</td>\n",
       "      <td>0</td>\n",
       "      <td>0</td>\n",
       "    </tr>\n",
       "    <tr>\n",
       "      <th>4</th>\n",
       "      <td>Albany4</td>\n",
       "      <td>98595</td>\n",
       "      <td>802</td>\n",
       "      <td>8</td>\n",
       "      <td>0</td>\n",
       "      <td>237</td>\n",
       "      <td>503</td>\n",
       "      <td>3888</td>\n",
       "      <td>683</td>\n",
       "      <td>3083</td>\n",
       "      <td>122</td>\n",
       "      <td>12</td>\n",
       "    </tr>\n",
       "  </tbody>\n",
       "</table>\n",
       "</div>"
      ],
      "text/plain": [
       "                       city  population  violent crime  murder  rape  robbery  \\\n",
       "0             Adams Village        1851              0       0     0        0   \n",
       "1  Addison Town and Village        2568              2       0     0        1   \n",
       "2            Afton Village4         820              0       0     0        0   \n",
       "3             Akron Village        2842              1       0     0        0   \n",
       "4                   Albany4       98595            802       8     0      237   \n",
       "\n",
       "   assault  property crime  burglary  larceny  motor vehicle theft  arson  \n",
       "0        0              11         1       10                    0      0  \n",
       "1        1              49         1       47                    1      0  \n",
       "2        0               1         0        1                    0      0  \n",
       "3        1              17         0       17                    0      0  \n",
       "4      503            3888       683     3083                  122     12  "
      ]
     },
     "execution_count": 28,
     "metadata": {},
     "output_type": "execute_result"
    }
   ],
   "source": [
    "import math\n",
    "import warnings\n",
    "\n",
    "from IPython.display import display\n",
    "from matplotlib import pyplot as plt\n",
    "import numpy as np\n",
    "import pandas as pd\n",
    "import seaborn as sns\n",
    "from sklearn import linear_model\n",
    "import statsmodels.formula.api as smf\n",
    "\n",
    "# Display preferences.\n",
    "%matplotlib inline\n",
    "pd.options.display.float_format = '{:.3f}'.format\n",
    "\n",
    "# Suppress annoying harmless error.\n",
    "warnings.filterwarnings(\n",
    "    action=\"ignore\",\n",
    "    module=\"scipy\",\n",
    "    message=\"^internal gelsd\"\n",
    ")\n",
    "\n",
    "\n",
    "dat = pd.read_csv('crimeny.csv')\n",
    "df_or = pd.DataFrame(dat)\n",
    "\n",
    "#Some basic data cleaning here (ASK MUKESH ABOUT FURTHER DATA CLEANING)\n",
    "\n",
    "# this is a good command to make all column names upper/lower case\n",
    "# df.columns = map(str.lower, df.columns), not needed here as I am renaming columns manually\n",
    "\n",
    "\n",
    "#Remove empty columns of data here (NaN)\n",
    "df_or = df_or.dropna(subset = ['Population', 'City'])\n",
    "df_or = df_or.drop('Unnamed: 13', axis=1)\n",
    "df_or = df_or.drop(df_or.columns[4], axis = 1) #'Rape (revised definition)1'\n",
    "\n",
    "#Remove commas from the numbers in all data, standardize all the numbers for the future\n",
    "df_or = df_or.replace(',', '', regex=True)\n",
    "\n",
    "#Renaming columns for consistency and ease of typing\n",
    "df = df_or.rename({'Robbery':'robbery',\n",
    "               df_or.columns[0]:'city',\n",
    "               df_or.columns[1]:'population', \n",
    "               df_or.columns[2]:'violent crime',\n",
    "               df_or.columns[3]:'murder',\n",
    "               df_or.columns[4]:'rape',\n",
    "               df_or.columns[6]:'assault',\n",
    "               df_or.columns[7]:'property crime',\n",
    "               df_or.columns[8]:'burglary',\n",
    "               df_or.columns[9]:'larceny',\n",
    "               df_or.columns[10]:'motor vehicle theft',\n",
    "               df_or.columns[11]:'arson'}, \n",
    "               axis='columns')\n",
    "#This is 1 line of code that changes all columns to numeric (except the columns I exclude)\n",
    "#This also fills NAN values to 0, this removes decimals from the data and allows us to \n",
    "#perform math functions on the data since it is not strings anymore\n",
    "\n",
    "df.loc[:, df.columns != 'city'] = df.loc[:, df.columns != 'city'].apply(pd.to_numeric, \n",
    "                                        errors='coerce').fillna(0, downcast='infer')\n",
    "df.head()"
   ]
  },
  {
   "cell_type": "code",
   "execution_count": 29,
   "metadata": {},
   "outputs": [
    {
     "name": "stderr",
     "output_type": "stream",
     "text": [
      "/anaconda3/lib/python3.7/site-packages/ipykernel_launcher.py:17: SettingWithCopyWarning: \n",
      "A value is trying to be set on a copy of a slice from a DataFrame\n",
      "\n",
      "See the caveats in the documentation: http://pandas.pydata.org/pandas-docs/stable/indexing.html#indexing-view-versus-copy\n",
      "/anaconda3/lib/python3.7/site-packages/ipykernel_launcher.py:18: SettingWithCopyWarning: \n",
      "A value is trying to be set on a copy of a slice from a DataFrame\n",
      "\n",
      "See the caveats in the documentation: http://pandas.pydata.org/pandas-docs/stable/indexing.html#indexing-view-versus-copy\n",
      "/anaconda3/lib/python3.7/site-packages/ipykernel_launcher.py:20: SettingWithCopyWarning: \n",
      "A value is trying to be set on a copy of a slice from a DataFrame\n",
      "\n",
      "See the caveats in the documentation: http://pandas.pydata.org/pandas-docs/stable/indexing.html#indexing-view-versus-copy\n",
      "/anaconda3/lib/python3.7/site-packages/ipykernel_launcher.py:21: SettingWithCopyWarning: \n",
      "A value is trying to be set on a copy of a slice from a DataFrame\n",
      "\n",
      "See the caveats in the documentation: http://pandas.pydata.org/pandas-docs/stable/indexing.html#indexing-view-versus-copy\n"
     ]
    }
   ],
   "source": [
    "from scipy import stats\n",
    "\n",
    "z = np.abs(stats.zscore(df.loc[:, df.columns != 'city']))\n",
    "# get indices of outliers\n",
    "outliers= list(np.where(z > 3)[0])\n",
    "# drop them\n",
    "df= df.drop(outliers)\n",
    "\n",
    "#Now for the assignment portion:\n",
    "\n",
    "# As per instructions: Create new feature of population^2\n",
    "df['population^2'] = np.power(df['population'], 2)\n",
    "\n",
    "#as per instructions for robbery and murder: \n",
    "# \"For this model, please use these variables to create categorical \n",
    "# features where values greater than 0 are coded 1, and values equal to 0 are coded 0.\"\" \n",
    "df.murder[df.murder >= 1] = 1\n",
    "df.murder[df.murder < 1] = 0\n",
    "\n",
    "df.robbery[df.robbery >= 1] = 1\n",
    "df.robbery[df.robbery < 1] = 0"
   ]
  },
  {
   "cell_type": "code",
   "execution_count": 31,
   "metadata": {},
   "outputs": [
    {
     "name": "stdout",
     "output_type": "stream",
     "text": [
      "\n",
      "Coefficients: \n",
      " [[ 2.61954548e+02 -6.54013155e-08  7.47367437e+00  2.44120744e-02]]\n",
      "\n",
      "Intercept: \n",
      " [-66.11545932]\n",
      "\n",
      "R-squared:\n",
      "0.7354709125473062\n"
     ]
    }
   ],
   "source": [
    "# Instantiate and fit our model.\n",
    "regr = linear_model.LinearRegression()\n",
    "Y = df['property crime'].values.reshape(-1, 1)\n",
    "X = df[['murder','population^2','robbery', 'population']]\n",
    "regr.fit(X, Y)\n",
    "\n",
    "# Inspect the results.\n",
    "print('\\nCoefficients: \\n', regr.coef_)\n",
    "print('\\nIntercept: \\n', regr.intercept_)\n",
    "print('\\nR-squared:')\n",
    "print(regr.score(X, Y))"
   ]
  },
  {
   "cell_type": "code",
   "execution_count": 32,
   "metadata": {},
   "outputs": [
    {
     "data": {
      "image/png": "[encoded data removed]",
      "text/plain": [
       "<Figure size 432x288 with 1 Axes>"
      ]
     },
     "metadata": {},
     "output_type": "display_data"
    }
   ],
   "source": [
    "predicted = regr.predict(X).ravel()\n",
    "actual = df['property crime']\n",
    "\n",
    "sns.set_style('darkgrid')\n",
    "# Calculate the error, also called the residual.\n",
    "residual = actual - predicted\n",
    "\n",
    "# This looks a bit concerning.\n",
    "plt.hist(residual)\n",
    "plt.title('Residual counts')\n",
    "plt.xlabel('Residual')\n",
    "plt.ylabel('Count')\n",
    "plt.show()"
   ]
  },
  {
   "cell_type": "code",
   "execution_count": 33,
   "metadata": {},
   "outputs": [
    {
     "data": {
      "image/png": "[encoded data removed]",
      "text/plain": [
       "<Figure size 432x288 with 1 Axes>"
      ]
     },
     "metadata": {},
     "output_type": "display_data"
    }
   ],
   "source": [
    "plt.scatter(predicted, residual)\n",
    "plt.xlabel('Predicted')\n",
    "plt.ylabel('Residual')\n",
    "plt.axhline(y=0)\n",
    "plt.title('Residual vs. Predicted')\n",
    "plt.show()\n"
   ]
  },
  {
   "cell_type": "code",
   "execution_count": 34,
   "metadata": {},
   "outputs": [
    {
     "data": {
      "text/html": [
       "<div>\n",
       "<style scoped>\n",
       "    .dataframe tbody tr th:only-of-type {\n",
       "        vertical-align: middle;\n",
       "    }\n",
       "\n",
       "    .dataframe tbody tr th {\n",
       "        vertical-align: top;\n",
       "    }\n",
       "\n",
       "    .dataframe thead th {\n",
       "        text-align: right;\n",
       "    }\n",
       "</style>\n",
       "<table border=\"1\" class=\"dataframe\">\n",
       "  <thead>\n",
       "    <tr style=\"text-align: right;\">\n",
       "      <th></th>\n",
       "      <th>murder</th>\n",
       "      <th>population^2</th>\n",
       "      <th>robbery</th>\n",
       "      <th>population</th>\n",
       "    </tr>\n",
       "  </thead>\n",
       "  <tbody>\n",
       "    <tr>\n",
       "      <th>murder</th>\n",
       "      <td>1.000</td>\n",
       "      <td>0.383</td>\n",
       "      <td>0.296</td>\n",
       "      <td>0.560</td>\n",
       "    </tr>\n",
       "    <tr>\n",
       "      <th>population^2</th>\n",
       "      <td>0.383</td>\n",
       "      <td>1.000</td>\n",
       "      <td>0.203</td>\n",
       "      <td>0.853</td>\n",
       "    </tr>\n",
       "    <tr>\n",
       "      <th>robbery</th>\n",
       "      <td>0.296</td>\n",
       "      <td>0.203</td>\n",
       "      <td>1.000</td>\n",
       "      <td>0.437</td>\n",
       "    </tr>\n",
       "    <tr>\n",
       "      <th>population</th>\n",
       "      <td>0.560</td>\n",
       "      <td>0.853</td>\n",
       "      <td>0.437</td>\n",
       "      <td>1.000</td>\n",
       "    </tr>\n",
       "  </tbody>\n",
       "</table>\n",
       "</div>"
      ],
      "text/plain": [
       "              murder  population^2  robbery  population\n",
       "murder         1.000         0.383    0.296       0.560\n",
       "population^2   0.383         1.000    0.203       0.853\n",
       "robbery        0.296         0.203    1.000       0.437\n",
       "population     0.560         0.853    0.437       1.000"
      ]
     },
     "metadata": {},
     "output_type": "display_data"
    }
   ],
   "source": [
    "correlation_matrix = X.corr()\n",
    "display(correlation_matrix)"
   ]
  },
  {
   "cell_type": "code",
   "execution_count": 35,
   "metadata": {},
   "outputs": [],
   "source": [
    "robbery = df.robbery\n",
    "murder = df.murder\n",
    "propertycrime = df['property crime']\n",
    "population2 = df['population^2']\n",
    "population = df['population']"
   ]
  },
  {
   "cell_type": "code",
   "execution_count": 36,
   "metadata": {},
   "outputs": [],
   "source": [
    "# Write out the model formula.\n",
    "# Your dependent variable on the right, independent variables on the left\n",
    "# Use a ~ to represent an '=' from the functional form\n",
    "linear_formula = 'propertycrime ~ murder+robbery+population2+population'\n",
    "\n",
    "# Fit the model to our data using the formula.\n",
    "lm = smf.ols(formula=linear_formula, data=df).fit()"
   ]
  },
  {
   "cell_type": "code",
   "execution_count": 37,
   "metadata": {},
   "outputs": [
    {
     "data": {
      "text/plain": [
       "Intercept     -66.115\n",
       "murder        261.954\n",
       "robbery         7.474\n",
       "population2    -0.000\n",
       "population      0.024\n",
       "dtype: float64"
      ]
     },
     "execution_count": 37,
     "metadata": {},
     "output_type": "execute_result"
    }
   ],
   "source": [
    "lm.params"
   ]
  },
  {
   "cell_type": "code",
   "execution_count": 38,
   "metadata": {},
   "outputs": [
    {
     "data": {
      "text/plain": [
       "Intercept     0.001\n",
       "murder        0.000\n",
       "robbery       0.812\n",
       "population2   0.000\n",
       "population    0.000\n",
       "dtype: float64"
      ]
     },
     "execution_count": 38,
     "metadata": {},
     "output_type": "execute_result"
    }
   ],
   "source": [
    "lm.pvalues"
   ]
  },
  {
   "cell_type": "code",
   "execution_count": 39,
   "metadata": {},
   "outputs": [
    {
     "data": {
      "text/plain": [
       "0.7354709125472965"
      ]
     },
     "execution_count": 39,
     "metadata": {},
     "output_type": "execute_result"
    }
   ],
   "source": [
    "lm.rsquared"
   ]
  },
  {
   "cell_type": "code",
   "execution_count": 42,
   "metadata": {},
   "outputs": [],
   "source": [
    "#lets remove robbery (p-value higher than .05)\n",
    "linear_formula = 'propertycrime ~ murder+population+population2'\n",
    "\n",
    "# Fit the model to our data using the formula.\n",
    "lm = smf.ols(formula=linear_formula, data=df).fit()"
   ]
  },
  {
   "cell_type": "code",
   "execution_count": 43,
   "metadata": {},
   "outputs": [
    {
     "data": {
      "text/plain": [
       "0.7354290544359117"
      ]
     },
     "execution_count": 43,
     "metadata": {},
     "output_type": "execute_result"
    }
   ],
   "source": [
    "lm.rsquared"
   ]
  },
  {
   "cell_type": "code",
   "execution_count": null,
   "metadata": {},
   "outputs": [],
   "source": [
    "#Our model is consistent across multiple datasets: New York crime 2013 and New York Crime 2014\n",
    "#Both models return same r-squared: 0.73"
   ]
  }
 ],
 "metadata": {
  "kernelspec": {
   "display_name": "Python 3",
   "language": "python",
   "name": "python3"
  },
  "language_info": {
   "codemirror_mode": {
    "name": "ipython",
    "version": 3
   },
   "file_extension": ".py",
   "mimetype": "text/x-python",
   "name": "python",
   "nbconvert_exporter": "python",
   "pygments_lexer": "ipython3",
   "version": "3.7.0"
  }
 },
 "nbformat": 4,
 "nbformat_minor": 2
}
