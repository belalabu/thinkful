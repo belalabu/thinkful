{
 "cells": [
  {
   "cell_type": "code",
   "execution_count": 21,
   "metadata": {},
   "outputs": [
    {
     "name": "stdout",
     "output_type": "stream",
     "text": [
      "['.DS_Store', 'Cap.ipynb', 'modeltest.h5', '.ipynb_checkpoints', 'ft']\n"
     ]
    }
   ],
   "source": [
    "import pandas as pd\n",
    "import numpy as np\n",
    "import io\n",
    "import glob\n",
    "import os\n",
    "print(os.listdir(\"../Capstone\"))\n",
    "\n",
    "def warn(*args, **kwargs):\n",
    "    pass\n",
    "import warnings\n",
    "warnings.warn = warn\n"
   ]
  },
  {
   "cell_type": "code",
   "execution_count": 22,
   "metadata": {},
   "outputs": [],
   "source": [
    "import cv2\n",
    "import matplotlib.pyplot as plt \n",
    "import seaborn as sns\n",
    "from PIL import Image\n",
    "from keras.preprocessing.image import img_to_array\n",
    "from keras.preprocessing.image import load_img\n",
    "from keras.utils import np_utils"
   ]
  },
  {
   "cell_type": "code",
   "execution_count": 23,
   "metadata": {},
   "outputs": [
    {
     "data": {
      "text/html": [
       "<div>\n",
       "<style scoped>\n",
       "    .dataframe tbody tr th:only-of-type {\n",
       "        vertical-align: middle;\n",
       "    }\n",
       "\n",
       "    .dataframe tbody tr th {\n",
       "        vertical-align: top;\n",
       "    }\n",
       "\n",
       "    .dataframe thead th {\n",
       "        text-align: right;\n",
       "    }\n",
       "</style>\n",
       "<table border=\"1\" class=\"dataframe\">\n",
       "  <thead>\n",
       "    <tr style=\"text-align: right;\">\n",
       "      <th></th>\n",
       "      <th>Width</th>\n",
       "      <th>Height</th>\n",
       "      <th>Roi.X1</th>\n",
       "      <th>Roi.Y1</th>\n",
       "      <th>Roi.X2</th>\n",
       "      <th>Roi.Y2</th>\n",
       "      <th>ClassId</th>\n",
       "      <th>name</th>\n",
       "    </tr>\n",
       "  </thead>\n",
       "  <tbody>\n",
       "    <tr>\n",
       "      <th>0</th>\n",
       "      <td>38</td>\n",
       "      <td>35</td>\n",
       "      <td>5</td>\n",
       "      <td>5</td>\n",
       "      <td>33</td>\n",
       "      <td>30</td>\n",
       "      <td>31</td>\n",
       "      <td>../Capstone/ft/Images/00031/00000_00000.ppm</td>\n",
       "    </tr>\n",
       "    <tr>\n",
       "      <th>1</th>\n",
       "      <td>40</td>\n",
       "      <td>36</td>\n",
       "      <td>6</td>\n",
       "      <td>5</td>\n",
       "      <td>34</td>\n",
       "      <td>31</td>\n",
       "      <td>31</td>\n",
       "      <td>../Capstone/ft/Images/00031/00000_00001.ppm</td>\n",
       "    </tr>\n",
       "    <tr>\n",
       "      <th>2</th>\n",
       "      <td>40</td>\n",
       "      <td>37</td>\n",
       "      <td>5</td>\n",
       "      <td>5</td>\n",
       "      <td>34</td>\n",
       "      <td>32</td>\n",
       "      <td>31</td>\n",
       "      <td>../Capstone/ft/Images/00031/00000_00002.ppm</td>\n",
       "    </tr>\n",
       "    <tr>\n",
       "      <th>3</th>\n",
       "      <td>41</td>\n",
       "      <td>39</td>\n",
       "      <td>6</td>\n",
       "      <td>6</td>\n",
       "      <td>36</td>\n",
       "      <td>34</td>\n",
       "      <td>31</td>\n",
       "      <td>../Capstone/ft/Images/00031/00000_00003.ppm</td>\n",
       "    </tr>\n",
       "    <tr>\n",
       "      <th>4</th>\n",
       "      <td>43</td>\n",
       "      <td>37</td>\n",
       "      <td>6</td>\n",
       "      <td>5</td>\n",
       "      <td>38</td>\n",
       "      <td>32</td>\n",
       "      <td>31</td>\n",
       "      <td>../Capstone/ft/Images/00031/00000_00004.ppm</td>\n",
       "    </tr>\n",
       "  </tbody>\n",
       "</table>\n",
       "</div>"
      ],
      "text/plain": [
       "   Width  Height  Roi.X1  Roi.Y1  Roi.X2  Roi.Y2  ClassId  \\\n",
       "0     38      35       5       5      33      30       31   \n",
       "1     40      36       6       5      34      31       31   \n",
       "2     40      37       5       5      34      32       31   \n",
       "3     41      39       6       6      36      34       31   \n",
       "4     43      37       6       5      38      32       31   \n",
       "\n",
       "                                          name  \n",
       "0  ../Capstone/ft/Images/00031/00000_00000.ppm  \n",
       "1  ../Capstone/ft/Images/00031/00000_00001.ppm  \n",
       "2  ../Capstone/ft/Images/00031/00000_00002.ppm  \n",
       "3  ../Capstone/ft/Images/00031/00000_00003.ppm  \n",
       "4  ../Capstone/ft/Images/00031/00000_00004.ppm  "
      ]
     },
     "execution_count": 23,
     "metadata": {},
     "output_type": "execute_result"
    }
   ],
   "source": [
    "#We have 43 different image folders with 43 different CSV files\n",
    "#Let's build one complete dataframe here to work with\n",
    "\n",
    "data = []\n",
    "\n",
    "path = '../Capstone/ft/Images' #read our path\n",
    "all_files = glob.glob(path + '/**/*.csv') #read from the csv files in the image folder\n",
    "\n",
    "for new in all_files:\n",
    "    dfnew = pd.read_csv(new, sep=';', index_col=None, header=0) #read and organize our csv's\n",
    "    dfnew['filename'] = os.path.dirname(new) #example: we're adding '../Capstone/ft/Images/00028'\n",
    "    data.append(dfnew)\n",
    "    \n",
    "frame = pd.concat(data, axis=0, ignore_index=True) #concat list into dataframe\n",
    "frame['name'] = frame['filename'] + '/' + frame['Filename'] #merge file name w/ dirname\n",
    "\n",
    "df = frame.drop(['Filename', 'filename'], axis=1) #drop what isnt needed here\n",
    "\n",
    "df.head()"
   ]
  },
  {
   "cell_type": "code",
   "execution_count": 24,
   "metadata": {},
   "outputs": [
    {
     "data": {
      "text/plain": [
       "43"
      ]
     },
     "execution_count": 24,
     "metadata": {},
     "output_type": "execute_result"
    }
   ],
   "source": [
    "#How many unique classifiers do we have? Does it match the number of image files?\n",
    "\n",
    "df.ClassId.nunique()"
   ]
  },
  {
   "cell_type": "code",
   "execution_count": 25,
   "metadata": {},
   "outputs": [
    {
     "data": {
      "text/plain": [
       "2     2250\n",
       "1     2220\n",
       "13    2160\n",
       "12    2100\n",
       "38    2070\n",
       "10    2010\n",
       "4     1980\n",
       "5     1860\n",
       "25    1500\n",
       "9     1470\n",
       "7     1440\n",
       "8     1410\n",
       "3     1410\n",
       "11    1320\n",
       "18    1200\n",
       "35    1200\n",
       "17    1110\n",
       "31     780\n",
       "14     780\n",
       "33     689\n",
       "15     630\n",
       "26     600\n",
       "28     540\n",
       "23     510\n",
       "30     450\n",
       "34     420\n",
       "6      420\n",
       "16     420\n",
       "22     390\n",
       "36     390\n",
       "40     360\n",
       "20     360\n",
       "21     330\n",
       "39     300\n",
       "24     270\n",
       "29     270\n",
       "32     240\n",
       "42     240\n",
       "41     240\n",
       "27     240\n",
       "37     210\n",
       "19     210\n",
       "0      210\n",
       "Name: ClassId, dtype: int64"
      ]
     },
     "execution_count": 25,
     "metadata": {},
     "output_type": "execute_result"
    }
   ],
   "source": [
    "#It looks like we have a bit of a class imbalance\n",
    "\n",
    "df.ClassId.value_counts()"
   ]
  },
  {
   "cell_type": "code",
   "execution_count": 26,
   "metadata": {},
   "outputs": [
    {
     "name": "stdout",
     "output_type": "stream",
     "text": [
      "['../Capstone/ft/Images/00031/00000_00000.ppm', '../Capstone/ft/Images/00031/00000_00001.ppm', '../Capstone/ft/Images/00031/00000_00002.ppm', '../Capstone/ft/Images/00031/00000_00003.ppm', '../Capstone/ft/Images/00031/00000_00004.ppm', '../Capstone/ft/Images/00031/00000_00005.ppm', '../Capstone/ft/Images/00031/00000_00006.ppm', '../Capstone/ft/Images/00031/00000_00007.ppm', '../Capstone/ft/Images/00031/00000_00008.ppm', '../Capstone/ft/Images/00031/00000_00009.ppm']\n"
     ]
    }
   ],
   "source": [
    "namelist = list(df.name)\n",
    "\n",
    "print(namelist[:10]) #the output we get are the .png files"
   ]
  },
  {
   "cell_type": "code",
   "execution_count": 27,
   "metadata": {},
   "outputs": [
    {
     "data": {
      "image/png": "[encoded data removed]",
      "text/plain": [
       "<Figure size 864x864 with 3 Axes>"
      ]
     },
     "metadata": {
      "needs_background": "light"
     },
     "output_type": "display_data"
    }
   ],
   "source": [
    "plt.figure(figsize = (12,12)) #sizing\n",
    "\n",
    "for i in range(3): #show 3 photos\n",
    "    plt.subplot(1, 3, i+1) #1-3(range) \n",
    "    image = cv2.imread(namelist[i]) #cv2 to read image\n",
    "    plt.imshow(image) #plot\n",
    "    plt.title('Signs')\n",
    "    plt.tight_layout()\n",
    "plt.show()\n"
   ]
  },
  {
   "cell_type": "code",
   "execution_count": 28,
   "metadata": {},
   "outputs": [],
   "source": [
    "newdata = []\n",
    "\n",
    "for image in namelist:\n",
    "    try:\n",
    "        img_read = plt.imread(image) #read images\n",
    "        img_resize = cv2.resize(img_read, (30, 30)) #resize 50x50 all the same shape\n",
    "        img_array = img_to_array(img_resize) #convert into arrays\n",
    "        newdata.append(img_array) \n",
    "    except:\n",
    "        print('Exception found')"
   ]
  },
  {
   "cell_type": "code",
   "execution_count": 29,
   "metadata": {},
   "outputs": [],
   "source": [
    "#Convert to arrays instead of lists\n",
    "\n",
    "image_data = np.array(newdata)\n",
    "labels = np.array(list(df.ClassId))"
   ]
  },
  {
   "cell_type": "code",
   "execution_count": 30,
   "metadata": {},
   "outputs": [],
   "source": [
    "#Order our data and then shuffle it to ensure randomness\n",
    "\n",
    "idx = np.arange(image_data.shape[0])\n",
    "np.random.shuffle(idx)\n",
    "image_data = image_data[idx] #training (x)\n",
    "labels = labels[idx] #classifier (y)"
   ]
  },
  {
   "cell_type": "code",
   "execution_count": 31,
   "metadata": {},
   "outputs": [],
   "source": [
    "#Time to split data into train / test sets\n",
    "from sklearn.model_selection import train_test_split\n",
    "\n",
    "\n",
    "x_train, x_test, y_train1, y_test1 = train_test_split(image_data, labels, \n",
    "                                                    test_size = 0.20, \n",
    "                                                    random_state = 42)\n"
   ]
  },
  {
   "cell_type": "code",
   "execution_count": 32,
   "metadata": {},
   "outputs": [],
   "source": [
    "#One-hot encode target column\n",
    "from keras.utils import to_categorical\n",
    "\n",
    "y_train = to_categorical(y_train1, 43)\n",
    "y_test = to_categorical(y_test1, 43)\n"
   ]
  },
  {
   "cell_type": "code",
   "execution_count": 33,
   "metadata": {},
   "outputs": [
    {
     "name": "stdout",
     "output_type": "stream",
     "text": [
      "(31367, 30, 30, 3)\n",
      "(7842, 30, 30, 3)\n",
      "(31367, 43)\n",
      "(7842, 43)\n"
     ]
    }
   ],
   "source": [
    "#Data Shapes\n",
    "\n",
    "print(x_train.shape) #Image training \n",
    "print(x_test.shape) #Image testing\n",
    "\n",
    "print(y_train.shape) #Label training\n",
    "print(y_test.shape) #Label Testing"
   ]
  },
  {
   "cell_type": "code",
   "execution_count": 34,
   "metadata": {},
   "outputs": [],
   "source": [
    "import keras\n",
    "from keras.layers import Dense, Conv2D\n",
    "from keras.layers import Flatten\n",
    "from keras.layers import MaxPooling2D, GlobalAveragePooling2D\n",
    "from keras.layers import Activation\n",
    "from keras.layers import BatchNormalization\n",
    "from keras.layers import Dropout\n",
    "from keras.models import Sequential\n",
    "from keras import backend as K\n",
    "\n",
    "from keras import optimizers"
   ]
  },
  {
   "cell_type": "code",
   "execution_count": 44,
   "metadata": {},
   "outputs": [],
   "source": [
    "#Create model\n",
    "model = Sequential()\n",
    "\n",
    "#add model layers\n",
    "model.add(Conv2D(16, kernel_size=3, activation='relu', input_shape=(30,30,3)))\n",
    "model.add(Conv2D(32, kernel_size=3, activation='relu'))\n",
    "\n",
    "\n",
    "#Flatten connects convulation layer with our dense layer\n",
    "model.add(Flatten())\n",
    "\n",
    "model.add(Dense(43, activation='softmax'))\n",
    "\n",
    "#compile model\n",
    "model.compile(optimizer='adam', loss='categorical_crossentropy', metrics=['accuracy'])\n",
    "\n",
    "#padding, pooling\n",
    "#alexnet arch\n",
    "#vgg16"
   ]
  },
  {
   "cell_type": "code",
   "execution_count": null,
   "metadata": {},
   "outputs": [],
   "source": []
  },
  {
   "cell_type": "code",
   "execution_count": 45,
   "metadata": {},
   "outputs": [
    {
     "name": "stdout",
     "output_type": "stream",
     "text": [
      "Train on 31367 samples, validate on 7842 samples\n",
      "Epoch 1/3\n",
      "31367/31367 [==============================] - 62s 2ms/step - loss: 3.2441 - acc: 0.6241 - val_loss: 0.5705 - val_acc: 0.8644\n",
      "Epoch 2/3\n",
      "31367/31367 [==============================] - 52s 2ms/step - loss: 0.3576 - acc: 0.9147 - val_loss: 0.3858 - val_acc: 0.9118\n",
      "Epoch 3/3\n",
      "31367/31367 [==============================] - 63s 2ms/step - loss: 0.1967 - acc: 0.9507 - val_loss: 0.3337 - val_acc: 0.9272\n"
     ]
    }
   ],
   "source": [
    "m = model.fit(x_train, y_train, validation_data=(x_test, y_test), epochs=3, batch_size = 100)"
   ]
  },
  {
   "cell_type": "code",
   "execution_count": 36,
   "metadata": {},
   "outputs": [],
   "source": [
    "# model.save('modeltest.h5')\n",
    "\n",
    "from keras.models import load_model\n",
    "model = load_model('modeltest.h5')"
   ]
  },
  {
   "cell_type": "code",
   "execution_count": null,
   "metadata": {},
   "outputs": [],
   "source": [
    "from matplotlib import style\n",
    "style.use('ggplot') or plt.style.use('ggplot')\n",
    "plt.figure(figsize = (18,8))\n",
    "\n",
    "plt.plot(range(3), m.history['acc'], label = 'Training Accuracy')\n",
    "plt.plot(range(3), m.history['loss'], label = 'Taining Loss')\n",
    "\n",
    "plt.xlabel(\"Number of Epoch's\")\n",
    "plt.ylabel('Accuracy/Loss Value')\n",
    "plt.title('Training Accuracy and Training Loss')\n",
    "plt.legend(loc = \"best\")\n",
    "plt.show()"
   ]
  },
  {
   "cell_type": "code",
   "execution_count": 38,
   "metadata": {},
   "outputs": [
    {
     "name": "stdout",
     "output_type": "stream",
     "text": [
      "_________________________________________________________________\n",
      "Layer (type)                 Output Shape              Param #   \n",
      "=================================================================\n",
      "conv2d_7 (Conv2D)            (None, 28, 28, 16)        448       \n",
      "_________________________________________________________________\n",
      "conv2d_8 (Conv2D)            (None, 26, 26, 32)        4640      \n",
      "_________________________________________________________________\n",
      "flatten_4 (Flatten)          (None, 21632)             0         \n",
      "_________________________________________________________________\n",
      "dense_4 (Dense)              (None, 43)                930219    \n",
      "=================================================================\n",
      "Total params: 935,307\n",
      "Trainable params: 935,307\n",
      "Non-trainable params: 0\n",
      "_________________________________________________________________\n",
      "None\n"
     ]
    }
   ],
   "source": [
    "# Visualizating filters\n",
    "# https://blog.keras.io/how-convolutional-neural-networks-see-the-world.html\n",
    "from keras import backend as K\n",
    "K.set_learning_phase(1)\n",
    "import tensorflow as tf\n",
    "\n",
    "\n",
    "layer_dict = dict([(layer.name, layer) for layer in model.layers])\n",
    "#print('Layer dict', layer_dict)\n",
    "print(model.summary())"
   ]
  },
  {
   "cell_type": "code",
   "execution_count": 41,
   "metadata": {},
   "outputs": [
    {
     "name": "stderr",
     "output_type": "stream",
     "text": [
      "Clipping input data to the valid range for imshow with RGB data ([0..1] for floats or [0..255] for integers).\n"
     ]
    },
    {
     "data": {
      "image/png": "[encoded data removed]",
      "text/plain": [
       "<Figure size 864x864 with 24 Axes>"
      ]
     },
     "metadata": {},
     "output_type": "display_data"
    }
   ],
   "source": [
    "# util function to convert a tensor into a valid image\n",
    "from keras.layers import Input, Conv2DTranspose\n",
    "\n",
    "def deprocess_image(x):\n",
    "    # normalize tensor: center on 0., ensure std is 0.1\n",
    "    x -= x.mean()\n",
    "    x /= (x.std() + 1e-5)\n",
    "    x *= 0.1\n",
    "\n",
    "    # clip to [0, 1]\n",
    "    x += 0.5\n",
    "    x = np.clip(x, 0, 1)\n",
    "\n",
    "    # convert to RGB array\n",
    "    x *= 255\n",
    "#     x = x.transpose((1, 2, 0))\n",
    "    x = np.clip(x, 0, 255).astype('uint8')\n",
    "    return x\n",
    "\n",
    "def vis_img_in_filter(img = np.array(x_train[0]).reshape((1, 30, 30, 3)).astype(np.float64), \n",
    "                      layer_name = 'conv2d_8'):\n",
    "    layer_output = layer_dict[layer_name].output\n",
    "    img_ascs = list()\n",
    "    for filter_index in range(layer_output.shape[3]):\n",
    "        # build a loss function that maximizes the activation\n",
    "        # of the nth filter of the layer considered\n",
    "        loss = K.mean(layer_output[:, :, :, filter_index])\n",
    "\n",
    "        # compute the gradient of the input picture wrt this loss\n",
    "        grads = K.gradients(loss, model.input)[0]\n",
    "\n",
    "        # normalization trick: we normalize the gradient\n",
    "        grads /= (K.sqrt(K.mean(K.square(grads))) + 1e-5)\n",
    "\n",
    "        # this function returns the loss and grads given the input picture\n",
    "        iterate = K.function([model.input], [loss, grads])\n",
    "\n",
    "        # step size for gradient ascent\n",
    "        step = 5.\n",
    "\n",
    "        img_asc = np.array(img)\n",
    "        # run gradient ascent for 20 steps\n",
    "        for i in range(20):\n",
    "            loss_value, grads_value = iterate([img_asc])\n",
    "            img_asc += grads_value * step\n",
    "\n",
    "        img_asc = img_asc[0]\n",
    "        img_ascs.append(deprocess_image(img_asc).reshape((30, 30, 3)))\n",
    "        \n",
    "    if layer_output.shape[3] >= 35:\n",
    "        plot_x, plot_y = 6, 6\n",
    "    elif layer_output.shape[3] >= 23:\n",
    "        plot_x, plot_y = 4, 6\n",
    "    elif layer_output.shape[3] >= 11:\n",
    "        plot_x, plot_y = 2, 6\n",
    "    else:\n",
    "        plot_x, plot_y = 1, 2\n",
    "    fig, ax = plt.subplots(plot_x, plot_y, figsize = (12, 12))\n",
    "    ax[0, 0].imshow(img.reshape((30, 30, 3)), cmap = 'gray')\n",
    "    ax[0, 0].set_title('Input image')\n",
    "    fig.suptitle('Input image and %s filters' % (layer_name,))\n",
    "    fig.tight_layout(pad = 0.1, rect = [0, 0, 0.95, 0.95])\n",
    "    for (x, y) in [(i, j) for i in range(plot_x) for j in range(plot_y)]:\n",
    "        if x == 0 and y == 0:\n",
    "            continue\n",
    "        ax[x, y].imshow(img_ascs[x * plot_y + y - 1], cmap = 'gray')\n",
    "        ax[x, y].set_title('Filter # %d' % (x * plot_y + y - 1))\n",
    "\n",
    "vis_img_in_filter()"
   ]
  },
  {
   "cell_type": "code",
   "execution_count": 61,
   "metadata": {},
   "outputs": [],
   "source": [
    "\"\"\"Utilities to compute SaliencyMasks.\"\"\"\n",
    "import numpy as np\n",
    "import keras.backend as K\n",
    "\n",
    "class SaliencyMask(object):\n",
    "    \"\"\"Base class for saliency masks. Alone, this class doesn't do anything.\"\"\"\n",
    "    def __init__(self, model, output_index=0):\n",
    "        \"\"\"Constructs a SaliencyMask.\n",
    "        Args:\n",
    "            model: the keras model used to make prediction\n",
    "            output_index: the index of the node in the last layer to take derivative on\n",
    "        \"\"\"\n",
    "        pass\n",
    "\n",
    "    def get_mask(self, input_image):\n",
    "        \"\"\"Returns an unsmoothed mask.\n",
    "        Args:\n",
    "            input_image: input image with shape (H, W, 3).\n",
    "        \"\"\"\n",
    "        pass\n",
    "\n",
    "    def get_smoothed_mask(self, input_image, stdev_spread=.2, nsamples=50):\n",
    "        \"\"\"Returns a mask that is smoothed with the SmoothGrad method.\n",
    "        Args:\n",
    "            input_image: input image with shape (H, W, 3).\n",
    "        \"\"\"\n",
    "        stdev = stdev_spread * (np.max(input_image) - np.min(input_image))\n",
    "\n",
    "        total_gradients = np.zeros_like(input_image)\n",
    "        for i in range(nsamples):\n",
    "            noise = np.random.normal(0, stdev, input_image.shape)\n",
    "            x_value_plus_noise = input_image + noise\n",
    "\n",
    "            total_gradients += self.get_mask(x_value_plus_noise)\n",
    "\n",
    "        return total_gradients / nsamples\n",
    "\n",
    "class GradientSaliency(SaliencyMask):\n",
    "    r\"\"\"A SaliencyMask class that computes saliency masks with a gradient.\"\"\"\n",
    "\n",
    "    def __init__(self, model, output_index=0):\n",
    "        # Define the function to compute the gradient\n",
    "        input_tensors = [model.input,        # placeholder for input image tensor\n",
    "                         K.learning_phase(), # placeholder for mode (train or test) tense\n",
    "                        ]\n",
    "        gradients = model.optimizer.get_gradients(model.output[0][output_index], model.input)\n",
    "        self.compute_gradients = K.function(inputs=input_tensors, outputs=gradients)\n",
    "\n",
    "    def get_mask(self, input_image):\n",
    "        \"\"\"Returns a vanilla gradient mask.\n",
    "        Args:\n",
    "            input_image: input image with shape (H, W, 3).\n",
    "        \"\"\"\n",
    "        \n",
    "        # Execute the function to compute the gradient\n",
    "        x_value = np.expand_dims(input_image, axis=0)\n",
    "        gradients = self.compute_gradients([x_value])[0][0]\n",
    "\n",
    "        return gradients"
   ]
  },
  {
   "cell_type": "code",
   "execution_count": 316,
   "metadata": {},
   "outputs": [],
   "source": [
    "\"\"\"Utilites to computed GuidedBackprop SaliencyMasks\"\"\"\n",
    "\n",
    "# from saliency import SaliencyMask\n",
    "import numpy as np\n",
    "import tensorflow as tf\n",
    "import keras.backend as K\n",
    "from keras.models import load_model\n",
    "\n",
    "class GuidedBackprop(SaliencyMask):\n",
    "    \"\"\"A SaliencyMask class that computes saliency masks with GuidedBackProp.\n",
    "    This implementation copies the TensorFlow graph to a new graph with the ReLU\n",
    "    gradient overwritten as in the paper:\n",
    "    https://arxiv.org/abs/1412.6806\n",
    "    \"\"\"\n",
    "\n",
    "    GuidedReluRegistered = False\n",
    "\n",
    "    def __init__(self, model, output_index=0, custom_loss=None):\n",
    "        \"\"\"Constructs a GuidedBackprop SaliencyMask.\"\"\"\n",
    "\n",
    "        if GuidedBackprop.GuidedReluRegistered is False:\n",
    "            @tf.RegisterGradient(\"GuidedRelu\")\n",
    "            def _GuidedReluGrad(op, grad):\n",
    "                gate_g = tf.cast(grad > 0, \"float32\")\n",
    "                gate_y = tf.cast(op.outputs[0] > 0, \"float32\")\n",
    "                return gate_y * gate_g * grad\n",
    "        GuidedBackprop.GuidedReluRegistered = True\n",
    "        \n",
    "#         \"\"\" \n",
    "#             Create a dummy session to set the learning phase to 0 (test mode in keras) without \n",
    "#             inteferring with the session in the original keras model. This is a workaround\n",
    "#             for the problem that tf.gradients returns error with keras models that contains \n",
    "#             Dropout or BatchNormalization.\n",
    "#             Basic Idea: save keras model => create new keras model with learning phase set to 0 => save\n",
    "#             the tensorflow graph => create new tensorflow graph with ReLU replaced by GuiededReLU.\n",
    "#         \"\"\"   \n",
    "#         model.save('/tmp/gb_keras.h5') \n",
    "#         with tf.Graph().as_default(): \n",
    "#             with tf.Session().as_default(): \n",
    "#                 K.set_learning_phase(0)\n",
    "#                 load_model('/tmp/gb_keras.h5', custom_objects={\"custom_loss\":custom_loss})\n",
    "#                 session = K.get_session()\n",
    "#                 tf.train.export_meta_graph()\n",
    "                \n",
    "#                 saver = tf.train.Saver()\n",
    "#                 saver.save(session, '/tmp/guided_backprop_ckpt')\n",
    "\n",
    "#         self.guided_graph = tf.Graph()\n",
    "#         with self.guided_graph.as_default():\n",
    "#             self.guided_sess = tf.Session(graph = self.guided_graph)\n",
    "\n",
    "#             with self.guided_graph.gradient_override_map({'Relu': 'GuidedRelu'}):\n",
    "#                 saver = tf.train.import_meta_graph('/tmp/guided_backprop_ckpt.meta')\n",
    "#                 saver.restore(self.guided_sess, '/tmp/guided_backprop_ckpt')\n",
    "\n",
    "#                 self.imported_y = self.guided_graph.get_tensor_by_name(model.output.name)[0][output_index]\n",
    "#                 self.imported_x = self.guided_graph.get_tensor_by_name(model.input.name)\n",
    "\n",
    "#                 self.guided_grads_node = tf.gradients(self.imported_y, self.imported_x)\n",
    "        \n",
    "    def get_mask(self, input_image):\n",
    "        \"\"\"Returns a GuidedBackprop mask.\"\"\"\n",
    "        x_value = np.expand_dims(input_image, axis=0)\n",
    "        guided_feed_dict = {}\n",
    "        guided_feed_dict[self.imported_x] = x_value        \n",
    "\n",
    "        gradients = self.guided_sess.run(self.guided_grads_node, feed_dict = guided_feed_dict)[0][0]\n",
    "\n",
    "        return gradients"
   ]
  },
  {
   "cell_type": "code",
   "execution_count": 312,
   "metadata": {},
   "outputs": [],
   "source": [
    "from sklearn import preprocessing\n",
    "\n",
    "# transform training label to one-hot encoding\n",
    "lb = preprocessing.LabelBinarizer()\n",
    "lb.fit(y_train1)\n",
    "Y_train = lb.transform(y_train1)\n",
    "Y_train_label = lb.inverse_transform(Y_train)\n",
    "\n"
   ]
  },
  {
   "cell_type": "code",
   "execution_count": 431,
   "metadata": {
    "scrolled": false
   },
   "outputs": [
    {
     "data": {
      "image/png": "[encoded data removed]",
      "text/plain": [
       "<Figure size 1080x1080 with 4 Axes>"
      ]
     },
     "metadata": {},
     "output_type": "display_data"
    }
   ],
   "source": [
    "\n",
    "fig, axs = plt.subplots(5,4, figsize=(15, 15), facecolor='w', edgecolor='k')\n",
    "# fig.subplots_adjust(hspace = .5, wspace=.001)\n",
    "# axs = axs.ravel()\n",
    "\n",
    "for i in range (1):\n",
    "    for j in range(5):\n",
    "        img = (x_train[j]) + 127.5\n",
    "        vanilla = GradientSaliency(model, y_train1[j])\n",
    "#     guided_bprop = GuidedBackprop(model, y_train1[i])\n",
    "    \n",
    "        mask = vanilla.get_mask(img)\n",
    "#     guide_mask = guided_bprop.get_mask(img)\n",
    "        smooth_mask = vanilla.get_smoothed_mask(img)\n",
    "        filter_smoothed_mask = (smooth_mask > 0.0).reshape((30, 30, 3))\n",
    "\n",
    "#   Plot versions\n",
    "        show_image(img, grayscale = False, ax=plt.subplot(j+1,5,1), title=\"Base\")\n",
    "        show_image(mask, ax=plt.subplot(j+1,5,2), title='Vanilla gradient')\n",
    "        show_image(filter_smoothed_mask, ax=plt.subplot(j+1,5,3), title='Smooth Filter Gradient')\n",
    "        show_image(smooth_mask, ax=plt.subplot(j+1,5,4), title='Smoothed Gradient')\n",
    "\n"
   ]
  },
  {
   "cell_type": "code",
   "execution_count": null,
   "metadata": {},
   "outputs": [],
   "source": [
    "ypred = model.predict_classes(x_test)"
   ]
  },
  {
   "cell_type": "code",
   "execution_count": 166,
   "metadata": {},
   "outputs": [
    {
     "data": {
      "text/plain": [
       "0.9590665646518746"
      ]
     },
     "execution_count": 166,
     "metadata": {},
     "output_type": "execute_result"
    }
   ],
   "source": [
    "from sklearn.metrics import accuracy_score\n",
    "\n",
    "accuracy_score(ypred, y_test1)"
   ]
  },
  {
   "cell_type": "code",
   "execution_count": 389,
   "metadata": {},
   "outputs": [],
   "source": [
    "def show_image(image, grayscale = True, ax=None, title=''):\n",
    "    if ax is None:\n",
    "        plt.figure()\n",
    "    plt.axis('off')\n",
    "    \n",
    "    if len(image.shape) == 2 or grayscale == True:\n",
    "        if len(image.shape) == 3:\n",
    "            image = np.sum(np.abs(image), axis=2)\n",
    "            \n",
    "        vmax = np.percentile(image, 99)\n",
    "        vmin = np.min(image)\n",
    "\n",
    "        plt.imshow(image, cmap=plt.cm.plasma, vmin=vmin, vmax=vmax)\n",
    "        plt.title(title)\n",
    "    else:\n",
    "        image = image + 127.5\n",
    "        image = image.astype('uint8')\n",
    "        \n",
    "        plt.imshow(image)\n",
    "        plt.title(title)\n",
    "    \n",
    "def load_image(file_path):\n",
    "    im = PIL.Image.open(file_path)\n",
    "    im = np.asarray(im)\n",
    "    \n",
    "    return im - 127.5"
   ]
  },
  {
   "cell_type": "code",
   "execution_count": 209,
   "metadata": {},
   "outputs": [
    {
     "data": {
      "text/plain": [
       "<function matplotlib.cm.get_cmap(name=None, lut=None)>"
      ]
     },
     "execution_count": 209,
     "metadata": {},
     "output_type": "execute_result"
    }
   ],
   "source": [
    "fig, axs = plt.subplots(2,5, figsize=(15, 6), facecolor='w', edgecolor='k')\n",
    "fig.subplots_adjust(hspace = .5, wspace=.001)\n",
    "\n",
    "axs = axs.ravel()\n",
    "\n",
    "for i in range(10):\n",
    "\n",
    "    axs[i].contourf(np.random.rand(10,10),5,cmap=plt.cm.Oranges)\n",
    "    axs[i].set_title(str(250+i))"
   ]
  },
  {
   "cell_type": "code",
   "execution_count": null,
   "metadata": {},
   "outputs": [],
   "source": []
  }
 ],
 "metadata": {
  "kernelspec": {
   "display_name": "Python 3",
   "language": "python",
   "name": "python3"
  },
  "language_info": {
   "codemirror_mode": {
    "name": "ipython",
    "version": 3
   },
   "file_extension": ".py",
   "mimetype": "text/x-python",
   "name": "python",
   "nbconvert_exporter": "python",
   "pygments_lexer": "ipython3",
   "version": "3.7.2"
  }
 },
 "nbformat": 4,
 "nbformat_minor": 2
}
