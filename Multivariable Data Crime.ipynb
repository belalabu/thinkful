{
 "cells": [
  {
   "cell_type": "code",
   "execution_count": 123,
   "metadata": {},
   "outputs": [],
   "source": [
    "import math\n",
    "import warnings\n",
    "\n",
    "from IPython.display import display\n",
    "from matplotlib import pyplot as plt\n",
    "import numpy as np\n",
    "import pandas as pd\n",
    "import seaborn as sns\n",
    "from sklearn import linear_model\n",
    "import statsmodels.formula.api as smf\n",
    "\n",
    "# Display preferences.\n",
    "%matplotlib inline\n",
    "pd.options.display.float_format = '{:.3f}'.format\n",
    "\n",
    "# Suppress annoying harmless error.\n",
    "warnings.filterwarnings(\n",
    "    action=\"ignore\",\n",
    "    module=\"scipy\",\n",
    "    message=\"^internal gelsd\"\n",
    ")\n",
    "\n",
    "\n",
    "data = pd.read_csv('crime.csv')\n",
    "df_or = pd.DataFrame(data)\n",
    "\n",
    "\n",
    "#Some basic data cleaning here (ASK MUKESH ABOUT FURTHER DATA CLEANING)\n",
    "\n",
    "# this is a good command to make all column names upper/lower case\n",
    "# df.columns = map(str.lower, df.columns), not needed here as I am renaming columns manually\n",
    "\n",
    "\n",
    "#Remove empty columns of data here (NaN)\n",
    "df_or = df_or.dropna(subset = ['Population', 'City'])\n",
    "df_or = df_or.drop('Unnamed: 13', axis=1)\n",
    "df_or = df_or.drop(df_or.columns[4], axis = 1) #'Rape (revised definition)1'\n",
    "\n",
    "#Remove commas from the numbers in all data, standardize all the numbers for the future\n",
    "df_or = df_or.replace(',', '', regex=True)\n",
    "\n",
    "#Renaming columns for consistency and ease of typing\n",
    "df = df_or.rename({'Robbery':'robbery',\n",
    "               df_or.columns[0]:'city',\n",
    "               df_or.columns[1]:'population', \n",
    "               df_or.columns[2]:'violent crime',\n",
    "               df_or.columns[3]:'murder',\n",
    "               df_or.columns[4]:'rape',\n",
    "               df_or.columns[6]:'assault',\n",
    "               df_or.columns[7]:'property crime',\n",
    "               df_or.columns[8]:'burglary',\n",
    "               df_or.columns[9]:'larceny',\n",
    "               df_or.columns[10]:'motor vehicle theft',\n",
    "               df_or.columns[11]:'arson'}, \n",
    "               axis='columns')\n",
    "\n",
    "#This is 1 line of code that changes all columns to numeric (except the columns I exclude)\n",
    "#This also fills NAN values to 0, this removes decimals from the data and allows us to \n",
    "#perform math functions on the data since it is not strings anymore\n",
    "\n",
    "df.loc[:, df.columns != 'city'] = df.loc[:, df.columns != 'city'].apply(pd.to_numeric, \n",
    "                                        errors='coerce').fillna(0, downcast='infer')"
   ]
  },
  {
   "cell_type": "code",
   "execution_count": 124,
   "metadata": {},
   "outputs": [
    {
     "name": "stderr",
     "output_type": "stream",
     "text": [
      "/anaconda3/lib/python3.7/site-packages/ipykernel_launcher.py:17: SettingWithCopyWarning: \n",
      "A value is trying to be set on a copy of a slice from a DataFrame\n",
      "\n",
      "See the caveats in the documentation: http://pandas.pydata.org/pandas-docs/stable/indexing.html#indexing-view-versus-copy\n",
      "/anaconda3/lib/python3.7/site-packages/ipykernel_launcher.py:18: SettingWithCopyWarning: \n",
      "A value is trying to be set on a copy of a slice from a DataFrame\n",
      "\n",
      "See the caveats in the documentation: http://pandas.pydata.org/pandas-docs/stable/indexing.html#indexing-view-versus-copy\n",
      "/anaconda3/lib/python3.7/site-packages/ipykernel_launcher.py:20: SettingWithCopyWarning: \n",
      "A value is trying to be set on a copy of a slice from a DataFrame\n",
      "\n",
      "See the caveats in the documentation: http://pandas.pydata.org/pandas-docs/stable/indexing.html#indexing-view-versus-copy\n",
      "/anaconda3/lib/python3.7/site-packages/ipykernel_launcher.py:21: SettingWithCopyWarning: \n",
      "A value is trying to be set on a copy of a slice from a DataFrame\n",
      "\n",
      "See the caveats in the documentation: http://pandas.pydata.org/pandas-docs/stable/indexing.html#indexing-view-versus-copy\n"
     ]
    }
   ],
   "source": [
    "from scipy import stats\n",
    "\n",
    "z = np.abs(stats.zscore(df.loc[:, df.columns != 'city']))\n",
    "# get indices of outliers\n",
    "outliers= list(np.where(z > 3)[0])\n",
    "# drop them\n",
    "df= df.drop(outliers)\n",
    "\n",
    "#Now for the assignment portion:\n",
    "\n",
    "# As per instructions: Create new feature of population^2\n",
    "df['population^2'] = np.power(df['population'], 2)\n",
    "\n",
    "#as per instructions for robbery and murder: \n",
    "# \"For this model, please use these variables to create categorical \n",
    "# features where values greater than 0 are coded 1, and values equal to 0 are coded 0.\"\" \n",
    "df.murder[df.murder >= 1] = 1\n",
    "df.murder[df.murder < 1] = 0\n",
    "\n",
    "df.robbery[df.robbery >= 1] = 1\n",
    "df.robbery[df.robbery < 1] = 0"
   ]
  },
  {
   "cell_type": "code",
   "execution_count": 121,
   "metadata": {},
   "outputs": [],
   "source": [
    "# 𝑃𝑟𝑜𝑝𝑒𝑟𝑡𝑦𝑐𝑟𝑖𝑚𝑒=𝛼+𝑃𝑜𝑝𝑢𝑙𝑎𝑡𝑖𝑜𝑛+𝑃𝑜𝑝𝑢𝑙𝑎𝑡𝑖𝑜𝑛2+𝑀𝑢𝑟𝑑𝑒𝑟+𝑅𝑜𝑏𝑏𝑒𝑟𝑦\n",
    "#Do a linear regression that deals with ^ "
   ]
  },
  {
   "cell_type": "code",
   "execution_count": 147,
   "metadata": {},
   "outputs": [
    {
     "name": "stdout",
     "output_type": "stream",
     "text": [
      "\n",
      "Coefficients: \n",
      " [[4.40008387e+02 2.48146267e+02 9.48152541e-08]]\n",
      "\n",
      "Intercept: \n",
      " [41.42692661]\n",
      "\n",
      "R-squared:\n",
      "0.5292995374951746\n"
     ]
    }
   ],
   "source": [
    "# Instantiate and fit our model.\n",
    "regr = linear_model.LinearRegression()\n",
    "Y = df['property crime'].values.reshape(-1, 1)\n",
    "X = df[['murder','robbery','population^2']]\n",
    "regr.fit(X, Y)\n",
    "\n",
    "# Inspect the results.\n",
    "print('\\nCoefficients: \\n', regr.coef_)\n",
    "print('\\nIntercept: \\n', regr.intercept_)\n",
    "print('\\nR-squared:')\n",
    "print(regr.score(X, Y))"
   ]
  },
  {
   "cell_type": "code",
   "execution_count": 106,
   "metadata": {},
   "outputs": [],
   "source": [
    "# This shows us that the base rate of property crime (intercept) is about 40 instances, \n",
    "# regardless of the murder, robbery, or population of that city\n",
    "\n",
    "#Murder appears to have the greatest impact of increased property damage\n",
    "#Robbery also has as significant impact but not nearly as much as murder\n",
    "#Population does not appear to affect property crime in any signifcant way\n",
    "\n",
    "#Our R-Sqaured is .986 which means the model explains about 98% of the variance in property crime"
   ]
  },
  {
   "cell_type": "code",
   "execution_count": 126,
   "metadata": {},
   "outputs": [
    {
     "data": {
      "image/png": "[encoded data removed]",
      "text/plain": [
       "<Figure size 432x288 with 1 Axes>"
      ]
     },
     "metadata": {},
     "output_type": "display_data"
    }
   ],
   "source": [
    "predicted = regr.predict(X).ravel()\n",
    "actual = df['property crime']\n",
    "\n",
    "sns.set_style('darkgrid')\n",
    "# Calculate the error, also called the residual.\n",
    "residual = actual - predicted\n",
    "\n",
    "# This looks a bit concerning.\n",
    "plt.hist(residual)\n",
    "plt.title('Residual counts')\n",
    "plt.xlabel('Residual')\n",
    "plt.ylabel('Count')\n",
    "plt.show()"
   ]
  },
  {
   "cell_type": "code",
   "execution_count": 127,
   "metadata": {},
   "outputs": [
    {
     "data": {
      "image/png": "[encoded data removed]",
      "text/plain": [
       "<Figure size 432x288 with 1 Axes>"
      ]
     },
     "metadata": {},
     "output_type": "display_data"
    }
   ],
   "source": [
    "plt.scatter(predicted, residual)\n",
    "plt.xlabel('Predicted')\n",
    "plt.ylabel('Residual')\n",
    "plt.axhline(y=0)\n",
    "plt.title('Residual vs. Predicted')\n",
    "plt.show()\n"
   ]
  },
  {
   "cell_type": "code",
   "execution_count": 148,
   "metadata": {},
   "outputs": [
    {
     "data": {
      "text/html": [
       "<div>\n",
       "<style scoped>\n",
       "    .dataframe tbody tr th:only-of-type {\n",
       "        vertical-align: middle;\n",
       "    }\n",
       "\n",
       "    .dataframe tbody tr th {\n",
       "        vertical-align: top;\n",
       "    }\n",
       "\n",
       "    .dataframe thead th {\n",
       "        text-align: right;\n",
       "    }\n",
       "</style>\n",
       "<table border=\"1\" class=\"dataframe\">\n",
       "  <thead>\n",
       "    <tr style=\"text-align: right;\">\n",
       "      <th></th>\n",
       "      <th>murder</th>\n",
       "      <th>robbery</th>\n",
       "      <th>population^2</th>\n",
       "    </tr>\n",
       "  </thead>\n",
       "  <tbody>\n",
       "    <tr>\n",
       "      <th>murder</th>\n",
       "      <td>1.000</td>\n",
       "      <td>0.302</td>\n",
       "      <td>0.329</td>\n",
       "    </tr>\n",
       "    <tr>\n",
       "      <th>robbery</th>\n",
       "      <td>0.302</td>\n",
       "      <td>1.000</td>\n",
       "      <td>0.184</td>\n",
       "    </tr>\n",
       "    <tr>\n",
       "      <th>population^2</th>\n",
       "      <td>0.329</td>\n",
       "      <td>0.184</td>\n",
       "      <td>1.000</td>\n",
       "    </tr>\n",
       "  </tbody>\n",
       "</table>\n",
       "</div>"
      ],
      "text/plain": [
       "              murder  robbery  population^2\n",
       "murder         1.000    0.302         0.329\n",
       "robbery        0.302    1.000         0.184\n",
       "population^2   0.329    0.184         1.000"
      ]
     },
     "metadata": {},
     "output_type": "display_data"
    }
   ],
   "source": [
    "correlation_matrix = X.corr()\n",
    "display(correlation_matrix)"
   ]
  },
  {
   "cell_type": "code",
   "execution_count": null,
   "metadata": {},
   "outputs": [],
   "source": []
  }
 ],
 "metadata": {
  "kernelspec": {
   "display_name": "Python 3",
   "language": "python",
   "name": "python3"
  },
  "language_info": {
   "codemirror_mode": {
    "name": "ipython",
    "version": 3
   },
   "file_extension": ".py",
   "mimetype": "text/x-python",
   "name": "python",
   "nbconvert_exporter": "python",
   "pygments_lexer": "ipython3",
   "version": "3.7.0"
  }
 },
 "nbformat": 4,
 "nbformat_minor": 2
}
